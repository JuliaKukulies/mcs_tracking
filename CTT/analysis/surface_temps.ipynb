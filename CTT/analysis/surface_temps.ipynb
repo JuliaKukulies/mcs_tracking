{
 "cells": [
  {
   "cell_type": "markdown",
   "metadata": {},
   "source": [
    "## What is the distribution of clear sky temperatures over 3000 m in winter and summer? \n",
    "\n",
    "\n",
    "This script downloads hourly ERA5 surface temperatures, in order to create a histogram for each month and year for temperatures above 3000 m. \n",
    "\n",
    "\n",
    "**Questions to answer**\n",
    "\n",
    "- are the seasons similar to brightness temp distribution or is the signal of clouds clear in the tbb? \n",
    "- where is the overlap between coldest winter temps for clear sky and cloud tops at lower elevations? \n",
    "- what is the overlap between summer lowest (high elevations) and winter highest (low elevation)?"
   ]
  },
  {
   "cell_type": "code",
   "execution_count": 94,
   "metadata": {},
   "outputs": [],
   "source": [
    "## This function downloads ERA5 files \n",
    "\n",
    "def download_era5_surfacetemp(year, month): \n",
    "    import cdsapi                                                                                           \n",
    "    # Open a new Client instance                                                                            \n",
    "    c = cdsapi.Client()         \n",
    "    # output filename \n",
    "    file= 'surfacetemps/era5_'+'_'+ year + month+'.nc'\n",
    "    # Send request (download data)                                                                     \n",
    "    c.retrieve('reanalysis-era5-single-levels', {                                                           \n",
    "            \"product_type\":   \"reanalysis\",                                                                 \n",
    "            \"format\":         \"netcdf\",                                                                     \n",
    "            \"area\":           \"45.00/70.00/25.00/105.00\",                                                   \n",
    "            \"variable\":       '2t',                                                                                              \n",
    "            \"year\":          [year],                                                      \n",
    "            \"month\":         [ month],                \n",
    "            \"day\":             [\"01\" , \"02\",\"03\",\"04\",\"05\",\"06\",\"07\",\"08\",\"09\",\"10\",\"11\",                      \n",
    "                           \"12\",\"13\",\"14\",\"15\",\"16\",\"17\",\"18\",\"19\",\"20\",\"21\",\"22\",                      \n",
    "                           \"23\",\"24\",\"25\",\"26\",\"27\",\"28\",\"29\",\"30\",\"31\" ],                               \n",
    "            \"time\": ['00:00','01:00','02:00',                                                                    \n",
    "            '03:00','04:00','05:00',                                                                    \n",
    "            '06:00','07:00','08:00',                                                                    \n",
    "            '09:00','10:00','11:00',                                                                    \n",
    "            '12:00','13:00','14:00',                                                                    \n",
    "            '15:00','16:00','17:00',                                                                    \n",
    "            '18:00','19:00','20:00',                                                                    \n",
    "            '21:00','22:00','23:00'     \n",
    "            ]\n",
    "                                                                                                   \n",
    "        }, file)                                                                \n",
    "\n",
    "    print(file, 'downloaded and saved.')   \n",
    "    return file\n"
   ]
  },
  {
   "cell_type": "code",
   "execution_count": 48,
   "metadata": {},
   "outputs": [],
   "source": [
    "## import  elevation data \n",
    "\n",
    "import xarray as xr \n",
    "demfile = '/media/juli/Data/projects/master_thesis/Master_thesis/data/DEM_TP/dem_ERA5_format.nc'\n",
    "dem= xr.open_dataarray(demfile)"
   ]
  },
  {
   "cell_type": "code",
   "execution_count": null,
   "metadata": {},
   "outputs": [],
   "source": [
    "# extract information from per month and year \n",
    "import numpy as np\n",
    "import os \n",
    "\n",
    "years = np.arange(2000,2016).astype(str)\n",
    "months = np.arange(1,13).astype(str)\n",
    "\n",
    "# loop through month in year \n",
    "for year in years:\n",
    "    for month in months:\n",
    "        print('start getting ERA5 surface temperatures for', year, month)\n",
    "\n",
    "        # download file \n",
    "        download_era5_surfacetemp(year, month)\n",
    "        # open file \n",
    "        temps= xr.open_dataarray(file)\n",
    "        # extract elevations > 3000 m \n",
    "        temps.data[:, dem.data < 3000] = 999\n",
    "\n",
    "        # save bin counts for file \n",
    "        counts, bins = np.histogram(temps, bins = np.arange(190,320,5))\n",
    "        np.savetxt('surfacetemps/counts_'+ str(year)+ str(month)+'.txt')\n",
    "\n",
    "        # remove file\n",
    "        os.remove(file)\n",
    "        print('info extracted from ', file)"
   ]
  }
 ],
 "metadata": {
  "kernelspec": {
   "display_name": "Python 3",
   "language": "python",
   "name": "python3"
  },
  "language_info": {
   "codemirror_mode": {
    "name": "ipython",
    "version": 3
   },
   "file_extension": ".py",
   "mimetype": "text/x-python",
   "name": "python",
   "nbconvert_exporter": "python",
   "pygments_lexer": "ipython3",
   "version": "3.6.7"
  }
 },
 "nbformat": 4,
 "nbformat_minor": 2
}
