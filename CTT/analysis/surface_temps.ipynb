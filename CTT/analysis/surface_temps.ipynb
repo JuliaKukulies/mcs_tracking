{
 "cells": [
  {
   "cell_type": "markdown",
   "metadata": {},
   "source": [
    "## What is the distribution of clear sky temperatures over 3000 m in winter and summer? \n",
    "\n",
    "\n",
    "This script downloads hourly ERA5 surface temperatures, in order to create a histogram for each month and year for temperatures above 3000 m. \n",
    "\n",
    "\n",
    "**Questions to answer**\n",
    "\n",
    "- are the seasons similar to brightness temp distribution or is the signal of clouds clear in the tbb? \n",
    "- where is the overlap between coldest winter temps for clear sky and cloud tops at lower elevations? \n",
    "- what is the overlap between summer lowest (high elevations) and winter highest (low elevation)?"
   ]
  },
  {
   "cell_type": "code",
   "execution_count": 56,
   "metadata": {},
   "outputs": [],
   "source": [
    "## This function downloads ERA5 files \n",
    "\n",
    "def download_era5_surfacetemp(year, month): \n",
    "    import cdsapi                                                                                           \n",
    "    # Open a new Client instance                                                                            \n",
    "    c = cdsapi.Client()         \n",
    "    # output filename \n",
    "    file= 'surfacetemps/era5_'+'_'+ year + month+'.nc'\n",
    "    # Send request (download data)                                                                     \n",
    "    c.retrieve('reanalysis-era5-single-levels', {                                                           \n",
    "            \"product_type\":   \"reanalysis\",                                                                 \n",
    "            \"format\":         \"netcdf\",                                                                     \n",
    "            \"area\":           \"45.00/70.00/25.00/105.00\",                                                   \n",
    "            \"variable\":       '2t',                                                                                              \n",
    "            \"year\":          [year],                                                      \n",
    "            \"month\":         [ month],                \n",
    "            \"day\":             [\"01\" , \"02\",\"03\",\"04\",\"05\",\"06\",\"07\",\"08\",\"09\",\"10\",\"11\",                      \n",
    "                           \"12\",\"13\",\"14\",\"15\",\"16\",\"17\",\"18\",\"19\",\"20\",\"21\",\"22\",                      \n",
    "                           \"23\",\"24\",\"25\",\"26\",\"27\",\"28\",\"29\",\"30\",\"31\" ],                               \n",
    "            \"time\": ['00:00','01:00','02:00',                                                                    \n",
    "            '03:00','04:00','05:00',                                                                    \n",
    "            '06:00','07:00','08:00',                                                                    \n",
    "            '09:00','10:00','11:00',                                                                    \n",
    "            '12:00','13:00','14:00',                                                                    \n",
    "            '15:00','16:00','17:00',                                                                    \n",
    "            '18:00','19:00','20:00',                                                                    \n",
    "            '21:00','22:00','23:00'     \n",
    "            ]\n",
    "                                                                                                   \n",
    "        }, file)                                                                \n",
    "\n",
    "    print(file, 'downloaded and saved.')   \n",
    "    return file\n"
   ]
  },
  {
   "cell_type": "code",
   "execution_count": 1,
   "metadata": {},
   "outputs": [],
   "source": [
    "## import  elevation data \n",
    "\n",
    "import xarray as xr \n",
    "demfile = '/media/juli/Data/projects/master_thesis/Master_thesis/data/DEM_TP/dem_ERA5_format.nc'\n",
    "dem= xr.open_dataarray(demfile)"
   ]
  },
  {
   "cell_type": "code",
   "execution_count": 105,
   "metadata": {},
   "outputs": [
    {
     "data": {
      "text/plain": [
       "(4574,)"
      ]
     },
     "execution_count": 105,
     "metadata": {},
     "output_type": "execute_result"
    }
   ],
   "source": [
    "dem.data[dem.data>= 3000].shape"
   ]
  },
  {
   "cell_type": "code",
   "execution_count": 3,
   "metadata": {},
   "outputs": [
    {
     "ename": "IndexError",
     "evalue": "too many indices for array",
     "output_type": "error",
     "traceback": [
      "\u001b[0;31m---------------------------------------------------------------------------\u001b[0m",
      "\u001b[0;31mIndexError\u001b[0m                                Traceback (most recent call last)",
      "\u001b[0;32m<ipython-input-3-dd7c98a34a5e>\u001b[0m in \u001b[0;36m<module>\u001b[0;34m\u001b[0m\n\u001b[1;32m      2\u001b[0m \u001b[0mtemps\u001b[0m\u001b[0;34m=\u001b[0m \u001b[0mxr\u001b[0m\u001b[0;34m.\u001b[0m\u001b[0mopen_dataarray\u001b[0m\u001b[0;34m(\u001b[0m\u001b[0mdemfile\u001b[0m\u001b[0;34m)\u001b[0m\u001b[0;34m\u001b[0m\u001b[0;34m\u001b[0m\u001b[0m\n\u001b[1;32m      3\u001b[0m \u001b[0;31m# extract elevations > 3000 m\u001b[0m\u001b[0;34m\u001b[0m\u001b[0;34m\u001b[0m\u001b[0;34m\u001b[0m\u001b[0m\n\u001b[0;32m----> 4\u001b[0;31m \u001b[0mtemps\u001b[0m\u001b[0;34m.\u001b[0m\u001b[0mdata\u001b[0m\u001b[0;34m[\u001b[0m\u001b[0;34m:\u001b[0m\u001b[0;34m,\u001b[0m \u001b[0mdem\u001b[0m\u001b[0;34m.\u001b[0m\u001b[0mdata\u001b[0m \u001b[0;34m<\u001b[0m \u001b[0;36m3000\u001b[0m\u001b[0;34m]\u001b[0m \u001b[0;34m=\u001b[0m \u001b[0;36m999\u001b[0m\u001b[0;34m\u001b[0m\u001b[0;34m\u001b[0m\u001b[0m\n\u001b[0m\u001b[1;32m      5\u001b[0m \u001b[0;34m\u001b[0m\u001b[0m\n\u001b[1;32m      6\u001b[0m \u001b[0;31m# save bin counts for file\u001b[0m\u001b[0;34m\u001b[0m\u001b[0;34m\u001b[0m\u001b[0;34m\u001b[0m\u001b[0m\n",
      "\u001b[0;31mIndexError\u001b[0m: too many indices for array"
     ]
    }
   ],
   "source": [
    "# open file \n",
    "temps= xr.open_dataarray(demfile)\n",
    "# extract elevations > 3000 m \n",
    "temps.data[:, dem.data < 3000] = 999\n",
    "\n",
    "# save bin counts for file \n",
    "counts, bins = np.histogram(temps, bins = np.arange(190,320,5))\n",
    "\n",
    "plt.imshow(dem)"
   ]
  },
  {
   "cell_type": "code",
   "execution_count": 65,
   "metadata": {},
   "outputs": [
    {
     "name": "stderr",
     "output_type": "stream",
     "text": [
      "2020-03-02 09:26:15,536 INFO Welcome to the CDS\n",
      "2020-03-02 09:26:15,537 INFO Sending request to https://cds.climate.copernicus.eu/api/v2/resources/reanalysis-era5-single-levels\n"
     ]
    },
    {
     "name": "stdout",
     "output_type": "stream",
     "text": [
      "start getting ERA5 surface temperatures for 2010 8\n"
     ]
    },
    {
     "name": "stderr",
     "output_type": "stream",
     "text": [
      "2020-03-02 09:26:15,838 INFO Request is queued\n",
      "2020-03-02 09:26:16,879 INFO Request is running\n",
      "2020-03-02 09:27:31,103 INFO Request is completed\n",
      "2020-03-02 09:27:31,105 INFO Downloading http://136.156.132.105/cache-compute-0000/cache/data0/adaptor.mars.internal-1583137576.0597289-27969-7-e5421e25-6c19-4f53-8ce5-ad93a406fe9c.nc to surfacetemps/era5__20108.nc (16.2M)\n",
      "2020-03-02 09:27:35,795 INFO Download rate 3.5M/s   \n"
     ]
    },
    {
     "name": "stdout",
     "output_type": "stream",
     "text": [
      "surfacetemps/era5__20108.nc downloaded and saved.\n"
     ]
    },
    {
     "ename": "NameError",
     "evalue": "name 'file' is not defined",
     "output_type": "error",
     "traceback": [
      "\u001b[0;31m---------------------------------------------------------------------------\u001b[0m",
      "\u001b[0;31mNameError\u001b[0m                                 Traceback (most recent call last)",
      "\u001b[0;32m<ipython-input-65-9b94ca583d22>\u001b[0m in \u001b[0;36m<module>\u001b[0;34m\u001b[0m\n\u001b[1;32m     14\u001b[0m         \u001b[0mdownload_era5_surfacetemp\u001b[0m\u001b[0;34m(\u001b[0m\u001b[0myear\u001b[0m\u001b[0;34m,\u001b[0m \u001b[0mmonth\u001b[0m\u001b[0;34m)\u001b[0m\u001b[0;34m\u001b[0m\u001b[0;34m\u001b[0m\u001b[0m\n\u001b[1;32m     15\u001b[0m         \u001b[0;31m# open file\u001b[0m\u001b[0;34m\u001b[0m\u001b[0;34m\u001b[0m\u001b[0;34m\u001b[0m\u001b[0m\n\u001b[0;32m---> 16\u001b[0;31m         \u001b[0mtemps\u001b[0m\u001b[0;34m=\u001b[0m \u001b[0mxr\u001b[0m\u001b[0;34m.\u001b[0m\u001b[0mopen_dataarray\u001b[0m\u001b[0;34m(\u001b[0m\u001b[0mfile\u001b[0m\u001b[0;34m)\u001b[0m\u001b[0;34m\u001b[0m\u001b[0;34m\u001b[0m\u001b[0m\n\u001b[0m\u001b[1;32m     17\u001b[0m         \u001b[0;31m# extract elevations > 3000 m\u001b[0m\u001b[0;34m\u001b[0m\u001b[0;34m\u001b[0m\u001b[0;34m\u001b[0m\u001b[0m\n\u001b[1;32m     18\u001b[0m         \u001b[0mtemps\u001b[0m\u001b[0;34m.\u001b[0m\u001b[0mdata\u001b[0m\u001b[0;34m[\u001b[0m\u001b[0;34m:\u001b[0m\u001b[0;34m,\u001b[0m \u001b[0mdem\u001b[0m\u001b[0;34m.\u001b[0m\u001b[0mdata\u001b[0m \u001b[0;34m<\u001b[0m \u001b[0;36m3000\u001b[0m\u001b[0;34m]\u001b[0m \u001b[0;34m=\u001b[0m \u001b[0;36m999\u001b[0m\u001b[0;34m\u001b[0m\u001b[0;34m\u001b[0m\u001b[0m\n",
      "\u001b[0;31mNameError\u001b[0m: name 'file' is not defined"
     ]
    }
   ],
   "source": [
    "# extract information from per month and year \n",
    "import numpy as np\n",
    "import os \n",
    "\n",
    "years = np.arange(2000,2016).astype(str)\n",
    "months = np.arange(1,13).astype(str)\n",
    "\n",
    "# loop through month in year \n",
    "for year in ['2010']:\n",
    "    for month in ['8']:\n",
    "        print('start getting ERA5 surface temperatures for', year, month)\n",
    "\n",
    "        # download file \n",
    "        file = download_era5_surfacetemp(year, month)\n",
    "        # open file \n",
    "        temps= xr.open_dataarray(file)\n",
    "        # extract elevations > 3000 m \n",
    "        temps.data[:, dem.data < 3000] = 999\n",
    "\n",
    "        # save bin counts for file \n",
    "        counts, bins = np.histogram(temps.data, bins = np.arange(190,320,5))\n",
    "        np.savetxt('surfacetemps/counts_'+ str(year)+ str(month)+'.txt')\n",
    "\n",
    "        # remove file\n",
    "        os.remove(file)\n",
    "        print('info extracted from ', file)"
   ]
  },
  {
   "cell_type": "markdown",
   "metadata": {},
   "source": [
    "## Look at distributions "
   ]
  },
  {
   "cell_type": "code",
   "execution_count": 5,
   "metadata": {},
   "outputs": [],
   "source": [
    "import glob \n",
    "\n",
    "spring_files =  glob.glob('surfacetemps/counts_????[3..5].txt')\n",
    "\n",
    "autumn_files =  glob.glob('surfacetemps/counts_????1[0..1].txt')\n",
    "\n",
    "summer_files =  glob.glob('surfacetemps/counts_????[6..8].txt')\n",
    "\n",
    "winter_files = glob.glob('surfacetemps/counts_????[1..2].txt') \n",
    "\n",
    "for i in glob.glob('surfacetemps/counts_????12.txt'):\n",
    "    winter_files.append(i)\n",
    "\n",
    "\n",
    "for i in glob.glob('surfacetemps/counts_????9.txt'):\n",
    "    autumn_files.append(i)    \n",
    "    "
   ]
  },
  {
   "cell_type": "code",
   "execution_count": 6,
   "metadata": {},
   "outputs": [],
   "source": [
    "import numpy as np \n",
    "\n",
    "summer= np.zeros((25,))\n",
    "\n",
    "for f in summer_files:\n",
    "    summer+= np.loadtxt(f)\n",
    "    \n",
    "    \n",
    "    \n",
    "winter= np.zeros((25,))\n",
    "\n",
    "for f in winter_files:\n",
    "    winter += np.loadtxt(f)\n",
    "    \n",
    "    \n",
    "autumn= np.zeros((25,))\n",
    "\n",
    "for f in autumn_files:\n",
    "    autumn += np.loadtxt(f)\n",
    "    \n",
    "    \n",
    "spring= np.zeros((25,))\n",
    "\n",
    "for f in spring_files:\n",
    "    spring += np.loadtxt(f)"
   ]
  },
  {
   "cell_type": "code",
   "execution_count": 21,
   "metadata": {},
   "outputs": [
    {
     "data": {
      "image/png": "[encoded data removed]",
      "text/plain": [
       "<Figure size 1080x648 with 1 Axes>"
      ]
     },
     "metadata": {
      "needs_background": "light"
     },
     "output_type": "display_data"
    }
   ],
   "source": [
    "# plot of all surface temperatures > 3000 m \n",
    "import matplotlib.pyplot as plt \n",
    "\n",
    "\n",
    "bins = np.arange(190,320,5)\n",
    "plt.figure(figsize = (15,9))\n",
    "\n",
    "\n",
    "plt.bar(bins[:-1], winter/np.nansum(winter) * 100, width = 5, align= 'edge', edgecolor = 'darkblue', color = 'darkblue' , linewidth= 2.0, alpha= 0.6, label= 'DJF')\n",
    "plt.bar(bins[:-1], summer/np.nansum(summer) * 100, width = 5, align= 'edge', edgecolor = 'mediumvioletred', color = 'white', alpha = 0.3,linewidth= 2.0, label= 'JJA', hatch='/')\n",
    "\n",
    "\n",
    "\n",
    "#plt.bar(bins[:-1], wi/np.nansum(wi) * 100, width = 5, align= 'edge', edgecolor = 'teal', color = 'teal' , alpha = 0.4,linewidth= 2.0, label= 'tbb')\n",
    "#plt.bar(bins[:-1], su/np.nansum(su) * 100, width = 5, align= 'edge', edgecolor = 'salmon', color = 'white', alpha= 0.4, linewidth= 2.0, label= 'tbb', hatch = '/')\n",
    "\n",
    "\n",
    "plt.bar(bins[:-1], autumn/np.nansum(autumn) * 100, width = 5, align= 'edge', edgecolor = 'mediumvioletred', color = 'white', alpha = 0.5,linewidth= 2.0, hatch= '.')\n",
    "\n",
    "plt.bar(bins[:-1], spring/np.nansum(spring) * 100, width = 5, align= 'edge', edgecolor = 'mediumvioletred', color = 'white', alpha = 0.5,linewidth= 2.0, label= 'SON,MAM', hatch= '.')\n",
    "\n",
    "#plt.bar(bins[:-1], autumn/np.nansum(autumn) * 100, width = 5, align= 'edge', edgecolor = 'salmon', color = 'white', alpha = 0.2,linewidth= 2.0, hatch= '.')\n",
    "\n",
    "\n",
    "plt.vlines(235,0,28, colors= 'darkblue')\n",
    "plt.vlines(245,0,28, colors= 'mediumvioletred')\n",
    "plt.vlines(230,0,28, colors= 'black', linestyle= '--')\n",
    "\n",
    "\n",
    "plt.xticks(bins[::2], fontsize= 15)\n",
    "plt.yticks(np.arange(0,30,5), fontsize= 15)\n",
    "plt.legend(fontsize= 20)\n",
    "plt.ylim(0,25)\n",
    "\n",
    "plt.ylabel('Frequency (%)', fontsize = 20)\n",
    "plt.xlabel('surface temperatures (K)', fontsize= 20)\n",
    "plt.savefig('surface_temps_allseasons_above3000m.png')\n",
    "plt.show()\n",
    "\n"
   ]
  }
 ],
 "metadata": {
  "kernelspec": {
   "display_name": "Python 3",
   "language": "python",
   "name": "python3"
  },
  "language_info": {
   "codemirror_mode": {
    "name": "ipython",
    "version": 3
   },
   "file_extension": ".py",
   "mimetype": "text/x-python",
   "name": "python",
   "nbconvert_exporter": "python",
   "pygments_lexer": "ipython3",
   "version": "3.6.7"
  }
 },
 "nbformat": 4,
 "nbformat_minor": 2
}
