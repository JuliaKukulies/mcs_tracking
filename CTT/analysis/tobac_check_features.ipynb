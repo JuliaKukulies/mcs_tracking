{
 "cells": [
  {
   "cell_type": "markdown",
   "metadata": {},
   "source": [
    "# Tobac tracking of cloud systems based on IR brightness temperatures\n",
    "\n",
    "Example for feature detection and segmentation based on merged IR brightness temperatures in 30 min timesteps: https://cmr.earthdata.nasa.gov/search/concepts/C1432254058-GES_DISC.html\n",
    "\n",
    "I am checking here whether all features that are detected can be found in segmentation mask. This depends on the segmentation method chosen: If the segmentation threshold is chosen to be smaller or equal to one of the threshold used for the feature detection, not all features can be found in the segmentation mask. "
   ]
  },
  {
   "cell_type": "code",
   "execution_count": 1,
   "metadata": {},
   "outputs": [],
   "source": [
    "from pathlib import Path\n",
    "import numpy as np \n",
    "import xarray as xr\n",
    "import matplotlib.pyplot as plt\n",
    "import tobac\n",
    "import iris\n",
    "import pandas as pd\n",
    "%matplotlib inline"
   ]
  },
  {
   "cell_type": "markdown",
   "metadata": {},
   "source": [
    "## Read in one month of  30 min IR brightness temperatures with 0.1 deg spatial resolution which is used here for the cloud feature detection \n"
   ]
  },
  {
   "cell_type": "code",
   "execution_count": 2,
   "metadata": {},
   "outputs": [],
   "source": [
    "# aggregated file for August 2016 \n",
    "tbb_file = '/media/juli/Data/projects/data/satellite_data/ncep/ctt/2016/merg_201608.nc4'\n",
    "tbb=iris.load_cube(tbb_file, 'brightness_temperature')"
   ]
  },
  {
   "cell_type": "markdown",
   "metadata": {},
   "source": [
    "# 1. Compare feature IDs with numbers in segmentation mask when segmentation threshold is NOT used for feature detection"
   ]
  },
  {
   "cell_type": "markdown",
   "metadata": {},
   "source": [
    "## Parameters"
   ]
  },
  {
   "cell_type": "code",
   "execution_count": 3,
   "metadata": {},
   "outputs": [],
   "source": [
    "# temporal and spatial resolution (in seconds and meter)\n",
    "dt= 1800\n",
    "dxy = 14126.0\n",
    "\n",
    "### Feature detection ###\n",
    "parameters_features={}\n",
    "parameters_features['position_threshold']='weighted_diff' # diff between specific value and threshold for weighting when finding the center location (instead of just mean lon/lat)\n",
    "parameters_features['min_distance']=0 # minimum distance between features \n",
    "parameters_features['sigma_threshold']=0.5 # for slightly smoothing (gaussian filter)\n",
    "parameters_features['n_erosion_threshold']=0 # pixel erosion (for more robust results)\n",
    "parameters_features['threshold']=[230, 225, 220, 215, 210, 205, 200] #step-wise threshold for feature detection \n",
    "parameters_features['n_min_threshold']=250 # minimum nr of contiguous pixels for thresholds\n",
    "parameters_features['target']= 'minimum'\n",
    "\n",
    "\n",
    "### Segmentation ###\n",
    "parameters_segmentation={}\n",
    "parameters_segmentation['target'] = 'minimum'\n",
    "parameters_segmentation['method']='watershed'\n",
    "parameters_segmentation['threshold']=245  # threshold value until which the area is taken into account (detected feature is diluted with neighboring cells below this threshold)\n",
    "\n",
    "# directory to save output in \n",
    "savedir = Path('/media/juli/Data/projects/mcs_tracking/CTT/analysis/')"
   ]
  },
  {
   "cell_type": "markdown",
   "metadata": {},
   "source": [
    "## Feature detection and Segmentation\n"
   ]
  },
  {
   "cell_type": "code",
   "execution_count": null,
   "metadata": {},
   "outputs": [],
   "source": [
    "features=tobac.feature_detection_multithreshold(tbb,dxy,**parameters_features)\n",
    "features.to_hdf(savedir / 'Features_201608.h5', 'table')\n",
    "\n",
    "\n",
    "Mask, Features_cells = tobac.segmentation_2D(features, tbb,\n",
    "                                                             dxy, **parameters_segmentation)\n",
    "\n",
    "iris.save([Mask], savedir/ 'Mask_Segmentation_201608.nc',zlib=True,complevel=4)                \n",
    "Features_cells.to_hdf(savedir /'Features_cells_201608.h5','table')"
   ]
  },
  {
   "cell_type": "code",
   "execution_count": 4,
   "metadata": {},
   "outputs": [
    {
     "data": {
      "text/html": [
       "<div>\n",
       "<style scoped>\n",
       "    .dataframe tbody tr th:only-of-type {\n",
       "        vertical-align: middle;\n",
       "    }\n",
       "\n",
       "    .dataframe tbody tr th {\n",
       "        vertical-align: top;\n",
       "    }\n",
       "\n",
       "    .dataframe thead th {\n",
       "        text-align: right;\n",
       "    }\n",
       "</style>\n",
       "<table border=\"1\" class=\"dataframe\">\n",
       "  <thead>\n",
       "    <tr style=\"text-align: right;\">\n",
       "      <th></th>\n",
       "      <th>frame</th>\n",
       "      <th>idx</th>\n",
       "      <th>hdim_1</th>\n",
       "      <th>hdim_2</th>\n",
       "      <th>num</th>\n",
       "      <th>threshold_value</th>\n",
       "      <th>feature</th>\n",
       "      <th>time</th>\n",
       "      <th>timestr</th>\n",
       "      <th>latitude</th>\n",
       "      <th>longitude</th>\n",
       "      <th>ncells</th>\n",
       "    </tr>\n",
       "  </thead>\n",
       "  <tbody>\n",
       "    <tr>\n",
       "      <th>0</th>\n",
       "      <td>0</td>\n",
       "      <td>14</td>\n",
       "      <td>27.917526</td>\n",
       "      <td>121.580201</td>\n",
       "      <td>221</td>\n",
       "      <td>230</td>\n",
       "      <td>1</td>\n",
       "      <td>2016-08-01</td>\n",
       "      <td>2016-08-01 00:00:00</td>\n",
       "      <td>17.741753</td>\n",
       "      <td>72.208021</td>\n",
       "      <td>584</td>\n",
       "    </tr>\n",
       "    <tr>\n",
       "      <th>1</th>\n",
       "      <td>0</td>\n",
       "      <td>43</td>\n",
       "      <td>68.603300</td>\n",
       "      <td>228.347309</td>\n",
       "      <td>117</td>\n",
       "      <td>230</td>\n",
       "      <td>2</td>\n",
       "      <td>2016-08-01</td>\n",
       "      <td>2016-08-01 00:00:00</td>\n",
       "      <td>21.810330</td>\n",
       "      <td>82.884729</td>\n",
       "      <td>358</td>\n",
       "    </tr>\n",
       "    <tr>\n",
       "      <th>2</th>\n",
       "      <td>0</td>\n",
       "      <td>61</td>\n",
       "      <td>95.435984</td>\n",
       "      <td>108.477185</td>\n",
       "      <td>110</td>\n",
       "      <td>230</td>\n",
       "      <td>3</td>\n",
       "      <td>2016-08-01</td>\n",
       "      <td>2016-08-01 00:00:00</td>\n",
       "      <td>24.493599</td>\n",
       "      <td>70.897716</td>\n",
       "      <td>295</td>\n",
       "    </tr>\n",
       "    <tr>\n",
       "      <th>3</th>\n",
       "      <td>0</td>\n",
       "      <td>62</td>\n",
       "      <td>93.543377</td>\n",
       "      <td>303.175113</td>\n",
       "      <td>117</td>\n",
       "      <td>230</td>\n",
       "      <td>4</td>\n",
       "      <td>2016-08-01</td>\n",
       "      <td>2016-08-01 00:00:00</td>\n",
       "      <td>24.304338</td>\n",
       "      <td>90.367509</td>\n",
       "      <td>191</td>\n",
       "    </tr>\n",
       "    <tr>\n",
       "      <th>4</th>\n",
       "      <td>0</td>\n",
       "      <td>34</td>\n",
       "      <td>52.440272</td>\n",
       "      <td>97.101160</td>\n",
       "      <td>119</td>\n",
       "      <td>225</td>\n",
       "      <td>5</td>\n",
       "      <td>2016-08-01</td>\n",
       "      <td>2016-08-01 00:00:00</td>\n",
       "      <td>20.194027</td>\n",
       "      <td>69.760116</td>\n",
       "      <td>933</td>\n",
       "    </tr>\n",
       "  </tbody>\n",
       "</table>\n",
       "</div>"
      ],
      "text/plain": [
       "   frame  idx     hdim_1      hdim_2  num  threshold_value  feature  \\\n",
       "0      0   14  27.917526  121.580201  221              230        1   \n",
       "1      0   43  68.603300  228.347309  117              230        2   \n",
       "2      0   61  95.435984  108.477185  110              230        3   \n",
       "3      0   62  93.543377  303.175113  117              230        4   \n",
       "4      0   34  52.440272   97.101160  119              225        5   \n",
       "\n",
       "        time              timestr   latitude  longitude  ncells  \n",
       "0 2016-08-01  2016-08-01 00:00:00  17.741753  72.208021     584  \n",
       "1 2016-08-01  2016-08-01 00:00:00  21.810330  82.884729     358  \n",
       "2 2016-08-01  2016-08-01 00:00:00  24.493599  70.897716     295  \n",
       "3 2016-08-01  2016-08-01 00:00:00  24.304338  90.367509     191  \n",
       "4 2016-08-01  2016-08-01 00:00:00  20.194027  69.760116     933  "
      ]
     },
     "execution_count": 4,
     "metadata": {},
     "output_type": "execute_result"
    }
   ],
   "source": [
    "# read in file for detected features \n",
    "savedir = Path('/media/juli/Data/projects/data/satellite_data/ncep/ctt/Save/tbbtracking/')\n",
    "features = pd.read_hdf(savedir/ 'Features_cells_201608.h5', 'table')\n",
    "features.head()"
   ]
  },
  {
   "cell_type": "code",
   "execution_count": 5,
   "metadata": {},
   "outputs": [
    {
     "data": {
      "text/plain": [
       "<matplotlib.collections.QuadMesh at 0x7f014e6d9668>"
      ]
     },
     "execution_count": 5,
     "metadata": {},
     "output_type": "execute_result"
    },
    {
     "data": {
      "image/png": "[encoded data removed]",
      "text/plain": [
       "<Figure size 432x288 with 2 Axes>"
      ]
     },
     "metadata": {
      "needs_background": "light"
     },
     "output_type": "display_data"
    }
   ],
   "source": [
    "# read in file for mask \n",
    "mask = xr.open_dataset(savedir/ 'Mask_Segmentation_201608.nc')\n",
    "segmask= mask.segmentation_mask\n",
    "\n",
    "# plot first timestep of segmentation mask\n",
    "segmask.isel(time=0).plot(x=\"lon\", y=\"lat\")"
   ]
  },
  {
   "cell_type": "markdown",
   "metadata": {},
   "source": [
    "## Comparison"
   ]
  },
  {
   "cell_type": "code",
   "execution_count": 6,
   "metadata": {},
   "outputs": [
    {
     "name": "stdout",
     "output_type": "stream",
     "text": [
      "99.52267303102626\n"
     ]
    }
   ],
   "source": [
    "# check how many features are not in mask \n",
    "\n",
    "array = xr.DataArray(features.feature.values, dims=\"x\")\n",
    "count= array.isin(segmask).sum()\n",
    "print(count.values/ features.feature.values.shape[0] * 100)"
   ]
  },
  {
   "cell_type": "markdown",
   "metadata": {},
   "source": [
    "**-> almost, but not exactly 100 % of the feature IDs exist in segmentation mask!**"
   ]
  },
  {
   "cell_type": "markdown",
   "metadata": {},
   "source": [
    "# 2. Compare feature IDs with numbers in segmentation mask when segmentation threshold is also used for feature detection"
   ]
  },
  {
   "cell_type": "markdown",
   "metadata": {},
   "source": [
    "## Parameters "
   ]
  },
  {
   "cell_type": "code",
   "execution_count": 7,
   "metadata": {},
   "outputs": [],
   "source": [
    "# temporal and spatial resolution (in seconds and meter)\n",
    "dt= 1800\n",
    "dxy = 14126.0\n",
    "\n",
    "### Feature detection ###\n",
    "parameters_features={}\n",
    "parameters_features['position_threshold']='weighted_diff' # diff between specific value and threshold for weighting when finding the center location (instead of just mean lon/lat)\n",
    "parameters_features['min_distance']=0 # minimum distance between features \n",
    "parameters_features['sigma_threshold']=0.5 # for slightly smoothing (gaussian filter)\n",
    "parameters_features['n_erosion_threshold']=0 # pixel erosion (for more robust results)\n",
    "parameters_features['threshold']=[221, 218, 216, 214, 212, 210, 205, 200,195, 190] #step-wise threshold for feature detection \n",
    "parameters_features['n_min_threshold']=250 # minimum nr of contiguous pixels for thresholds\n",
    "parameters_features['target']= 'minimum'\n",
    "\n",
    "### Segmentation ###\n",
    "parameters_segmentation={}\n",
    "parameters_segmentation['target'] = 'minimum'\n",
    "parameters_segmentation['method']='watershed'\n",
    "parameters_segmentation['threshold']=221  # threshold value until which the area is taken into account (detected feature is diluted with neighboring cells below this threshold)\n",
    "\n",
    "# directory to save output in \n",
    "savedir = Path('/media/juli/Data/projects/mcs_tracking/CTT/analysis/')"
   ]
  },
  {
   "cell_type": "markdown",
   "metadata": {},
   "source": [
    "## Feature detection and segmentation "
   ]
  },
  {
   "cell_type": "code",
   "execution_count": null,
   "metadata": {},
   "outputs": [],
   "source": [
    "features=tobac.feature_detection_multithreshold(tbb,dxy,**parameters_features)\n",
    "features.to_hdf(savedir / 'Features_201608.h5', 'table')\n",
    "\n",
    "\n",
    "Mask, Features_cells = tobac.segmentation_2D(features, tbb,\n",
    "                                                             dxy, **parameters_segmentation)\n",
    "\n",
    "iris.save([Mask], savedir/ 'Mask_Segmentation_201608.nc',zlib=True,complevel=4)                \n",
    "Features_cells.to_hdf(savedir /'Features_cells_201608.h5','table')"
   ]
  },
  {
   "cell_type": "code",
   "execution_count": 8,
   "metadata": {},
   "outputs": [
    {
     "data": {
      "text/html": [
       "<div>\n",
       "<style scoped>\n",
       "    .dataframe tbody tr th:only-of-type {\n",
       "        vertical-align: middle;\n",
       "    }\n",
       "\n",
       "    .dataframe tbody tr th {\n",
       "        vertical-align: top;\n",
       "    }\n",
       "\n",
       "    .dataframe thead th {\n",
       "        text-align: right;\n",
       "    }\n",
       "</style>\n",
       "<table border=\"1\" class=\"dataframe\">\n",
       "  <thead>\n",
       "    <tr style=\"text-align: right;\">\n",
       "      <th></th>\n",
       "      <th>frame</th>\n",
       "      <th>idx</th>\n",
       "      <th>hdim_1</th>\n",
       "      <th>hdim_2</th>\n",
       "      <th>num</th>\n",
       "      <th>threshold_value</th>\n",
       "      <th>feature</th>\n",
       "      <th>time</th>\n",
       "      <th>timestr</th>\n",
       "      <th>latitude</th>\n",
       "      <th>longitude</th>\n",
       "    </tr>\n",
       "  </thead>\n",
       "  <tbody>\n",
       "    <tr>\n",
       "      <th>0</th>\n",
       "      <td>0</td>\n",
       "      <td>9</td>\n",
       "      <td>10.141983</td>\n",
       "      <td>594.484056</td>\n",
       "      <td>260</td>\n",
       "      <td>221</td>\n",
       "      <td>1</td>\n",
       "      <td>2016-08-01</td>\n",
       "      <td>2016-08-01 00:00:00</td>\n",
       "      <td>15.964198</td>\n",
       "      <td>119.498405</td>\n",
       "    </tr>\n",
       "    <tr>\n",
       "      <th>1</th>\n",
       "      <td>0</td>\n",
       "      <td>26</td>\n",
       "      <td>41.563251</td>\n",
       "      <td>326.280868</td>\n",
       "      <td>262</td>\n",
       "      <td>221</td>\n",
       "      <td>2</td>\n",
       "      <td>2016-08-01</td>\n",
       "      <td>2016-08-01 00:00:00</td>\n",
       "      <td>19.106325</td>\n",
       "      <td>92.678088</td>\n",
       "    </tr>\n",
       "    <tr>\n",
       "      <th>2</th>\n",
       "      <td>0</td>\n",
       "      <td>57</td>\n",
       "      <td>105.120764</td>\n",
       "      <td>213.045495</td>\n",
       "      <td>293</td>\n",
       "      <td>221</td>\n",
       "      <td>3</td>\n",
       "      <td>2016-08-01</td>\n",
       "      <td>2016-08-01 00:00:00</td>\n",
       "      <td>25.462077</td>\n",
       "      <td>81.354548</td>\n",
       "    </tr>\n",
       "    <tr>\n",
       "      <th>3</th>\n",
       "      <td>0</td>\n",
       "      <td>96</td>\n",
       "      <td>69.121445</td>\n",
       "      <td>299.326966</td>\n",
       "      <td>289</td>\n",
       "      <td>218</td>\n",
       "      <td>4</td>\n",
       "      <td>2016-08-01</td>\n",
       "      <td>2016-08-01 00:00:00</td>\n",
       "      <td>21.862145</td>\n",
       "      <td>89.982696</td>\n",
       "    </tr>\n",
       "    <tr>\n",
       "      <th>4</th>\n",
       "      <td>0</td>\n",
       "      <td>118</td>\n",
       "      <td>42.752661</td>\n",
       "      <td>306.182018</td>\n",
       "      <td>253</td>\n",
       "      <td>216</td>\n",
       "      <td>5</td>\n",
       "      <td>2016-08-01</td>\n",
       "      <td>2016-08-01 00:00:00</td>\n",
       "      <td>19.225266</td>\n",
       "      <td>90.668203</td>\n",
       "    </tr>\n",
       "  </tbody>\n",
       "</table>\n",
       "</div>"
      ],
      "text/plain": [
       "   frame  idx      hdim_1      hdim_2  num  threshold_value  feature  \\\n",
       "0      0    9   10.141983  594.484056  260              221        1   \n",
       "1      0   26   41.563251  326.280868  262              221        2   \n",
       "2      0   57  105.120764  213.045495  293              221        3   \n",
       "3      0   96   69.121445  299.326966  289              218        4   \n",
       "4      0  118   42.752661  306.182018  253              216        5   \n",
       "\n",
       "        time              timestr   latitude   longitude  \n",
       "0 2016-08-01  2016-08-01 00:00:00  15.964198  119.498405  \n",
       "1 2016-08-01  2016-08-01 00:00:00  19.106325   92.678088  \n",
       "2 2016-08-01  2016-08-01 00:00:00  25.462077   81.354548  \n",
       "3 2016-08-01  2016-08-01 00:00:00  21.862145   89.982696  \n",
       "4 2016-08-01  2016-08-01 00:00:00  19.225266   90.668203  "
      ]
     },
     "execution_count": 8,
     "metadata": {},
     "output_type": "execute_result"
    }
   ],
   "source": [
    "# read in file for detected features \n",
    "features = pd.read_hdf(savedir/ 'Features_201608.h5', 'table')\n",
    "features.head()"
   ]
  },
  {
   "cell_type": "markdown",
   "metadata": {},
   "source": [
    "## Comparison"
   ]
  },
  {
   "cell_type": "code",
   "execution_count": 9,
   "metadata": {},
   "outputs": [
    {
     "data": {
      "text/plain": [
       "<matplotlib.collections.QuadMesh at 0x7f014e541390>"
      ]
     },
     "execution_count": 9,
     "metadata": {},
     "output_type": "execute_result"
    },
    {
     "data": {
      "image/png": "[encoded data removed]",
      "text/plain": [
       "<Figure size 432x288 with 2 Axes>"
      ]
     },
     "metadata": {
      "needs_background": "light"
     },
     "output_type": "display_data"
    }
   ],
   "source": [
    "# read in file for mask \n",
    "mask = xr.open_dataset(Path('/media/juli/Data/projects/data/satellite_data/ncep/ctt/Save/tbbtracking_revised/Mask_Segmentation_20160808.nc'))\n",
    "segmask= mask.segmentation_mask\n",
    "\n",
    "# plot first timestep of segmentation mask\n",
    "segmask.isel(time=0).plot(x=\"lon\", y=\"lat\")"
   ]
  },
  {
   "cell_type": "code",
   "execution_count": 37,
   "metadata": {},
   "outputs": [
    {
     "name": "stdout",
     "output_type": "stream",
     "text": [
      "93.89055472263868\n"
     ]
    }
   ],
   "source": [
    "# check how many features are not in mask \n",
    "\n",
    "array = xr.DataArray(features.feature.values, dims=\"x\")\n",
    "count= array.isin(segmask).sum()\n",
    "print(count.values/ features.feature.values.shape[0] * 100)"
   ]
  },
  {
   "cell_type": "markdown",
   "metadata": {},
   "source": [
    "**-> only 93 % of the feature IDs can be found in the segmentation mask!**"
   ]
  }
 ],
 "metadata": {
  "kernelspec": {
   "display_name": "Python 3",
   "language": "python",
   "name": "python3"
  },
  "language_info": {
   "codemirror_mode": {
    "name": "ipython",
    "version": 3
   },
   "file_extension": ".py",
   "mimetype": "text/x-python",
   "name": "python",
   "nbconvert_exporter": "python",
   "pygments_lexer": "ipython3",
   "version": "3.6.7"
  }
 },
 "nbformat": 4,
 "nbformat_minor": 2
}
