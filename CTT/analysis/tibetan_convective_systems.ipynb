{
 "cells": [
  {
   "cell_type": "markdown",
   "metadata": {},
   "source": [
    "## Tibetan convective systems \n",
    "\n",
    "Task: Filter out only convective cells which are (at least partly) over the TP \n",
    "\n",
    "\n",
    "\n"
   ]
  },
  {
   "cell_type": "code",
   "execution_count": 3,
   "metadata": {},
   "outputs": [],
   "source": [
    "import numpy as np \n",
    "import xarray as xr \n",
    "import warnings\n",
    "warnings.simplefilter(action = \"ignore\", category = RuntimeWarning)"
   ]
  },
  {
   "cell_type": "code",
   "execution_count": 5,
   "metadata": {},
   "outputs": [],
   "source": [
    "## elevation mask \n",
    "\n",
    "\n",
    "dem = '/media/juli/Data/projects/data/elevation/elevation_600x350.nc'\n",
    "elevations = xr.open_dataarray(dem)\n",
    " \n",
    "# mask as coordinates \n",
    "dem_mask = elevations.where(elevations >= 3000)\n",
    "dem_mask.coords['mask'] = (('lon', 'lat'), dem_mask)\n"
   ]
  },
  {
   "cell_type": "code",
   "execution_count": null,
   "metadata": {},
   "outputs": [],
   "source": [
    "\n",
    "\n",
    "removed = 0 \n",
    "\n",
    "# loop through cells \n",
    "for cell in np.unique(tracks.cell.values):\n",
    "    subset = tracks[tracks.cell == cell]\n",
    "    print('checking heavy rain cores for cell:', cell, subset.shape)\n",
    "    tp_flag = 0 \n",
    "    # loop through timesteps of features for specific cell \n",
    "    for f in subset.frame.values: \n",
    "        # idx is the timestep index for respective timestep or mask file \n",
    "        idx = f\n",
    "    \n",
    "        # open corresponding precip and mask file \n",
    "        year = subset.time.values[0].year \n",
    "        month = subset.time.values[0].month\n",
    "        if len(str(month))== 1: \n",
    "            month= '0' + str(month)\n",
    "            \n",
    "        # check whether segmented feature is in area above 3000 m \n",
    "        maskfile = '/media/juli/Data/projects/data/satellite_data/ncep/ctt/Save/tbbtracking/Mask_Segmentation_'+str(year) + str(month) + '.nc\n",
    "        mask = xr.open_dataarray(maskfile)\n",
    "\n",
    " \n",
    "        # get right timestep frames \n",
    "        seg= mask[idx,:,:]\n",
    "\n",
    "        # get feature ID for frame \n",
    "        featureid= subset.feature[subset.frame== f].values[0]\n",
    "        \n",
    "        # create mask as coordinates \n",
    "        seg_mask = seg.where(seg == featureid)\n",
    "        seg_mask.coords['mask'] = (('lat', 'lon'), seg_mask)\n",
    "        # apply mask on precip data to extract precip values for feature in cell \n",
    "        elevation_values = dem_mask.where(seg_mask.coords['mask'].values > 1)\n",
    "        arr= elevation_values.values.flatten()\n",
    "        values = arr[~np.isnan(arr)]\n",
    "          \n",
    "        mountain_features = values[values >=3000].shape[0]\n",
    "        if rain_features >= 1: \n",
    "            tp_flag += mountain_features\n",
    "\n",
    "    if tp_flag ==  0: \n",
    "        # remove corresponding cell from track dataframe \n",
    "        tracks = tracks.drop(tracks[tracks.cell == cell].index)\n",
    "        print(cell, ' removed.')\n",
    "        removed += 1 \n",
    "    else:\n",
    "        print('heavy rain core present in:  ', cell, rain_features)\n",
    "    \n",
    "tracks.to_hdf(os.path.join(savedir,'Tracks_2001_TPflag.h5'),'table')    "
   ]
  }
 ],
 "metadata": {
  "kernelspec": {
   "display_name": "Python 3",
   "language": "python",
   "name": "python3"
  },
  "language_info": {
   "codemirror_mode": {
    "name": "ipython",
    "version": 3
   },
   "file_extension": ".py",
   "mimetype": "text/x-python",
   "name": "python",
   "nbconvert_exporter": "python",
   "pygments_lexer": "ipython3",
   "version": "3.6.7"
  }
 },
 "nbformat": 4,
 "nbformat_minor": 2
}
