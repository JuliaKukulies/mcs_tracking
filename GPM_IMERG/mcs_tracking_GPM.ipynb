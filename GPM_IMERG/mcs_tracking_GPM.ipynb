{
 "cells": [
  {
   "cell_type": "markdown",
   "metadata": {},
   "source": [
    "## MCS tracking GPM\n",
    "\n",
    "This notebook tracks MCS in high resolution GPM data (30 min, 0.1 x 0.1 grid) based on contiguous precipitation pixels with a precipitation intensity, area and time persistence threshold"
   ]
  },
  {
   "cell_type": "code",
   "execution_count": 387,
   "metadata": {},
   "outputs": [],
   "source": [
    "import numpy as np\n",
    "import os\n",
    "import glob \n",
    "import random \n",
    "\n",
    "import matplotlib.pyplot as plt\n",
    "import cartopy\n",
    "\n",
    "import scipy\n",
    "from scipy import ndimage\n",
    "from scipy.ndimage import label, generate_binary_structure\n",
    "import matplotlib.pyplot as plt\n",
    "\n",
    "from netCDF4 import Dataset\n",
    "from collections import Counter "
   ]
  },
  {
   "cell_type": "code",
   "execution_count": 360,
   "metadata": {
    "scrolled": true
   },
   "outputs": [],
   "source": [
    "# read in netCDF file and save to numpy array \n",
    "\n",
    "working_dir= '/media/juli/Elements/GPM_IMERG_F_v05/GPM_finalrun/'\n",
    "filename= '3B-HHR.MS.MRG.3IMERG.20180630-S230000-E232959.1380.V05B.HDF5.nc4'\n",
    "file= working_dir + filename\n",
    "\n",
    "\n",
    "\n",
    "# This function reads in netcdf files and returns numpy arrays with precipitation for the specific time step and respective lon and lat grids\n",
    "\n",
    "def read_in_netcdf(file):\n",
    "    date= filename[21:29]\n",
    "    time= filename[31:35]\n",
    "    dataset = Dataset(file)\n",
    "    #print(dataset.variables.keys())\n",
    "    \n",
    "    time_slot= np.array(dataset[\"precipitationCal\"])\n",
    "    lon= np.array(dataset[\"lon\"])\n",
    "    lat= np.array(dataset[\"lat\"])\n",
    "    # fill lat and lon values over entire grid \n",
    "    lons= np.repeat(np.expand_dims(lon, axis= 1), np.shape(lat)[0], axis= 1 )\n",
    "    lats= np.repeat(np.expand_dims(lat, axis= 0), np.shape(lon)[0], axis= 0)\n",
    "\n",
    "    return time_slot, lons, lats\n",
    "    "
   ]
  },
  {
   "cell_type": "code",
   "execution_count": 280,
   "metadata": {},
   "outputs": [],
   "source": [
    "# set values below 3 km to nan, to only include the real plateau (optional)\n",
    "\n",
    "\n",
    "\n"
   ]
  },
  {
   "cell_type": "code",
   "execution_count": 361,
   "metadata": {},
   "outputs": [],
   "source": [
    "# thresholds \n",
    "\n",
    "threshold_prec= 7 # rain rate mm/hr \n",
    "threshold_area= 10 # number of contigous pixels\n",
    "threshold_timesteps= 6 #6 timesteps = 3 hr \n",
    "threshold_overlap = 1 # number of pixels for overlap \n",
    "s = generate_binary_structure(2,2) # structure element which defined what type of connections are allowed in cluster finding,here: diagonal connections \n",
    "\n"
   ]
  },
  {
   "cell_type": "code",
   "execution_count": 380,
   "metadata": {},
   "outputs": [],
   "source": [
    "## This function identifies MCS in one time slot based on a threshold rain rate and a threshold value for contiguous area\n",
    "# returns following arrays for each time slot:\n",
    "#  mcs : absolute rain rates \n",
    "#  mcs_labels: numbers assigned for each MCS \n",
    "# number_of_mcs: scalar containing the total number of detected mcs \n",
    "\n",
    "def mcs_identification(time_slot, threshold_prec, threshold_area, s ):\n",
    "    \n",
    "    prec_loc= np.where(time_slot > threshold_prec)\n",
    "    ind_row= prec_loc[0]\n",
    "    ind_col= prec_loc[1]\n",
    "\n",
    "    im= time_slot\n",
    "    im[ im < 7 ]=0\n",
    "    potential_mcs, number_mcs = ndimage.label(im, structure = s) # array with nr. labels of contigous pixels above threshold and nr. of total identified MCS \n",
    "\n",
    "    x= potential_mcs[potential_mcs > 0 ]\n",
    "    unique, counts = np.unique(x, return_counts=True)\n",
    "    labels= np.asarray((unique, counts))[0]\n",
    "    selection= np.asarray((unique, counts))[1] # np.array which contains all the assigned labels for areas which fulfill intensity threshold\n",
    "    large = labels[selection > threshold_area]\n",
    "\n",
    "    # create mask for pixel areas which fulfill area threshold \n",
    "    mask= np.isin(potential_mcs,large )\n",
    "    # set all pixels which do not fulfill criteria to 0 in label matrix and rain rate matrix \n",
    "    potential_mcs[mask == False ]= 0\n",
    "    time_slot[mask== False ]= 0 \n",
    "    mcs = time_slot\n",
    "    mcs_labels= potential_mcs\n",
    "    # updated number of detected MCS \n",
    "    number_mcs = np.shape(np.unique(potential_mcs))[0]-1\n",
    "    \n",
    "    return mcs, mcs_labels, number_mcs "
   ]
  },
  {
   "cell_type": "code",
   "execution_count": 381,
   "metadata": {},
   "outputs": [],
   "source": [
    "# call function for reading in and identifying MCS in first timeslot \n",
    "time_slot, lons, lats = read_in_netcdf(file)\n",
    "mcs, mcs_labels, number_mcs= mcs_identification(time_slot,threshold_prec,threshold_area, s)"
   ]
  },
  {
   "cell_type": "code",
   "execution_count": 382,
   "metadata": {},
   "outputs": [],
   "source": [
    "filename_next= '3B-HHR.MS.MRG.3IMERG.20180630-S233000-E235959.1410.V05B.HDF5.nc4'\n",
    "file_next= working_dir + filename_next\n",
    "\n",
    "# read in next timestep \n",
    "time_slot_next, lons__next, lats_next = read_in_netcdf(file_next)\n",
    "# identify MCS in next timestep \n",
    "mcs_next, mcs_labels_next, number_mcs_next = mcs_identification(time_slot_next,threshold_prec,threshold_area, s)\n",
    "\n",
    "# compare timestep to next timestep and track systems with overlap (through assigning same label)\n",
    "\n"
   ]
  },
  {
   "cell_type": "code",
   "execution_count": 383,
   "metadata": {},
   "outputs": [
    {
     "name": "stdout",
     "output_type": "stream",
     "text": [
      "number MCS t1:   4 number MCS t2:   6\n",
      "number of potential MCS pixels:   148 in next timestep:  198\n",
      "unique MCS labels t1: [ 4  5 24 26] unique MCS labels t2: [ 1  4 19 25 26 29]\n"
     ]
    }
   ],
   "source": [
    "# comaprison between MCS identifications in both timeslots \n",
    "mcs_loc = np.nonzero(mcs_labels)\n",
    "mcs_next_loc = np.nonzero(mcs_labels_next)\n",
    "print('number MCS t1:  ', number_mcs, 'number MCS t2:  ', number_mcs_next)\n",
    "print('number of potential MCS pixels:  ', np.shape(mcs_loc)[1], 'in next timestep: ', np.shape(mcs_next_loc)[1]  )\n",
    "print('unique MCS labels t1:', np.unique(mcs_labels[mcs_labels > 0 ]), 'unique MCS labels t2:', np.unique(mcs_labels_next[mcs_labels_next > 0 ]) )"
   ]
  },
  {
   "cell_type": "code",
   "execution_count": 386,
   "metadata": {},
   "outputs": [],
   "source": [
    "## This function compares identified MCS in the next step with MCS identified in the previous timestep\n",
    "# and tracks the movement based on an overlap criterium \n",
    "# returns mcs_labels_next: updated array containing unique MCS labels (with same label for those pixel groups which have been identified belonging to the same system )\n",
    "\n",
    "\n",
    "\n",
    "def update_labels(mcs_labels, mcs_labels_next):\n",
    "    # set containing all labels with unique mcs identification numbers        \n",
    "    all_mcs_labels = set(np.unique(mcs_labels[mcs_labels > 0])) #set.add \n",
    "    \n",
    "    for idx, row in enumerate(mcs_labels_next):\n",
    "        for col, val in enumerate(row):   \n",
    "            if val > 0: # test for MCS in new time step        \n",
    "                if mcs_labels[idx, col] > 0: # test if any of the pixels contains overlap \n",
    "                    mcs_labels_next[mcs_labels_next == val] = mcs_labels[idx, col] # assign old MCS label if group contains overlap \n",
    "                else:\n",
    "                    new = 1 \n",
    "                    new_label = range(1,1000)  # generate new identification nr if value already exists in set \n",
    "                    for i in new_label:\n",
    "                        if i in all_mcs_labels:\n",
    "                            new +=1           \n",
    "                    if val in all_mcs_labels:\n",
    "                        mcs_labels_next[mcs_labels_next == val] = new  # assign new MCS label for group without overlap \n",
    "                        \n",
    "    return mcs_labels_next                "
   ]
  },
  {
   "cell_type": "code",
   "execution_count": 293,
   "metadata": {},
   "outputs": [],
   "source": [
    "## This function calculates and stores the lon and lat values of the system centers defined as the mean lon/lat of all\n",
    "# pixels which belong to one identified system \n",
    "# returns dictionary with the number tags for each identied MCS as key values and corresponding lat and lon values \n",
    "    \n",
    "def store_coordinates(mcs_labels):\n",
    "    system_stats = {} # dictionary which stores each detected MCS and corresponding center coordinates \n",
    "    for i in np.unique(mcs_labels[mcs_labels > 0]):\n",
    "        system_stats.update({ str(i) : (date, time, np.mean(lats[mcs_labels == i ]) , np.mean(lons[mcs_labels == i ]), np.nanmean(mcs[ mcs_labels == i ]), np.nanmax(mcs[ mcs_labels == i ]), np.nanmin(mcs[ mcs_labels == i ])   )})          \n",
    "   \n",
    "    return system_stats \n",
    "\n",
    "\n",
    "\n"
   ]
  },
  {
   "cell_type": "code",
   "execution_count": 294,
   "metadata": {},
   "outputs": [],
   "source": [
    "# call function \n",
    "system_stats = store_coordinates(mcs_labels)"
   ]
  },
  {
   "cell_type": "code",
   "execution_count": 295,
   "metadata": {},
   "outputs": [
    {
     "data": {
      "text/html": [
       "<div>\n",
       "<style scoped>\n",
       "    .dataframe tbody tr th:only-of-type {\n",
       "        vertical-align: middle;\n",
       "    }\n",
       "\n",
       "    .dataframe tbody tr th {\n",
       "        vertical-align: top;\n",
       "    }\n",
       "\n",
       "    .dataframe thead th {\n",
       "        text-align: right;\n",
       "    }\n",
       "</style>\n",
       "<table border=\"1\" class=\"dataframe\">\n",
       "  <thead>\n",
       "    <tr style=\"text-align: right;\">\n",
       "      <th></th>\n",
       "      <th>4</th>\n",
       "      <th>5</th>\n",
       "      <th>25</th>\n",
       "      <th>27</th>\n",
       "    </tr>\n",
       "  </thead>\n",
       "  <tbody>\n",
       "    <tr>\n",
       "      <th>date</th>\n",
       "      <td>20180630</td>\n",
       "      <td>20180630</td>\n",
       "      <td>20180630</td>\n",
       "      <td>20180630</td>\n",
       "    </tr>\n",
       "    <tr>\n",
       "      <th>time</th>\n",
       "      <td>2330</td>\n",
       "      <td>2330</td>\n",
       "      <td>2330</td>\n",
       "      <td>2330</td>\n",
       "    </tr>\n",
       "    <tr>\n",
       "      <th>lon</th>\n",
       "      <td>27.1893</td>\n",
       "      <td>27.2211</td>\n",
       "      <td>36.35</td>\n",
       "      <td>39.21</td>\n",
       "    </tr>\n",
       "    <tr>\n",
       "      <th>lat</th>\n",
       "      <td>82.5036</td>\n",
       "      <td>83.8922</td>\n",
       "      <td>100.75</td>\n",
       "      <td>102.23</td>\n",
       "    </tr>\n",
       "    <tr>\n",
       "      <th>PREC_mean</th>\n",
       "      <td>16.5019</td>\n",
       "      <td>20.8652</td>\n",
       "      <td>8.96375</td>\n",
       "      <td>12.2935</td>\n",
       "    </tr>\n",
       "    <tr>\n",
       "      <th>PREC_max</th>\n",
       "      <td>22.1769</td>\n",
       "      <td>49.632</td>\n",
       "      <td>12.1597</td>\n",
       "      <td>13.2193</td>\n",
       "    </tr>\n",
       "    <tr>\n",
       "      <th>PREC_min</th>\n",
       "      <td>7.32586</td>\n",
       "      <td>7.05562</td>\n",
       "      <td>7.45359</td>\n",
       "      <td>11.4465</td>\n",
       "    </tr>\n",
       "  </tbody>\n",
       "</table>\n",
       "</div>"
      ],
      "text/plain": [
       "                  4         5        25        27\n",
       "date       20180630  20180630  20180630  20180630\n",
       "time           2330      2330      2330      2330\n",
       "lon         27.1893   27.2211     36.35     39.21\n",
       "lat         82.5036   83.8922    100.75    102.23\n",
       "PREC_mean   16.5019   20.8652   8.96375   12.2935\n",
       "PREC_max    22.1769    49.632   12.1597   13.2193\n",
       "PREC_min    7.32586   7.05562   7.45359   11.4465"
      ]
     },
     "execution_count": 295,
     "metadata": {},
     "output_type": "execute_result"
    }
   ],
   "source": [
    "# save output MCS statistics as pandas dataframe\n",
    "import pandas as pd \n",
    "stats= ['date', 'time', 'lon', 'lat', 'PREC_mean', 'PREC_max', 'PREC_min']\n",
    "df= pd.DataFrame.from_dict(system_stats)\n",
    "df.index = stats\n",
    "df"
   ]
  },
  {
   "cell_type": "markdown",
   "metadata": {},
   "source": [
    "## Todo \n",
    "\n",
    "\n",
    "- function to extract only pixels over 3000 m \n",
    "\n",
    "- track MCS over time based ov overlap (rename to unique MCS labels) \n",
    "\n",
    "- save statistics of identified MCS and track \n",
    "\n",
    "- sensitivity tests for threshold \n",
    "\n",
    "- update plot functions\n",
    "\n",
    "- test over multiple files \n",
    "\n",
    "- make the code running for GPM, MSWEP and CNRR (maybe via class identification?) \n",
    "\n",
    "- function to track in case MCS divides in multiple cells "
   ]
  },
  {
   "cell_type": "markdown",
   "metadata": {},
   "source": [
    "## Plots "
   ]
  },
  {
   "cell_type": "code",
   "execution_count": 138,
   "metadata": {},
   "outputs": [
    {
     "name": "stdout",
     "output_type": "stream",
     "text": [
      "Number of areas with contiguous pixels > 7 mm/hr: 5\n"
     ]
    },
    {
     "data": {
      "image/png": "[encoded data removed]",
      "text/plain": [
       "<Figure size 432x288 with 1 Axes>"
      ]
     },
     "metadata": {
      "needs_background": "light"
     },
     "output_type": "display_data"
    }
   ],
   "source": [
    "\n",
    "print('Number of areas with contiguous pixels > 7 mm/hr:', number_mcs)\n",
    "plt.imshow(mcs)\n",
    "plt.show()\n"
   ]
  },
  {
   "cell_type": "code",
   "execution_count": 61,
   "metadata": {},
   "outputs": [
    {
     "data": {
      "image/png": "[encoded data removed]",
      "text/plain": [
       "<Figure size 432x288 with 1 Axes>"
      ]
     },
     "metadata": {
      "needs_background": "light"
     },
     "output_type": "display_data"
    }
   ],
   "source": [
    "# plot identified MCS \n",
    "\n",
    "plt.imshow(time_slot, cmap=plt.cm.jet)\n",
    "plt.show()\n"
   ]
  }
 ],
 "metadata": {
  "kernelspec": {
   "display_name": "Python 3",
   "language": "python",
   "name": "python3"
  },
  "language_info": {
   "codemirror_mode": {
    "name": "ipython",
    "version": 3
   },
   "file_extension": ".py",
   "mimetype": "text/x-python",
   "name": "python",
   "nbconvert_exporter": "python",
   "pygments_lexer": "ipython3",
   "version": "3.7.2"
  }
 },
 "nbformat": 4,
 "nbformat_minor": 2
}
