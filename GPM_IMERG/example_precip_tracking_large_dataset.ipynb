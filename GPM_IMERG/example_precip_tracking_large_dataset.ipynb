{
 "cells": [
  {
   "cell_type": "markdown",
   "metadata": {},
   "source": [
    "Example for tobac application: Tracking of meso-scale GPM precipitation features\n",
    "===\n",
    "\n",
    "This example notebook demonstrates the use of tobac to track features of contiguous precipitation areas at meso-scale (~100 km horizontal dimension). The main difference from this notebook to the other examples is that tracking is performed based on high resolution data over a long time period, which means that feature detection and sementation must be performed for monthly data chunks and then recombined to one dataframe, in order to conduct the trajectory linking. \n",
    "\n",
    "The data used in this example can be downloaded from the NASA GES DISC platform (note that an open account is needed to get the data): \n",
    "https://disc.gsfc.nasa.gov/datasets/GPM_3IMERGHH_V06/\n",
    "\n",
    "\n",
    "**Data product** : GPM IMERG, v06 , netCDF4 format\n",
    "\n",
    "**Resolution**: 30 min, 0.1 x 0.1 degrees\n",
    "\n",
    "**Subset**: 2014 - 2018, for region of the Tibetan Plateau (27.0 - 45.0 N, 70.0- 105.0 E)          \n",
    "\n",
    "*Note that temporal and spatial subsets can be created directly at the GES DISC platform*"
   ]
  },
  {
   "cell_type": "markdown",
   "metadata": {},
   "source": [
    "**Import necessary python libraries:**"
   ]
  },
  {
   "cell_type": "code",
   "execution_count": 15,
   "metadata": {},
   "outputs": [],
   "source": [
    "# Import libraries\n",
    "import iris\n",
    "import numpy as np\n",
    "import pandas as pd\n",
    "import os,sys\n",
    "import matplotlib.pyplot as plt\n",
    "import iris.plot as iplt\n",
    "import iris.quickplot as qplt\n",
    "import datetime\n",
    "import urllib,zipfile,shutil\n",
    "from netCDF4 import Dataset\n",
    "%matplotlib inline"
   ]
  },
  {
   "cell_type": "code",
   "execution_count": 16,
   "metadata": {},
   "outputs": [],
   "source": [
    "# Import tobac itself\n",
    "import tobac\n",
    "from tobac import utils"
   ]
  },
  {
   "cell_type": "code",
   "execution_count": 17,
   "metadata": {},
   "outputs": [],
   "source": [
    "# Disable a few warnings:\n",
    "import warnings\n",
    "warnings.filterwarnings('ignore', category=UserWarning, append=True)\n",
    "warnings.filterwarnings('ignore', category=RuntimeWarning, append=True)\n",
    "warnings.filterwarnings('ignore', category=FutureWarning, append=True)\n",
    "warnings.filterwarnings('ignore',category=pd.io.pytables.PerformanceWarning)"
   ]
  },
  {
   "cell_type": "markdown",
   "metadata": {},
   "source": [
    "## Data download using wget\n",
    "\n",
    " "
   ]
  },
  {
   "cell_type": "code",
   "execution_count": 13,
   "metadata": {},
   "outputs": [],
   "source": [
    "# define output directory\n",
    "data_dir='/media/juli/Data/third_pole/satellite_data/gpm_v06/'\n",
    "# variable name in netCDF file \n",
    "param= 'precipitationCal'\n",
    "# name of file with link list \n",
    "url = 'url.txt'\n",
    "# go to data directory where the link list (url.txt) for your subset is located\n",
    "!cd $data_dir"
   ]
  },
  {
   "cell_type": "code",
   "execution_count": 73,
   "metadata": {},
   "outputs": [],
   "source": [
    "# download link list from GES DISC and use the following command to download the data\n",
    "\n",
    "!wget --load-cookies ~/.urs_cookies --save-cookies ~/.urs_cookies --auth-no-challenge=on --keep-session-cookies --content-disposition -i $url"
   ]
  },
  {
   "cell_type": "markdown",
   "metadata": {},
   "source": [
    "## Data preparation\n",
    "\n",
    "Aggregation into monthly files for each year and setting time axis and calendar, in order to use the downloaded netCDF files with tobac. \n",
    "\n",
    "**! Note:** In order to prepare the data, so it can be used for tobac, the command-line program CDO (Climate Data Operators) needs to be installed.\n"
   ]
  },
  {
   "cell_type": "code",
   "execution_count": 12,
   "metadata": {},
   "outputs": [
    {
     "name": "stdout",
     "output_type": "stream",
     "text": [
      "tobac_prepare.sh\r\n"
     ]
    }
   ],
   "source": [
    "# make sure you have the bash script located in your data folder \n",
    "!ls *sh"
   ]
  },
  {
   "cell_type": "code",
   "execution_count": 51,
   "metadata": {},
   "outputs": [
    {
     "data": {
      "text/plain": [
       "0"
      ]
     },
     "execution_count": 51,
     "metadata": {},
     "output_type": "execute_result"
    }
   ],
   "source": [
    "import subprocess\n",
    " # Call a bash script\n",
    "subprocess.call(['./tobac_prepare.sh'])"
   ]
  },
  {
   "cell_type": "code",
   "execution_count": 28,
   "metadata": {},
   "outputs": [],
   "source": [
    "#Set up directory to save output and plots:\n",
    "import os\n",
    "savedir=data_dir + 'Save'\n",
    "os.makedirs(savedir,exist_ok=True)\n",
    "plotdir=data_dir + 'Plot'\n",
    "os.makedirs(plotdir,exist_ok=True)"
   ]
  },
  {
   "cell_type": "markdown",
   "metadata": {},
   "source": [
    "# Define parameters for feature detection, segmentation and tracking\n"
   ]
  },
  {
   "cell_type": "markdown",
   "metadata": {},
   "source": [
    "## Feature detection "
   ]
  },
  {
   "cell_type": "code",
   "execution_count": 78,
   "metadata": {},
   "outputs": [],
   "source": [
    "# Dictionary containing keyword options (could also be directly given to the function)\n",
    "parameters_features={}\n",
    "parameters_features['position_threshold']='weighted_diff' # diff between specific value and threshold for weighting when finding the center location (instead of just mean lon/lat)\n",
    "parameters_features['min_num']=3 #? \n",
    "parameters_features['min_distance']=0 # minimum distance between features \n",
    "\n",
    "parameters_features['sigma_threshold']=0.5 # for slightly smoothing (gaussian filter)\n",
    "parameters_features['n_erosion_threshold']=0 # pixel erosion (for more robust results)\n",
    "\n",
    "parameters_features['threshold']=[1,2,3,4,5,7,10,15] #mm/h, step-wise threshold for feature detection \n",
    "parameters_features['n_min_threshold']=10 # minimum nr of contiguous pixels for thresholds, 10 pixels = ca. 2000 km2\n"
   ]
  },
  {
   "cell_type": "markdown",
   "metadata": {},
   "source": [
    "## Segmentation "
   ]
  },
  {
   "cell_type": "code",
   "execution_count": 12,
   "metadata": {},
   "outputs": [],
   "source": [
    "# Dictionary containing keyword arguments for segmentation step:\n",
    "parameters_segmentation={}\n",
    "parameters_segmentation['method']='watershed'\n",
    "parameters_segmentation['threshold']=1  # mm/h mixing ratio (until which threshold the area is taken into account)"
   ]
  },
  {
   "cell_type": "markdown",
   "metadata": {},
   "source": [
    "## Tracking"
   ]
  },
  {
   "cell_type": "code",
   "execution_count": 20,
   "metadata": {},
   "outputs": [
    {
     "name": "stdout",
     "output_type": "stream",
     "text": [
      "Available coordinates:     ['time', 'longitude', 'latitude']\n"
     ]
    }
   ],
   "source": [
    "# read in one test file and define spacing \n",
    "data_file= '2014/gpm_imerg_201406_tobac_input.nc4'\n",
    "Precip=iris.load_cube(data_file,'precipitationCal')\n",
    "Precip.attributes = None\n",
    "dxy,dt=tobac.get_spacings(Precip)"
   ]
  },
  {
   "cell_type": "markdown",
   "metadata": {},
   "source": [
    "## If only lats and lons are available use this function: \n"
   ]
  },
  {
   "cell_type": "code",
   "execution_count": 21,
   "metadata": {},
   "outputs": [],
   "source": [
    "# Dictionary containing keyword arguments for the linking step:\n",
    "parameters_linking={}\n",
    "parameters_linking['adaptive_stop']=0.2\n",
    "parameters_linking['adaptive_step']=0.95\n",
    "parameters_linking['extrapolate']=0\n",
    "parameters_linking['order']=1\n",
    "parameters_linking['subnetwork_size']= 1000 # maximum size of subnetwork used for linking \n",
    "parameters_linking['memory']=0\n",
    "parameters_linking['time_cell_min']= dt \n",
    "parameters_linking['method_linking']='predict'\n",
    "parameters_linking['v_max']= 10\n",
    "parameters_linking['d_min']=4*dxy # four times the grid spacing "
   ]
  },
  {
   "cell_type": "markdown",
   "metadata": {},
   "source": [
    "# Perform feature detection and segmentation with monthly data chunks"
   ]
  },
  {
   "cell_type": "code",
   "execution_count": 83,
   "metadata": {},
   "outputs": [
    {
     "name": "stdout",
     "output_type": "stream",
     "text": [
      "files in dataset:   50\n"
     ]
    }
   ],
   "source": [
    "# get list with all files by month\n",
    "import glob\n",
    "file_list= glob.glob(data_dir + '/*tobac_input.nc4')  \n",
    "print('files in dataset:  ', len(file_list))"
   ]
  },
  {
   "cell_type": "code",
   "execution_count": null,
   "metadata": {},
   "outputs": [],
   "source": [
    "for file in file_list:\n",
    "    i = file[107:113]\n",
    "    print('start process for file.....', file)\n",
    "    ## DATA PREPARATION\n",
    "    Precip=iris.load_cube(file, param)\n",
    "    dxy,dt=tobac.get_spacings(Precip)\n",
    "    \n",
    "    # FEATURE DETECTION\n",
    "    print('starting feature detection based on multiple thresholds')\n",
    "    Features=tobac.feature_detection_multithreshold(Precip,dxy,**parameters_features)\n",
    "    print('feature detection done')\n",
    "    Features.to_hdf(os.path.join(savedir,'Features' + str(i) + '.h5'),'table')\n",
    "    print('features saved')\n",
    "    \n",
    "    # SEGMENTATION \n",
    "    print('Starting segmentation based on surface precipitation')\n",
    "    Mask,Features_Precip=tobac.segmentation_2D(Features,Precip,dxy,**parameters_segmentation)\n",
    "    print('segmentation based on surface precipitation performed, start saving results to files')\n",
    "    iris.save([Mask],os.path.join(savedir,'Mask_Segmentation_precip' + str(i) + '.nc'),zlib=True,complevel=4)                \n",
    "    Features_Precip.to_hdf(os.path.join(savedir,'Features_Precip' + str(i) + '.h5'),'table')\n",
    "    print('segmentation surface precipitation performed and saved')"
   ]
  },
  {
   "cell_type": "markdown",
   "metadata": {},
   "source": [
    "# Trajectory linking"
   ]
  },
  {
   "cell_type": "code",
   "execution_count": 110,
   "metadata": {},
   "outputs": [
    {
     "name": "stdout",
     "output_type": "stream",
     "text": [
      "nr. of monthly feature files: 50\n"
     ]
    }
   ],
   "source": [
    "# read in HDF5 files with saved features\n",
    "file_list= glob.glob(savedir  + '/Features_Precip??????.h5')  \n",
    "file_list.sort()\n",
    "print('nr. of monthly feature files:', len(file_list))"
   ]
  },
  {
   "cell_type": "markdown",
   "metadata": {},
   "source": [
    "## Recombination of dataframes with update of frame number"
   ]
  },
  {
   "cell_type": "code",
   "execution_count": 111,
   "metadata": {},
   "outputs": [
    {
     "name": "stdout",
     "output_type": "stream",
     "text": [
      "file for:  201403 rows:  8646 frames:  959\n",
      "file for:  201403 rows:  8008 frames:  1919\n",
      "file for:  201404 rows:  13305 frames:  3359\n",
      "file for:  201405 rows:  18581 frames:  4847\n",
      "file for:  201406 rows:  31526 frames:  6287\n",
      "file for:  201407 rows:  41579 frames:  7775\n",
      "file for:  201408 rows:  40352 frames:  9263\n",
      "file for:  201409 rows:  26948 frames:  10703\n",
      "file for:  201410 rows:  11100 frames:  12191\n",
      "file for:  201411 rows:  6641 frames:  13631\n",
      "file for:  201412 rows:  3678 frames:  15119\n",
      "file for:  201501 rows:  8337 frames:  16607\n",
      "file for:  201502 rows:  8646 frames:  17951\n",
      "file for:  201503 rows:  14169 frames:  19439\n",
      "file for:  201504 rows:  18801 frames:  20879\n",
      "file for:  201505 rows:  21525 frames:  22367\n",
      "file for:  201506 rows:  35233 frames:  23807\n",
      "file for:  201507 rows:  35844 frames:  25295\n",
      "file for:  201508 rows:  41418 frames:  26783\n",
      "file for:  201509 rows:  23520 frames:  28223\n",
      "file for:  201510 rows:  10736 frames:  29711\n",
      "file for:  201511 rows:  7567 frames:  31151\n",
      "file for:  201512 rows:  4490 frames:  32639\n",
      "file for:  201601 rows:  4568 frames:  34127\n",
      "file for:  201602 rows:  4159 frames:  35519\n",
      "file for:  201603 rows:  13702 frames:  37007\n",
      "file for:  201604 rows:  18490 frames:  38447\n",
      "file for:  201605 rows:  26882 frames:  39935\n",
      "file for:  201606 rows:  36741 frames:  41375\n",
      "file for:  201607 rows:  54732 frames:  42863\n",
      "file for:  201608 rows:  38745 frames:  44351\n",
      "file for:  201609 rows:  26932 frames:  45791\n",
      "file for:  201610 rows:  12426 frames:  47279\n",
      "file for:  201611 rows:  4957 frames:  48719\n",
      "file for:  201612 rows:  4746 frames:  50207\n",
      "file for:  201701 rows:  8540 frames:  51695\n",
      "file for:  201702 rows:  8505 frames:  53039\n",
      "file for:  201703 rows:  10630 frames:  54527\n",
      "file for:  201704 rows:  20754 frames:  55967\n",
      "file for:  201705 rows:  21560 frames:  57455\n",
      "file for:  201706 rows:  36613 frames:  58895\n",
      "file for:  201707 rows:  46907 frames:  60383\n",
      "file for:  201710 rows:  10766 frames:  61871\n",
      "file for:  201711 rows:  2546 frames:  63311\n",
      "file for:  201712 rows:  3605 frames:  64799\n",
      "file for:  201801 rows:  2473 frames:  66287\n",
      "file for:  201802 rows:  5660 frames:  67631\n",
      "file for:  201803 rows:  11617 frames:  69119\n",
      "file for:  201804 rows:  15847 frames:  70559\n",
      "file for:  201805 rows:  22811 frames:  72047\n",
      "file for:  201806 rows:  33808 frames:  73487\n"
     ]
    }
   ],
   "source": [
    "i = 0 \n",
    "frames = 0 \n",
    "\n",
    "for file in file_list: \n",
    "    if i == 0:\n",
    "        Features = pd.read_hdf(file, 'table')\n",
    "        # read in data mask with segments for tracked cells \n",
    "        date= file[len(file)-9: len(file)-3]\n",
    "        ds = Dataset(savedir+ '/Mask_Segmentation_precip'+date+'.nc')\n",
    "        mask = np.array(ds['segmentation_mask'])  \n",
    "        # update total nr of frames \n",
    "        frames += np.shape(mask)[0] -1\n",
    "        i = 1 \n",
    "        print('file for: ',date, 'rows: ',features.shape[0], 'frames: ', frames)\n",
    "\n",
    "    features = pd.read_hdf(file, 'table')\n",
    "    # update frame number and make sure they are sequential\n",
    "    features['frame'] = features['frame']  + frames\n",
    "    # append dataframes \n",
    "    Features = Features.append(features, ignore_index=True)      \n",
    "    # read in data mask with segments for tracked cells \n",
    "    date= file[len(file)-9: len(file)-3]\n",
    "    ds = Dataset(savedir+ '/Mask_Segmentation_precip'+date+'.nc')\n",
    "    mask = np.array(ds['segmentation_mask'])  \n",
    "    #update total nr of frames\n",
    "    frames += np.shape(mask)[0]\n",
    "    print('file for: ',date, 'rows: ',features.shape[0], 'frames: ', frames)"
   ]
  },
  {
   "cell_type": "markdown",
   "metadata": {},
   "source": [
    "## Perform tracking with merged features "
   ]
  },
  {
   "cell_type": "code",
   "execution_count": 204,
   "metadata": {},
   "outputs": [
    {
     "name": "stdout",
     "output_type": "stream",
     "text": [
      "Frame 72455: 36 trajectories present.\n"
     ]
    }
   ],
   "source": [
    "Track=tobac.linking_trackpy(Features,Precip,dt=dt,dxy=dxy,**parameters_linking)\n",
    "Track.to_hdf(os.path.join(savedir,'Tracks_GPM_2014-2018.h5'),'table')"
   ]
  },
  {
   "cell_type": "markdown",
   "metadata": {},
   "source": [
    "# Some examples for analysis and visualisation..."
   ]
  },
  {
   "cell_type": "markdown",
   "metadata": {},
   "source": [
    "##  Lifetime histogram "
   ]
  },
  {
   "cell_type": "code",
   "execution_count": 67,
   "metadata": {},
   "outputs": [
    {
     "data": {
      "image/png": "[encoded data removed]",
      "text/plain": [
       "<Figure size 432x288 with 1 Axes>"
      ]
     },
     "metadata": {
      "needs_background": "light"
     },
     "output_type": "display_data"
    }
   ],
   "source": [
    "fig_lifetime,ax_lifetime=plt.subplots()\n",
    "tobac.plot_lifetime_histogram_bar(Tracks,axes=ax_lifetime,bin_edges=np.arange(180,1200,10),density=False,width_bar=25)\n",
    "ax_lifetime.set_xlabel('lifetime (min)')\n",
    "ax_lifetime.set_ylabel('counts')\n",
    "         \n",
    "plt.savefig(plotdir + 'gpm_lifetime_histogram.png')\n"
   ]
  },
  {
   "cell_type": "markdown",
   "metadata": {},
   "source": [
    "The lifetime histogram reveals how frequent long persisting cells (with the previously chosen minimum area of contiguous precipitation) are in comparison to shorter precipitation cells (controlled by the chosen minimum lifetime). Here, we can clearly see that precipitation cells that persist longer than 10 hours (600 min) exhibit only a very small part compared to all tracked cells. "
   ]
  },
  {
   "cell_type": "markdown",
   "metadata": {},
   "source": [
    "## Plot tracks with the longest lifetimes\n",
    "\n",
    "    "
   ]
  },
  {
   "cell_type": "code",
   "execution_count": 29,
   "metadata": {},
   "outputs": [],
   "source": [
    "# Set extent for maps plotted in the following cells ( in the form [lon_min,lon_max,lat_min,lat_max])\n",
    "axis_extent=[70.0,105.0,27.0,45.0]        "
   ]
  },
  {
   "cell_type": "code",
   "execution_count": 34,
   "metadata": {},
   "outputs": [],
   "source": [
    "# returns a subset of cells with a lifetime larger or equal to min_hr  \n",
    "\n",
    "# parameters: \n",
    "# min_hr : minimum of hoursthe cell should prevail (float)\n",
    "# Tracks: pandas dataframe which is the output of the tobac trajectory linking \n",
    "\n",
    "\n",
    "def subset_tracks(Tracks, min_hr):\n",
    "    durations= []\n",
    "    long_cells = []\n",
    "    i = 0 \n",
    "    for c in np.unique(Tracks.cell):\n",
    "        duration= (np.shape(Tracks.loc[Tracks.cell == c ])[0])* 0.5\n",
    "        if duration >= min_hr:\n",
    "            durations.append(duration)\n",
    "            long_cells.append(c)\n",
    "            \n",
    "    for lc in long_cells:\n",
    "        if i == 0:\n",
    "            subset= Tracks.loc[Tracks.cell == lc ]\n",
    "            i+=1 \n",
    "        else:\n",
    "            subset= subset.append(Tracks.loc[Tracks.cell == lc ])\n",
    "            \n",
    "    return subset            "
   ]
  },
  {
   "cell_type": "code",
   "execution_count": 37,
   "metadata": {},
   "outputs": [],
   "source": [
    "min_hr = 15 \n",
    "subset= subset_tracks(Tracks, min_hr)"
   ]
  },
  {
   "cell_type": "code",
   "execution_count": 51,
   "metadata": {},
   "outputs": [
    {
     "data": {
      "image/png": "[encoded data removed]",
      "text/plain": [
       "<Figure size 1080x1080 with 1 Axes>"
      ]
     },
     "metadata": {
      "needs_background": "light"
     },
     "output_type": "display_data"
    }
   ],
   "source": [
    "# Plot map with all individual tracks:\n",
    "import cartopy.crs as ccrs\n",
    "fig_map,ax_map=plt.subplots(figsize=(15,15),subplot_kw={'projection': ccrs.PlateCarree()})\n",
    "ax_map=tobac.map_tracks(subset,axis_extent=axis_extent,axes=ax_map)\n",
    "plt.savefig(plotdir+ '/tracks_15hr_TP.png')"
   ]
  },
  {
   "cell_type": "markdown",
   "metadata": {},
   "source": [
    "Plotting the precipitation tracks with the longest lifetimes (here: all cells which last longer than 15 hours), we can see that these storms occur primarily in the south of the Tibetan Plateau. "
   ]
  },
  {
   "cell_type": "markdown",
   "metadata": {},
   "source": [
    "# Compare nearest neighbor distance of features with different thresholds"
   ]
  },
  {
   "cell_type": "code",
   "execution_count": null,
   "metadata": {},
   "outputs": [],
   "source": [
    "# calculate minimum distance between neighboring features \n",
    "Features_gpm = calculate_nearestneighbordistance(Features, method_distance=None)\n",
    "Features['min_distance'] /= 1000"
   ]
  },
  {
   "cell_type": "code",
   "execution_count": 113,
   "metadata": {},
   "outputs": [],
   "source": [
    "# select minimum distance for features containing different thresholds (e.g. 1mm/hr vs. >=10 mm/hr)\n",
    "heights_gpm, bins_gpm= tobac.nearestneighbordistance_histogram(Features_gpm.loc[Features_gpm.threshold_value == 1], bin_edges = np.linspace(0,2000,100))\n",
    "heights10_gpm, bins10_gpm= tobac.nearestneighbordistance_histogram(Features_gpm.loc[Features_gpm.threshold_value >= 10], bin_edges = np.linspace(0,2000,100))\n"
   ]
  },
  {
   "cell_type": "code",
   "execution_count": 115,
   "metadata": {},
   "outputs": [
    {
     "data": {
      "image/png": "[encoded data removed]",
      "text/plain": [
       "<Figure size 1080x720 with 1 Axes>"
      ]
     },
     "metadata": {},
     "output_type": "display_data"
    }
   ],
   "source": [
    "plt.style.use('seaborn')\n",
    "plt.rcParams.update({'font.size': 30,\n",
    "             'xtick.labelsize' : 30,'ytick.labelsize' : 30})\n",
    "plt.figure(figsize=(15, 10))\n",
    "\n",
    "\n",
    "height_gpm = heights_gpm/np.sum(heights_gpm)\n",
    "height10_gpm = heights10_gpm/np.sum(heights10_gpm)\n",
    "\n",
    "\n",
    "plt.bar(bins_gpm[:-1], height_gpm*100, width = 15,color='darkorange',linewidth= 2.5,  label= '1mm/hr')\n",
    "plt.bar(bins10_gpm[:-1], height10_gpm*100, width = 15, edgecolor='darkblue', color= 'None', linewidth= 2.5,  label= '>= 10 mm/hr')\n",
    "\n",
    "\n",
    "plt.ylim(0,20)\n",
    "plt.xlim(0,800)\n",
    "plt.xlabel('min distance (km)', fontsize= 25)\n",
    "plt.ylabel('frequency (%)', fontsize = 25)\n",
    "plt.legend(fontsize= 25)\n",
    "\n",
    "# save figure to image file \n",
    "plt.savefig(plotdir + 'hist_nn_gpm_threshold_high_vs_low.png')"
   ]
  },
  {
   "cell_type": "markdown",
   "metadata": {},
   "source": [
    "The histograms of nearest neighbor distances show that the most frequent minimum distances lie around 100 km, which indicates a rather sparse distribution of contigous precipitation areas (many isolated precipitation cells). Furthermore, it can be seen that features with the lowest threshold (1mm/hr) tend to be more close to another feature than features with thresholds equal to or larger than 10 mm/hr. This could indicate that meso-scale precipitation features with heavy rain rates tend to occur as rather isolated cells in the Tibetan Plateau region. "
   ]
  }
 ],
 "metadata": {
  "kernelspec": {
   "display_name": "Python 3",
   "language": "python",
   "name": "python3"
  },
  "language_info": {
   "codemirror_mode": {
    "name": "ipython",
    "version": 3
   },
   "file_extension": ".py",
   "mimetype": "text/x-python",
   "name": "python",
   "nbconvert_exporter": "python",
   "pygments_lexer": "ipython3",
   "version": "3.6.7"
  }
 },
 "nbformat": 4,
 "nbformat_minor": 2
}
