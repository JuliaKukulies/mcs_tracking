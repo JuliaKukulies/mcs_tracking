{
 "cells": [
  {
   "cell_type": "markdown",
   "metadata": {},
   "source": [
    "## Download ISCCP CTD "
   ]
  },
  {
   "cell_type": "code",
   "execution_count": 2,
   "metadata": {},
   "outputs": [],
   "source": [
    "import wget \n"
   ]
  },
  {
   "cell_type": "code",
   "execution_count": null,
   "metadata": {},
   "outputs": [
    {
     "name": "stdout",
     "output_type": "stream",
     "text": [
      "/home/juli/Desktop/CT1983.tar (1).gz\n",
      "downloading  https://isccp.giss.nasa.gov/outgoing/PICKUP/CT/CT1983.tar.gz ...........................\n",
      "/home/juli/Desktop/CT1983.tar (1).gz\n",
      "downloading  https://isccp.giss.nasa.gov/outgoing/PICKUP/CT/CT1984.tar.gz ...........................\n",
      "/home/juli/Desktop/CT1984.tar.gz\n",
      "downloading  https://isccp.giss.nasa.gov/outgoing/PICKUP/CT/CT1985.tar.gz ...........................\n",
      "/home/juli/Desktop/CT1985.tar.gz\n",
      "downloading  https://isccp.giss.nasa.gov/outgoing/PICKUP/CT/CT1986.tar.gz ...........................\n",
      "/home/juli/Desktop/CT1986.tar.gz\n",
      "downloading  https://isccp.giss.nasa.gov/outgoing/PICKUP/CT/CT1987.tar.gz ...........................\n",
      "/home/juli/Desktop/CT1987.tar.gz\n",
      "downloading  https://isccp.giss.nasa.gov/outgoing/PICKUP/CT/CT1988.tar.gz ...........................\n",
      "/home/juli/Desktop/CT1988.tar.gz\n",
      "downloading  https://isccp.giss.nasa.gov/outgoing/PICKUP/CT/CT1989.tar.gz ...........................\n",
      "/home/juli/Desktop/CT1989.tar.gz\n",
      "downloading  https://isccp.giss.nasa.gov/outgoing/PICKUP/CT/CT1990.tar.gz ...........................\n",
      "/home/juli/Desktop/CT1990.tar.gz\n",
      "downloading  https://isccp.giss.nasa.gov/outgoing/PICKUP/CT/CT1991.tar.gz ...........................\n",
      "/home/juli/Desktop/CT1991.tar.gz\n",
      "downloading  https://isccp.giss.nasa.gov/outgoing/PICKUP/CT/CT1992.tar.gz ...........................\n",
      "/home/juli/Desktop/CT1992.tar.gz\n",
      "downloading  https://isccp.giss.nasa.gov/outgoing/PICKUP/CT/CT1993.tar.gz ...........................\n"
     ]
    }
   ],
   "source": [
    "url = 'https://isccp.giss.nasa.gov/outgoing/PICKUP/CT/'\n",
    "\n",
    "# create dictionary with all files which have to be downloaded \n",
    "url_dic = {'1983': url+'CT1983.tar.gz', '1984': url+'CT1984.tar.gz', '1985': url+'CT1985.tar.gz', '1986': url+'CT1986.tar.gz', '1987': url+'CT1987.tar.gz', '1988': url+'CT1988.tar.gz', '1989': url+'CT1989.tar.gz', '1990': url+'CT1990.tar.gz', '1991': url+'CT1991.tar.gz', '1992': url+'CT1992.tar.gz', '1993': url+'CT1993.tar.gz', '1994': url+'CT1994.tar.gz', '1995': url+'CT1995.tar.gz', '1996': url+'CT1996.tar.gz', '1997': url+'CT1997.tar.gz', '1998': url+'CT1998.tar.gz', '1999': url+'CT1999.tar.gz', '2000': url+'CT2000.tar.gz', '2001': url+'CT2001.tar.gz', '2002': url+'CT2002.tar.gz', '2003': url+'CT2003.tar.gz', '2004': url+'CT2004.tar.gz', '2005': url+'CT2005.tar.gz', '2006': url+'CT2006.tar.gz', '2007': url+'CT2007.tar.gz', '2008': url+'CT2008.tar.gz', 'readme': url+'README', 'src': url+'src.tar.gz'}\n",
    "output= '/home/juli/Desktop'\n",
    "\n",
    "#test with one file \n",
    "filename= wget.download(url_dic['1983'], out= '/home/juli/Desktop')\n",
    "print(filename)\n",
    "\n",
    "# download and print filenames \n",
    "for l in url_dic:\n",
    "    print('downloading ', url_dic[l], '...........................')\n",
    "    filename = wget.download(url_dic[l], out = output)\n",
    "    print(filename)\n",
    "    \n",
    "    \n",
    "    \n",
    "    \n",
    "    "
   ]
  },
  {
   "cell_type": "code",
   "execution_count": 17,
   "metadata": {},
   "outputs": [
    {
     "name": "stdout",
     "output_type": "stream",
     "text": [
      "/home/juli/Desktop/ThirdPole\n"
     ]
    }
   ],
   "source": [
    "print(filename)"
   ]
  }
 ],
 "metadata": {
  "kernelspec": {
   "display_name": "Python 3",
   "language": "python",
   "name": "python3"
  },
  "language_info": {
   "codemirror_mode": {
    "name": "ipython",
    "version": 3
   },
   "file_extension": ".py",
   "mimetype": "text/x-python",
   "name": "python",
   "nbconvert_exporter": "python",
   "pygments_lexer": "ipython3",
   "version": "3.7.2"
  }
 },
 "nbformat": 4,
 "nbformat_minor": 2
}
