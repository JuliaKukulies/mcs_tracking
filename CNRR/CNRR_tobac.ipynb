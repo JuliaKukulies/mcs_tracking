{
 "cells": [
  {
   "cell_type": "markdown",
   "metadata": {},
   "source": [
    "# CNRR reanalysis data for the Tibetan Plateau region "
   ]
  },
  {
   "cell_type": "code",
   "execution_count": 2,
   "metadata": {},
   "outputs": [],
   "source": [
    "# Import a range of python libraries used in this notebook:\n",
    "import iris\n",
    "import numpy as np\n",
    "import pandas as pd\n",
    "import os,sys\n",
    "import matplotlib.pyplot as plt\n",
    "import iris.plot as iplt\n",
    "import iris.quickplot as qplt\n",
    "import urllib,zipfile\n",
    "import datetime\n",
    "from netCDF4 import Dataset\n",
    "%matplotlib inline\n",
    "import tobac"
   ]
  },
  {
   "cell_type": "markdown",
   "metadata": {},
   "source": [
    "##  Analysis possible for parameters:\n",
    "\n",
    "\n",
    "for background conditions \n",
    "\n",
    "\n",
    "-  uwd, vwd\n",
    "-  water vapor mixing ratio \n",
    "\n",
    "\n",
    "\n",
    "for tracking \n",
    "\n",
    "-  CNRR GSISAT hourly surface rain rates "
   ]
  },
  {
   "cell_type": "code",
   "execution_count": 4,
   "metadata": {},
   "outputs": [
    {
     "name": "stdout",
     "output_type": "stream",
     "text": [
      "/media/juli/Data/third_pole/CNRR/data/substring.nc4\n"
     ]
    }
   ],
   "source": [
    "path='/media/juli/Data/third_pole/CNRR/data/'\n",
    "file= 'cnrr_cnrr_199701_TP.nc4.nc4'\n",
    "file = 'substring.nc4'\n",
    "ds = Dataset(path + file)\n",
    "print(path+file)"
   ]
  },
  {
   "cell_type": "code",
   "execution_count": 5,
   "metadata": {},
   "outputs": [],
   "source": [
    "# read in lats and lons information to add to the iris cubes \n",
    "precip = np.array(ds['prcp'])\n",
    "lats = np.array(ds['LAT'])\n",
    "lons = np.array(ds['LON'])"
   ]
  },
  {
   "cell_type": "code",
   "execution_count": 6,
   "metadata": {},
   "outputs": [],
   "source": [
    "Precip = iris.load_cube(path+file, \"prcp\")"
   ]
  },
  {
   "cell_type": "code",
   "execution_count": 7,
   "metadata": {},
   "outputs": [],
   "source": [
    "import iris.coords\n",
    "## ad 2d lats and lons with aux coords \n",
    "aux_lats = iris.coords.AuxCoord(lats, standard_name='latitude', long_name='latitude')\n",
    "aux_lons = iris.coords.AuxCoord(lons, standard_name='longitude', long_name='longitude')\n",
    "Precip.add_aux_coord(aux_lats, [1,2])\n",
    "Precip.add_aux_coord(aux_lons, [1,2])"
   ]
  },
  {
   "cell_type": "code",
   "execution_count": 8,
   "metadata": {},
   "outputs": [],
   "source": [
    "coord_lats = iris.coords.DimCoord(lats[:,0], standard_name='latitude', long_name='lats', var_name='lats' )\n",
    "coord_lons = iris.coords.DimCoord(lons[0,:], standard_name='longitude', long_name='lons', var_name='lons')\n",
    "#Precip.add_dim_coord(coord_lats, 1)\n",
    "#Precip.add_dim_coord(coord_lons, 2)"
   ]
  },
  {
   "cell_type": "code",
   "execution_count": 6,
   "metadata": {},
   "outputs": [
    {
     "data": {
      "text/html": [
       "\n",
       "<style>\n",
       "  a.iris {\n",
       "      text-decoration: none !important;\n",
       "  }\n",
       "  table.iris {\n",
       "      white-space: pre;\n",
       "      border: 1px solid;\n",
       "      border-color: #9c9c9c;\n",
       "      font-family: monaco, monospace;\n",
       "  }\n",
       "  th.iris {\n",
       "      background: #303f3f;\n",
       "      color: #e0e0e0;\n",
       "      border-left: 1px solid;\n",
       "      border-color: #9c9c9c;\n",
       "      font-size: 1.05em;\n",
       "      min-width: 50px;\n",
       "      max-width: 125px;\n",
       "  }\n",
       "  tr.iris :first-child {\n",
       "      border-right: 1px solid #9c9c9c !important;\n",
       "  }\n",
       "  td.iris-title {\n",
       "      background: #d5dcdf;\n",
       "      border-top: 1px solid #9c9c9c;\n",
       "      font-weight: bold;\n",
       "  }\n",
       "  .iris-word-cell {\n",
       "      text-align: left !important;\n",
       "      white-space: pre;\n",
       "  }\n",
       "  .iris-subheading-cell {\n",
       "      padding-left: 2em !important;\n",
       "  }\n",
       "  .iris-inclusion-cell {\n",
       "      padding-right: 1em !important;\n",
       "  }\n",
       "  .iris-panel-body {\n",
       "      padding-top: 0px;\n",
       "  }\n",
       "  .iris-panel-title {\n",
       "      padding-left: 3em;\n",
       "  }\n",
       "  .iris-panel-title {\n",
       "      margin-top: 7px;\n",
       "  }\n",
       "</style>\n",
       "<table class=\"iris\" id=\"140286398413960\">\n",
       "    <tr class=\"iris\">\n",
       "<th class=\"iris iris-word-cell\">Prcp (mm/hr)</th>\n",
       "<th class=\"iris iris-word-cell\">time</th>\n",
       "<th class=\"iris iris-word-cell\">--</th>\n",
       "<th class=\"iris iris-word-cell\">--</th>\n",
       "</tr>\n",
       "    <tr class=\"iris\">\n",
       "<td class=\"iris-word-cell iris-subheading-cell\">Shape</td>\n",
       "<td class=\"iris iris-inclusion-cell\">720</td>\n",
       "<td class=\"iris iris-inclusion-cell\">141</td>\n",
       "<td class=\"iris iris-inclusion-cell\">201</td>\n",
       "</td>\n",
       "    <tr class=\"iris\">\n",
       "    <td class=\"iris-title iris-word-cell\">Dimension coordinates</td>\n",
       "    <td class=\"iris-title\"></td>\n",
       "    <td class=\"iris-title\"></td>\n",
       "    <td class=\"iris-title\"></td>\n",
       "</tr>\n",
       "<tr class=\"iris\">\n",
       "    <td class=\"iris-word-cell iris-subheading-cell\">\ttime</td>\n",
       "    <td class=\"iris-inclusion-cell\">x</td>\n",
       "    <td class=\"iris-inclusion-cell\">-</td>\n",
       "    <td class=\"iris-inclusion-cell\">-</td>\n",
       "</tr>\n",
       "<tr class=\"iris\">\n",
       "    <td class=\"iris-title iris-word-cell\">Auxiliary coordinates</td>\n",
       "    <td class=\"iris-title\"></td>\n",
       "    <td class=\"iris-title\"></td>\n",
       "    <td class=\"iris-title\"></td>\n",
       "</tr>\n",
       "<tr class=\"iris\">\n",
       "    <td class=\"iris-word-cell iris-subheading-cell\">\tlatitude</td>\n",
       "    <td class=\"iris-inclusion-cell\">-</td>\n",
       "    <td class=\"iris-inclusion-cell\">x</td>\n",
       "    <td class=\"iris-inclusion-cell\">x</td>\n",
       "</tr>\n",
       "<tr class=\"iris\">\n",
       "    <td class=\"iris-word-cell iris-subheading-cell\">\tlongitude</td>\n",
       "    <td class=\"iris-inclusion-cell\">-</td>\n",
       "    <td class=\"iris-inclusion-cell\">x</td>\n",
       "    <td class=\"iris-inclusion-cell\">x</td>\n",
       "</tr>\n",
       "<tr class=\"iris\">\n",
       "    <td class=\"iris-title iris-word-cell\">Attributes</td>\n",
       "    <td class=\"iris-title\"></td>\n",
       "    <td class=\"iris-title\"></td>\n",
       "    <td class=\"iris-title\"></td>\n",
       "</tr>\n",
       "<tr class=\"iris\">\n",
       "    <td class=\"iris-word-cell iris-subheading-cell\">\tCDI</td>\n",
       "    <td class=\"iris-word-cell\" colspan=\"3\">Climate Data Interface version ?? (http://mpimet.mpg.de/cdi)</td>\n",
       "</tr>\n",
       "<tr class=\"iris\">\n",
       "    <td class=\"iris-word-cell iris-subheading-cell\">\tCDO</td>\n",
       "    <td class=\"iris-word-cell\" colspan=\"3\">Climate Data Operators version 1.9.3 (http://mpimet.mpg.de/cdo)</td>\n",
       "</tr>\n",
       "<tr class=\"iris\">\n",
       "    <td class=\"iris-word-cell iris-subheading-cell\">\tConventions</td>\n",
       "    <td class=\"iris-word-cell\" colspan=\"3\">CF-1.6</td>\n",
       "</tr>\n",
       "<tr class=\"iris\">\n",
       "    <td class=\"iris-word-cell iris-subheading-cell\">\tNCO</td>\n",
       "    <td class=\"iris-word-cell\" colspan=\"3\">netCDF Operators version 4.7.9 (Homepage = http://nco.sf.net, Code = h...</td>\n",
       "</tr>\n",
       "<tr class=\"iris\">\n",
       "    <td class=\"iris-word-cell iris-subheading-cell\">\thistory</td>\n",
       "    <td class=\"iris-word-cell\" colspan=\"3\">Tue Jul  9 15:37:05 2019: ncatted -a long_name,prcp,o,c,prcp cnrr_199706_TP.nc4...</td>\n",
       "</tr>\n",
       "<tr class=\"iris\">\n",
       "    <td class=\"iris-word-cell iris-subheading-cell\">\thistory_of_appended_files</td>\n",
       "    <td class=\"iris-word-cell\" colspan=\"3\">Thu Jul  4 17:20:59 2019: Appended file surface_20150112.nc had no \"history\"...</td>\n",
       "</tr>\n",
       "<tr class=\"iris\">\n",
       "    <td class=\"iris-word-cell iris-subheading-cell\">\ttitle</td>\n",
       "    <td class=\"iris-word-cell\" colspan=\"3\">CNRR-GSISAT hourly rain, 1997</td>\n",
       "</tr>\n",
       "</table>\n",
       "        "
      ],
      "text/plain": [
       "<iris 'Cube' of prcp / (mm/hr) (time: 720; -- : 141; -- : 201)>"
      ]
     },
     "execution_count": 6,
     "metadata": {},
     "output_type": "execute_result"
    }
   ],
   "source": [
    "Precip"
   ]
  },
  {
   "cell_type": "code",
   "execution_count": 9,
   "metadata": {},
   "outputs": [
    {
     "name": "stdout",
     "output_type": "stream",
     "text": [
      "Available coordinates:     ['time', 'latitude', 'longitude']\n"
     ]
    }
   ],
   "source": [
    "\n",
    "dxy,dt=tobac.get_spacings(Precip, grid_spacing = 18000.0) # grid spacing needs to be given as input! "
   ]
  },
  {
   "cell_type": "markdown",
   "metadata": {},
   "source": [
    "# Test run on simple example "
   ]
  },
  {
   "cell_type": "markdown",
   "metadata": {},
   "source": [
    "## Feature detection "
   ]
  },
  {
   "cell_type": "code",
   "execution_count": 20,
   "metadata": {},
   "outputs": [],
   "source": [
    "# Dictionary containing keyword options (could also be directly given to the function)\n",
    "parameters_features={}\n",
    "parameters_features['position_threshold']='weighted_diff' # diff between specific value and threshold for weighting when finding the center location (instead of just mean lon/lat)\n",
    "parameters_features['min_num']=3 #? \n",
    "parameters_features['min_distance']=0 # minimum distance between features \n",
    "\n",
    "parameters_features['sigma_threshold']=0.5 # for slightly smoothing (gaussian filter)\n",
    "parameters_features['n_erosion_threshold']=0 # pixel erosion (for more robust results)\n",
    "\n",
    "parameters_features['threshold']=[1,2,3,4,5,7,10,15] #mm/h, step-wise threshold for feature detection \n",
    "parameters_features['n_min_threshold']=10 # minimum nr of contiguous pixels for thresholds, 10 pixels = ca. 2000 km2\n",
    "\n"
   ]
  },
  {
   "cell_type": "code",
   "execution_count": 11,
   "metadata": {},
   "outputs": [
    {
     "name": "stdout",
     "output_type": "stream",
     "text": [
      "starting feature detection based on multiple thresholds\n"
     ]
    },
    {
     "ename": "KeyboardInterrupt",
     "evalue": "",
     "output_type": "error",
     "traceback": [
      "\u001b[0;31m---------------------------------------------------------------------------\u001b[0m",
      "\u001b[0;31mKeyboardInterrupt\u001b[0m                         Traceback (most recent call last)",
      "\u001b[0;32m<ipython-input-11-a38681ab5dde>\u001b[0m in \u001b[0;36m<module>\u001b[0;34m\u001b[0m\n\u001b[1;32m      1\u001b[0m \u001b[0;31m# Feature detection based on based on surface precipitation field and a range of thresholds\u001b[0m\u001b[0;34m\u001b[0m\u001b[0;34m\u001b[0m\u001b[0;34m\u001b[0m\u001b[0m\n\u001b[1;32m      2\u001b[0m \u001b[0mprint\u001b[0m\u001b[0;34m(\u001b[0m\u001b[0;34m'starting feature detection based on multiple thresholds'\u001b[0m\u001b[0;34m)\u001b[0m\u001b[0;34m\u001b[0m\u001b[0;34m\u001b[0m\u001b[0m\n\u001b[0;32m----> 3\u001b[0;31m \u001b[0mFeatures\u001b[0m\u001b[0;34m=\u001b[0m\u001b[0mtobac\u001b[0m\u001b[0;34m.\u001b[0m\u001b[0mfeature_detection_multithreshold\u001b[0m\u001b[0;34m(\u001b[0m\u001b[0mPrecip\u001b[0m\u001b[0;34m,\u001b[0m\u001b[0mdxy\u001b[0m\u001b[0;34m,\u001b[0m\u001b[0;34m**\u001b[0m\u001b[0mparameters_features\u001b[0m\u001b[0;34m)\u001b[0m\u001b[0;34m\u001b[0m\u001b[0;34m\u001b[0m\u001b[0m\n\u001b[0m\u001b[1;32m      4\u001b[0m \u001b[0mprint\u001b[0m\u001b[0;34m(\u001b[0m\u001b[0;34m'feature detection done'\u001b[0m\u001b[0;34m)\u001b[0m\u001b[0;34m\u001b[0m\u001b[0;34m\u001b[0m\u001b[0m\n",
      "\u001b[0;32m~/anaconda3/lib/python3.6/site-packages/tobac/feature_detection.py\u001b[0m in \u001b[0;36mfeature_detection_multithreshold\u001b[0;34m(field_in, dxy, threshold, min_num, target, position_threshold, sigma_threshold, n_erosion_threshold, n_min_threshold, min_distance, feature_number_start)\u001b[0m\n\u001b[1;32m     82\u001b[0m \u001b[0;34m\u001b[0m\u001b[0m\n\u001b[1;32m     83\u001b[0m             \u001b[0;31m# detect individual regions, label  and count the number of pixels included:\u001b[0m\u001b[0;34m\u001b[0m\u001b[0;34m\u001b[0m\u001b[0;34m\u001b[0m\u001b[0m\n\u001b[0;32m---> 84\u001b[0;31m             \u001b[0mlabels\u001b[0m \u001b[0;34m=\u001b[0m \u001b[0mlabel\u001b[0m\u001b[0;34m(\u001b[0m\u001b[0mmask\u001b[0m\u001b[0;34m,\u001b[0m \u001b[0mbackground\u001b[0m\u001b[0;34m=\u001b[0m\u001b[0;36m0\u001b[0m\u001b[0;34m)\u001b[0m\u001b[0;34m\u001b[0m\u001b[0;34m\u001b[0m\u001b[0m\n\u001b[0m\u001b[1;32m     85\u001b[0m             \u001b[0mvalues\u001b[0m\u001b[0;34m,\u001b[0m \u001b[0mcount\u001b[0m \u001b[0;34m=\u001b[0m \u001b[0mnp\u001b[0m\u001b[0;34m.\u001b[0m\u001b[0munique\u001b[0m\u001b[0;34m(\u001b[0m\u001b[0mlabels\u001b[0m\u001b[0;34m[\u001b[0m\u001b[0;34m:\u001b[0m\u001b[0;34m,\u001b[0m\u001b[0;34m:\u001b[0m\u001b[0;34m]\u001b[0m\u001b[0;34m.\u001b[0m\u001b[0mravel\u001b[0m\u001b[0;34m(\u001b[0m\u001b[0;34m)\u001b[0m\u001b[0;34m,\u001b[0m \u001b[0mreturn_counts\u001b[0m\u001b[0;34m=\u001b[0m\u001b[0;32mTrue\u001b[0m\u001b[0;34m)\u001b[0m\u001b[0;34m\u001b[0m\u001b[0;34m\u001b[0m\u001b[0m\n\u001b[1;32m     86\u001b[0m             \u001b[0mvalues_counts\u001b[0m\u001b[0;34m=\u001b[0m\u001b[0mdict\u001b[0m\u001b[0;34m(\u001b[0m\u001b[0mzip\u001b[0m\u001b[0;34m(\u001b[0m\u001b[0mvalues\u001b[0m\u001b[0;34m,\u001b[0m \u001b[0mcount\u001b[0m\u001b[0;34m)\u001b[0m\u001b[0;34m)\u001b[0m\u001b[0;34m\u001b[0m\u001b[0;34m\u001b[0m\u001b[0m\n",
      "\u001b[0;32m~/anaconda3/lib/python3.6/site-packages/skimage/measure/_label.py\u001b[0m in \u001b[0;36mlabel\u001b[0;34m(input, neighbors, background, return_num, connectivity)\u001b[0m\n\u001b[1;32m     91\u001b[0m      [0 0 0]]\n\u001b[1;32m     92\u001b[0m     \"\"\"\n\u001b[0;32m---> 93\u001b[0;31m     \u001b[0;32mreturn\u001b[0m \u001b[0mclabel\u001b[0m\u001b[0;34m(\u001b[0m\u001b[0minput\u001b[0m\u001b[0;34m,\u001b[0m \u001b[0mneighbors\u001b[0m\u001b[0;34m,\u001b[0m \u001b[0mbackground\u001b[0m\u001b[0;34m,\u001b[0m \u001b[0mreturn_num\u001b[0m\u001b[0;34m,\u001b[0m \u001b[0mconnectivity\u001b[0m\u001b[0;34m)\u001b[0m\u001b[0;34m\u001b[0m\u001b[0;34m\u001b[0m\u001b[0m\n\u001b[0m",
      "\u001b[0;31mKeyboardInterrupt\u001b[0m: "
     ]
    }
   ],
   "source": [
    "# Feature detection based on based on surface precipitation field and a range of thresholds\n",
    "print('starting feature detection based on multiple thresholds')\n",
    "Features=tobac.feature_detection_multithreshold(Precip,dxy,**parameters_features)\n",
    "print('feature detection done')"
   ]
  },
  {
   "cell_type": "code",
   "execution_count": 3,
   "metadata": {},
   "outputs": [
    {
     "name": "stdout",
     "output_type": "stream",
     "text": [
      "features saved\n"
     ]
    }
   ],
   "source": [
    "#Set up directory to save output and plots:\n",
    "savedir='Save'\n",
    "os.makedirs(savedir,exist_ok=True)\n",
    "plot_dir=\"Plot\"\n",
    "os.makedirs(plot_dir,exist_ok=True)\n",
    "#Features.to_hdf(os.path.join(savedir,'Features.h5'),'table')\n",
    "print('features saved')"
   ]
  },
  {
   "cell_type": "markdown",
   "metadata": {},
   "source": [
    "## Segmentation"
   ]
  },
  {
   "cell_type": "code",
   "execution_count": 15,
   "metadata": {},
   "outputs": [],
   "source": [
    "# Dictionary containing keyword arguments for segmentation step:\n",
    "parameters_segmentation={}\n",
    "parameters_segmentation['method']='watershed'\n",
    "parameters_segmentation['threshold']=1 "
   ]
  },
  {
   "cell_type": "code",
   "execution_count": 309,
   "metadata": {},
   "outputs": [
    {
     "name": "stdout",
     "output_type": "stream",
     "text": [
      "Starting segmentation based on surface precipitation\n",
      "segmentation based on surface precipitation performed, start saving results to files\n",
      "segmentation surface precipitation performed and saved\n"
     ]
    }
   ],
   "source": [
    "# Perform Segmentation and save resulting mask to NetCDF file:\n",
    "print('Starting segmentation based on surface precipitation')\n",
    "Mask,Features_Precip=tobac.segmentation_2D(Features,Precip,dxy,**parameters_segmentation)\n",
    "print('segmentation based on surface precipitation performed, start saving results to files')\n",
    "iris.save([Mask],os.path.join(savedir,'Mask_Segmentation_precip.nc'),zlib=True,complevel=4)                \n",
    "Features_Precip.to_hdf(os.path.join(savedir,'Features_Precip.h5'),'table')\n",
    "print('segmentation surface precipitation performed and saved')\n",
    "\n",
    "\n",
    "\n",
    "\n",
    "\n"
   ]
  },
  {
   "cell_type": "code",
   "execution_count": 339,
   "metadata": {},
   "outputs": [
    {
     "data": {
      "text/html": [
       "<div>\n",
       "<style scoped>\n",
       "    .dataframe tbody tr th:only-of-type {\n",
       "        vertical-align: middle;\n",
       "    }\n",
       "\n",
       "    .dataframe tbody tr th {\n",
       "        vertical-align: top;\n",
       "    }\n",
       "\n",
       "    .dataframe thead th {\n",
       "        text-align: right;\n",
       "    }\n",
       "</style>\n",
       "<table border=\"1\" class=\"dataframe\">\n",
       "  <thead>\n",
       "    <tr style=\"text-align: right;\">\n",
       "      <th></th>\n",
       "      <th>frame</th>\n",
       "      <th>idx</th>\n",
       "      <th>hdim_1</th>\n",
       "      <th>hdim_2</th>\n",
       "      <th>num</th>\n",
       "      <th>threshold_value</th>\n",
       "      <th>feature</th>\n",
       "      <th>time</th>\n",
       "      <th>timestr</th>\n",
       "      <th>ncells</th>\n",
       "      <th>cell</th>\n",
       "      <th>time_cell</th>\n",
       "    </tr>\n",
       "  </thead>\n",
       "  <tbody>\n",
       "    <tr>\n",
       "      <th>623</th>\n",
       "      <td>5</td>\n",
       "      <td>21</td>\n",
       "      <td>12.544383</td>\n",
       "      <td>466.164733</td>\n",
       "      <td>22</td>\n",
       "      <td>1</td>\n",
       "      <td>624</td>\n",
       "      <td>1997-11-01 05:00:00</td>\n",
       "      <td>1997-11-01 05:00:00</td>\n",
       "      <td>0</td>\n",
       "      <td>NaN</td>\n",
       "      <td>NaT</td>\n",
       "    </tr>\n",
       "    <tr>\n",
       "      <th>625</th>\n",
       "      <td>5</td>\n",
       "      <td>37</td>\n",
       "      <td>16.586003</td>\n",
       "      <td>175.559809</td>\n",
       "      <td>15</td>\n",
       "      <td>1</td>\n",
       "      <td>626</td>\n",
       "      <td>1997-11-01 05:00:00</td>\n",
       "      <td>1997-11-01 05:00:00</td>\n",
       "      <td>0</td>\n",
       "      <td>307.0</td>\n",
       "      <td>00:00:00</td>\n",
       "    </tr>\n",
       "    <tr>\n",
       "      <th>639</th>\n",
       "      <td>5</td>\n",
       "      <td>187</td>\n",
       "      <td>77.035841</td>\n",
       "      <td>470.141299</td>\n",
       "      <td>36</td>\n",
       "      <td>1</td>\n",
       "      <td>640</td>\n",
       "      <td>1997-11-01 05:00:00</td>\n",
       "      <td>1997-11-01 05:00:00</td>\n",
       "      <td>0</td>\n",
       "      <td>60.0</td>\n",
       "      <td>05:00:00</td>\n",
       "    </tr>\n",
       "    <tr>\n",
       "      <th>641</th>\n",
       "      <td>5</td>\n",
       "      <td>199</td>\n",
       "      <td>79.838488</td>\n",
       "      <td>449.537637</td>\n",
       "      <td>14</td>\n",
       "      <td>1</td>\n",
       "      <td>642</td>\n",
       "      <td>1997-11-01 05:00:00</td>\n",
       "      <td>1997-11-01 05:00:00</td>\n",
       "      <td>0</td>\n",
       "      <td>235.0</td>\n",
       "      <td>02:00:00</td>\n",
       "    </tr>\n",
       "    <tr>\n",
       "      <th>645</th>\n",
       "      <td>5</td>\n",
       "      <td>233</td>\n",
       "      <td>99.771534</td>\n",
       "      <td>438.638584</td>\n",
       "      <td>33</td>\n",
       "      <td>1</td>\n",
       "      <td>646</td>\n",
       "      <td>1997-11-01 05:00:00</td>\n",
       "      <td>1997-11-01 05:00:00</td>\n",
       "      <td>0</td>\n",
       "      <td>NaN</td>\n",
       "      <td>NaT</td>\n",
       "    </tr>\n",
       "    <tr>\n",
       "      <th>646</th>\n",
       "      <td>5</td>\n",
       "      <td>239</td>\n",
       "      <td>98.808872</td>\n",
       "      <td>445.967155</td>\n",
       "      <td>70</td>\n",
       "      <td>1</td>\n",
       "      <td>647</td>\n",
       "      <td>1997-11-01 05:00:00</td>\n",
       "      <td>1997-11-01 05:00:00</td>\n",
       "      <td>0</td>\n",
       "      <td>276.0</td>\n",
       "      <td>01:00:00</td>\n",
       "    </tr>\n",
       "    <tr>\n",
       "      <th>647</th>\n",
       "      <td>5</td>\n",
       "      <td>243</td>\n",
       "      <td>96.267986</td>\n",
       "      <td>466.876289</td>\n",
       "      <td>11</td>\n",
       "      <td>1</td>\n",
       "      <td>648</td>\n",
       "      <td>1997-11-01 05:00:00</td>\n",
       "      <td>1997-11-01 05:00:00</td>\n",
       "      <td>0</td>\n",
       "      <td>NaN</td>\n",
       "      <td>NaT</td>\n",
       "    </tr>\n",
       "    <tr>\n",
       "      <th>650</th>\n",
       "      <td>5</td>\n",
       "      <td>278</td>\n",
       "      <td>126.068404</td>\n",
       "      <td>50.745161</td>\n",
       "      <td>44</td>\n",
       "      <td>1</td>\n",
       "      <td>651</td>\n",
       "      <td>1997-11-01 05:00:00</td>\n",
       "      <td>1997-11-01 05:00:00</td>\n",
       "      <td>0</td>\n",
       "      <td>280.0</td>\n",
       "      <td>01:00:00</td>\n",
       "    </tr>\n",
       "    <tr>\n",
       "      <th>654</th>\n",
       "      <td>5</td>\n",
       "      <td>316</td>\n",
       "      <td>157.849041</td>\n",
       "      <td>120.213399</td>\n",
       "      <td>19</td>\n",
       "      <td>1</td>\n",
       "      <td>655</td>\n",
       "      <td>1997-11-01 05:00:00</td>\n",
       "      <td>1997-11-01 05:00:00</td>\n",
       "      <td>0</td>\n",
       "      <td>242.0</td>\n",
       "      <td>02:00:00</td>\n",
       "    </tr>\n",
       "    <tr>\n",
       "      <th>678</th>\n",
       "      <td>5</td>\n",
       "      <td>161</td>\n",
       "      <td>102.869278</td>\n",
       "      <td>11.113898</td>\n",
       "      <td>12</td>\n",
       "      <td>2</td>\n",
       "      <td>679</td>\n",
       "      <td>1997-11-01 05:00:00</td>\n",
       "      <td>1997-11-01 05:00:00</td>\n",
       "      <td>0</td>\n",
       "      <td>323.0</td>\n",
       "      <td>00:00:00</td>\n",
       "    </tr>\n",
       "    <tr>\n",
       "      <th>710</th>\n",
       "      <td>5</td>\n",
       "      <td>25</td>\n",
       "      <td>24.058094</td>\n",
       "      <td>91.885484</td>\n",
       "      <td>13</td>\n",
       "      <td>7</td>\n",
       "      <td>711</td>\n",
       "      <td>1997-11-01 05:00:00</td>\n",
       "      <td>1997-11-01 05:00:00</td>\n",
       "      <td>0</td>\n",
       "      <td>53.0</td>\n",
       "      <td>05:00:00</td>\n",
       "    </tr>\n",
       "  </tbody>\n",
       "</table>\n",
       "</div>"
      ],
      "text/plain": [
       "     frame  idx      hdim_1      hdim_2  num  threshold_value  feature  \\\n",
       "623      5   21   12.544383  466.164733   22                1      624   \n",
       "625      5   37   16.586003  175.559809   15                1      626   \n",
       "639      5  187   77.035841  470.141299   36                1      640   \n",
       "641      5  199   79.838488  449.537637   14                1      642   \n",
       "645      5  233   99.771534  438.638584   33                1      646   \n",
       "646      5  239   98.808872  445.967155   70                1      647   \n",
       "647      5  243   96.267986  466.876289   11                1      648   \n",
       "650      5  278  126.068404   50.745161   44                1      651   \n",
       "654      5  316  157.849041  120.213399   19                1      655   \n",
       "678      5  161  102.869278   11.113898   12                2      679   \n",
       "710      5   25   24.058094   91.885484   13                7      711   \n",
       "\n",
       "                    time              timestr  ncells   cell time_cell  \n",
       "623  1997-11-01 05:00:00  1997-11-01 05:00:00       0    NaN       NaT  \n",
       "625  1997-11-01 05:00:00  1997-11-01 05:00:00       0  307.0  00:00:00  \n",
       "639  1997-11-01 05:00:00  1997-11-01 05:00:00       0   60.0  05:00:00  \n",
       "641  1997-11-01 05:00:00  1997-11-01 05:00:00       0  235.0  02:00:00  \n",
       "645  1997-11-01 05:00:00  1997-11-01 05:00:00       0    NaN       NaT  \n",
       "646  1997-11-01 05:00:00  1997-11-01 05:00:00       0  276.0  01:00:00  \n",
       "647  1997-11-01 05:00:00  1997-11-01 05:00:00       0    NaN       NaT  \n",
       "650  1997-11-01 05:00:00  1997-11-01 05:00:00       0  280.0  01:00:00  \n",
       "654  1997-11-01 05:00:00  1997-11-01 05:00:00       0  242.0  02:00:00  \n",
       "678  1997-11-01 05:00:00  1997-11-01 05:00:00       0  323.0  00:00:00  \n",
       "710  1997-11-01 05:00:00  1997-11-01 05:00:00       0   53.0  05:00:00  "
      ]
     },
     "execution_count": 339,
     "metadata": {},
     "output_type": "execute_result"
    }
   ],
   "source": [
    "timestamp = Track.loc[Track['timestr'] == '1997-11-01 05:00:00']\n",
    "np.unique(timestamp.cell)\n",
    "timestamp.loc[timestamp['ncells']== 0]"
   ]
  },
  {
   "cell_type": "markdown",
   "metadata": {},
   "source": [
    "# Tracking"
   ]
  },
  {
   "cell_type": "code",
   "execution_count": 8,
   "metadata": {},
   "outputs": [],
   "source": [
    "# Dictionary containing keyword arguments for the linking step:\n",
    "parameters_linking={}\n",
    "\n",
    "parameters_linking['adaptive_stop']=0.2\n",
    "parameters_linking['adaptive_step']=0.95\n",
    "parameters_linking['extrapolate']=0\n",
    "parameters_linking['order']=1\n",
    "parameters_linking['subnetwork_size']= 100 # maximum size of subnetwork used for linking \n",
    "parameters_linking['memory']=0\n",
    "#parameters_linking['time_cell_min']=5*60\n",
    "parameters_linking['time_cell_min']= 3*dt \n",
    "parameters_linking['method_linking']='predict'\n",
    "#parameters_linking['method_detection']='threshold'\n",
    "parameters_linking['v_max']= 10\n",
    "#parameters_linking['d_min']=2000\n",
    "parameters_linking['d_min']=2*dxy # four times the grid spacing  (! seems to be important for GPM data)"
   ]
  },
  {
   "cell_type": "code",
   "execution_count": 536,
   "metadata": {},
   "outputs": [
    {
     "name": "stdout",
     "output_type": "stream",
     "text": [
      "Frame 719: 109 trajectories present.\n"
     ]
    },
    {
     "name": "stderr",
     "output_type": "stream",
     "text": [
      "/home/juli/anaconda3/lib/python3.6/site-packages/pandas/core/generic.py:2377: PerformanceWarning: \n",
      "your performance may suffer as PyTables will pickle object types that it cannot\n",
      "map directly to c-types [inferred_type->mixed,key->block2_values] [items->['time', 'timestr']]\n",
      "\n",
      "  return pytables.to_hdf(path_or_buf, key, self, **kwargs)\n"
     ]
    }
   ],
   "source": [
    "# Perform trajectory linking using trackpy and save the resulting DataFrame:\n",
    "Track=tobac.linking_trackpy(Features,Precip,dt=dt,dxy=dxy,**parameters_linking)\n",
    "Track.to_hdf(os.path.join(savedir,'Track1.h5'),'table')\n"
   ]
  },
  {
   "cell_type": "markdown",
   "metadata": {},
   "source": [
    "# Chunking "
   ]
  },
  {
   "cell_type": "code",
   "execution_count": 10,
   "metadata": {},
   "outputs": [
    {
     "name": "stdout",
     "output_type": "stream",
     "text": [
      "files in dataset:   240\n"
     ]
    }
   ],
   "source": [
    "# get list with all files by month\n",
    "import glob\n",
    "file_list= glob.glob('/media/juli/Data/third_pole/CNRR/data/*TP*.nc4')  \n",
    "print('files in dataset:  ', len(file_list))\n"
   ]
  },
  {
   "cell_type": "code",
   "execution_count": 23,
   "metadata": {},
   "outputs": [
    {
     "name": "stdout",
     "output_type": "stream",
     "text": [
      "file already processed.\n",
      "file already processed.\n",
      "file already processed.\n",
      "file already processed.\n",
      "file already processed.\n",
      "file already processed.\n",
      "file already processed.\n",
      "file already processed.\n",
      "file already processed.\n",
      "file already processed.\n",
      "file already processed.\n",
      "file already processed.\n",
      "file already processed.\n",
      "file already processed.\n",
      "file already processed.\n",
      "file already processed.\n",
      "file already processed.\n",
      "file already processed.\n",
      "file already processed.\n",
      "file already processed.\n",
      "file already processed.\n",
      "file already processed.\n",
      "file already processed.\n",
      "file already processed.\n",
      "file already processed.\n",
      "file already processed.\n",
      "file already processed.\n",
      "file already processed.\n",
      "file already processed.\n",
      "file already processed.\n",
      "file already processed.\n",
      "file already processed.\n",
      "file already processed.\n",
      "file already processed.\n",
      "file already processed.\n",
      "file already processed.\n",
      "file already processed.\n",
      "file already processed.\n",
      "file already processed.\n",
      "file already processed.\n",
      "file already processed.\n",
      "file already processed.\n",
      "file already processed.\n",
      "file already processed.\n",
      "file already processed.\n",
      "file already processed.\n",
      "file already processed.\n",
      "file already processed.\n",
      "file already processed.\n",
      "file already processed.\n",
      "file already processed.\n",
      "file already processed.\n",
      "file already processed.\n",
      "file already processed.\n",
      "file already processed.\n",
      "file already processed.\n",
      "file already processed.\n",
      "file already processed.\n",
      "file already processed.\n",
      "file already processed.\n",
      "file already processed.\n",
      "file already processed.\n",
      "file already processed.\n",
      "file already processed.\n",
      "file already processed.\n",
      "file already processed.\n",
      "file already processed.\n",
      "file already processed.\n",
      "file already processed.\n",
      "file already processed.\n",
      "file already processed.\n",
      "file already processed.\n",
      "file already processed.\n",
      "file already processed.\n",
      "file already processed.\n",
      "file already processed.\n",
      "file already processed.\n",
      "file already processed.\n",
      "file already processed.\n",
      "file already processed.\n",
      "file already processed.\n",
      "file already processed.\n",
      "file already processed.\n",
      "file already processed.\n",
      "file already processed.\n",
      "file already processed.\n",
      "file already processed.\n",
      "file already processed.\n",
      "file already processed.\n",
      "file already processed.\n",
      "file already processed.\n",
      "file already processed.\n",
      "file already processed.\n",
      "file already processed.\n",
      "file already processed.\n",
      "file already processed.\n",
      "file already processed.\n",
      "file already processed.\n",
      "file already processed.\n",
      "file already processed.\n",
      "file already processed.\n",
      "file already processed.\n",
      "file already processed.\n",
      "file already processed.\n",
      "file already processed.\n",
      "file already processed.\n",
      "file already processed.\n",
      "file already processed.\n",
      "file already processed.\n",
      "file already processed.\n",
      "file already processed.\n",
      "file already processed.\n",
      "file already processed.\n",
      "file already processed.\n",
      "file already processed.\n",
      "file already processed.\n",
      "file already processed.\n",
      "file already processed.\n",
      "file already processed.\n",
      "file already processed.\n",
      "file already processed.\n",
      "file already processed.\n",
      "file already processed.\n",
      "file already processed.\n",
      "file already processed.\n",
      "file already processed.\n",
      "file already processed.\n",
      "file already processed.\n",
      "file already processed.\n",
      "file already processed.\n",
      "file already processed.\n",
      "file already processed.\n",
      "file already processed.\n",
      "file already processed.\n",
      "file already processed.\n",
      "file already processed.\n",
      "file already processed.\n",
      "file already processed.\n",
      "file already processed.\n",
      "file already processed.\n",
      "file already processed.\n",
      "file already processed.\n",
      "file already processed.\n",
      "file already processed.\n",
      "file already processed.\n",
      "file already processed.\n",
      "file already processed.\n",
      "file already processed.\n",
      "file already processed.\n",
      "file already processed.\n",
      "file already processed.\n",
      "file already processed.\n",
      "file already processed.\n",
      "file already processed.\n",
      "file already processed.\n",
      "file already processed.\n",
      "file already processed.\n",
      "start process for file..... /media/juli/Data/third_pole/CNRR/data/cnrr_cnrr_200001_TP.nc4.nc4\n",
      "starting feature detection based on multiple thresholds\n",
      "feature detection done\n",
      "features saved\n",
      "Starting segmentation based on surface precipitation\n"
     ]
    },
    {
     "name": "stderr",
     "output_type": "stream",
     "text": [
      "/home/juli/anaconda3/lib/python3.6/site-packages/pandas/core/generic.py:2377: PerformanceWarning: \n",
      "your performance may suffer as PyTables will pickle object types that it cannot\n",
      "map directly to c-types [inferred_type->mixed,key->block2_values] [items->['time', 'timestr']]\n",
      "\n",
      "  return pytables.to_hdf(path_or_buf, key, self, **kwargs)\n"
     ]
    },
    {
     "name": "stdout",
     "output_type": "stream",
     "text": [
      "segmentation based on surface precipitation performed, start saving results to files\n",
      "segmentation surface precipitation performed and saved\n",
      "start process for file..... /media/juli/Data/third_pole/CNRR/data/cnrr_cnrr_200002_TP.nc4.nc4\n",
      "starting feature detection based on multiple thresholds\n",
      "feature detection done\n",
      "features saved\n",
      "Starting segmentation based on surface precipitation\n"
     ]
    },
    {
     "name": "stderr",
     "output_type": "stream",
     "text": [
      "/home/juli/anaconda3/lib/python3.6/site-packages/pandas/core/generic.py:2377: PerformanceWarning: \n",
      "your performance may suffer as PyTables will pickle object types that it cannot\n",
      "map directly to c-types [inferred_type->mixed,key->block2_values] [items->['time', 'timestr']]\n",
      "\n",
      "  return pytables.to_hdf(path_or_buf, key, self, **kwargs)\n"
     ]
    },
    {
     "name": "stdout",
     "output_type": "stream",
     "text": [
      "segmentation based on surface precipitation performed, start saving results to files\n",
      "segmentation surface precipitation performed and saved\n",
      "start process for file..... /media/juli/Data/third_pole/CNRR/data/cnrr_cnrr_200003_TP.nc4.nc4\n",
      "starting feature detection based on multiple thresholds\n",
      "feature detection done\n",
      "features saved\n",
      "Starting segmentation based on surface precipitation\n"
     ]
    },
    {
     "name": "stderr",
     "output_type": "stream",
     "text": [
      "/home/juli/anaconda3/lib/python3.6/site-packages/pandas/core/generic.py:2377: PerformanceWarning: \n",
      "your performance may suffer as PyTables will pickle object types that it cannot\n",
      "map directly to c-types [inferred_type->mixed,key->block2_values] [items->['time', 'timestr']]\n",
      "\n",
      "  return pytables.to_hdf(path_or_buf, key, self, **kwargs)\n"
     ]
    },
    {
     "name": "stdout",
     "output_type": "stream",
     "text": [
      "segmentation based on surface precipitation performed, start saving results to files\n",
      "segmentation surface precipitation performed and saved\n",
      "start process for file..... /media/juli/Data/third_pole/CNRR/data/cnrr_cnrr_200004_TP.nc4.nc4\n",
      "starting feature detection based on multiple thresholds\n",
      "feature detection done\n",
      "features saved\n",
      "Starting segmentation based on surface precipitation\n"
     ]
    },
    {
     "name": "stderr",
     "output_type": "stream",
     "text": [
      "/home/juli/anaconda3/lib/python3.6/site-packages/pandas/core/generic.py:2377: PerformanceWarning: \n",
      "your performance may suffer as PyTables will pickle object types that it cannot\n",
      "map directly to c-types [inferred_type->mixed,key->block2_values] [items->['time', 'timestr']]\n",
      "\n",
      "  return pytables.to_hdf(path_or_buf, key, self, **kwargs)\n"
     ]
    },
    {
     "name": "stdout",
     "output_type": "stream",
     "text": [
      "segmentation based on surface precipitation performed, start saving results to files\n",
      "segmentation surface precipitation performed and saved\n",
      "start process for file..... /media/juli/Data/third_pole/CNRR/data/cnrr_cnrr_200005_TP.nc4.nc4\n",
      "starting feature detection based on multiple thresholds\n",
      "feature detection done\n",
      "features saved\n",
      "Starting segmentation based on surface precipitation\n"
     ]
    },
    {
     "name": "stderr",
     "output_type": "stream",
     "text": [
      "/home/juli/anaconda3/lib/python3.6/site-packages/pandas/core/generic.py:2377: PerformanceWarning: \n",
      "your performance may suffer as PyTables will pickle object types that it cannot\n",
      "map directly to c-types [inferred_type->mixed,key->block2_values] [items->['time', 'timestr']]\n",
      "\n",
      "  return pytables.to_hdf(path_or_buf, key, self, **kwargs)\n"
     ]
    },
    {
     "name": "stdout",
     "output_type": "stream",
     "text": [
      "segmentation based on surface precipitation performed, start saving results to files\n",
      "segmentation surface precipitation performed and saved\n",
      "start process for file..... /media/juli/Data/third_pole/CNRR/data/cnrr_cnrr_200006_TP.nc4.nc4\n",
      "starting feature detection based on multiple thresholds\n",
      "feature detection done\n",
      "features saved\n",
      "Starting segmentation based on surface precipitation\n"
     ]
    },
    {
     "name": "stderr",
     "output_type": "stream",
     "text": [
      "/home/juli/anaconda3/lib/python3.6/site-packages/pandas/core/generic.py:2377: PerformanceWarning: \n",
      "your performance may suffer as PyTables will pickle object types that it cannot\n",
      "map directly to c-types [inferred_type->mixed,key->block2_values] [items->['time', 'timestr']]\n",
      "\n",
      "  return pytables.to_hdf(path_or_buf, key, self, **kwargs)\n"
     ]
    },
    {
     "name": "stdout",
     "output_type": "stream",
     "text": [
      "segmentation based on surface precipitation performed, start saving results to files\n",
      "segmentation surface precipitation performed and saved\n",
      "start process for file..... /media/juli/Data/third_pole/CNRR/data/cnrr_cnrr_200007_TP.nc4.nc4\n",
      "starting feature detection based on multiple thresholds\n",
      "feature detection done\n",
      "features saved\n",
      "Starting segmentation based on surface precipitation\n"
     ]
    },
    {
     "name": "stderr",
     "output_type": "stream",
     "text": [
      "/home/juli/anaconda3/lib/python3.6/site-packages/pandas/core/generic.py:2377: PerformanceWarning: \n",
      "your performance may suffer as PyTables will pickle object types that it cannot\n",
      "map directly to c-types [inferred_type->mixed,key->block2_values] [items->['time', 'timestr']]\n",
      "\n",
      "  return pytables.to_hdf(path_or_buf, key, self, **kwargs)\n"
     ]
    },
    {
     "name": "stdout",
     "output_type": "stream",
     "text": [
      "segmentation based on surface precipitation performed, start saving results to files\n",
      "segmentation surface precipitation performed and saved\n",
      "start process for file..... /media/juli/Data/third_pole/CNRR/data/cnrr_cnrr_200008_TP.nc4.nc4\n",
      "starting feature detection based on multiple thresholds\n",
      "feature detection done\n",
      "features saved\n",
      "Starting segmentation based on surface precipitation\n"
     ]
    },
    {
     "name": "stderr",
     "output_type": "stream",
     "text": [
      "/home/juli/anaconda3/lib/python3.6/site-packages/pandas/core/generic.py:2377: PerformanceWarning: \n",
      "your performance may suffer as PyTables will pickle object types that it cannot\n",
      "map directly to c-types [inferred_type->mixed,key->block2_values] [items->['time', 'timestr']]\n",
      "\n",
      "  return pytables.to_hdf(path_or_buf, key, self, **kwargs)\n"
     ]
    },
    {
     "name": "stdout",
     "output_type": "stream",
     "text": [
      "segmentation based on surface precipitation performed, start saving results to files\n",
      "segmentation surface precipitation performed and saved\n",
      "start process for file..... /media/juli/Data/third_pole/CNRR/data/cnrr_cnrr_200009_TP.nc4.nc4\n",
      "starting feature detection based on multiple thresholds\n",
      "feature detection done\n",
      "features saved\n",
      "Starting segmentation based on surface precipitation\n"
     ]
    },
    {
     "name": "stderr",
     "output_type": "stream",
     "text": [
      "/home/juli/anaconda3/lib/python3.6/site-packages/pandas/core/generic.py:2377: PerformanceWarning: \n",
      "your performance may suffer as PyTables will pickle object types that it cannot\n",
      "map directly to c-types [inferred_type->mixed,key->block2_values] [items->['time', 'timestr']]\n",
      "\n",
      "  return pytables.to_hdf(path_or_buf, key, self, **kwargs)\n"
     ]
    },
    {
     "name": "stdout",
     "output_type": "stream",
     "text": [
      "segmentation based on surface precipitation performed, start saving results to files\n",
      "segmentation surface precipitation performed and saved\n",
      "start process for file..... /media/juli/Data/third_pole/CNRR/data/cnrr_cnrr_200010_TP.nc4.nc4\n",
      "starting feature detection based on multiple thresholds\n",
      "feature detection done\n",
      "features saved\n",
      "Starting segmentation based on surface precipitation\n"
     ]
    },
    {
     "name": "stderr",
     "output_type": "stream",
     "text": [
      "/home/juli/anaconda3/lib/python3.6/site-packages/pandas/core/generic.py:2377: PerformanceWarning: \n",
      "your performance may suffer as PyTables will pickle object types that it cannot\n",
      "map directly to c-types [inferred_type->mixed,key->block2_values] [items->['time', 'timestr']]\n",
      "\n",
      "  return pytables.to_hdf(path_or_buf, key, self, **kwargs)\n"
     ]
    },
    {
     "name": "stdout",
     "output_type": "stream",
     "text": [
      "segmentation based on surface precipitation performed, start saving results to files\n",
      "segmentation surface precipitation performed and saved\n",
      "start process for file..... /media/juli/Data/third_pole/CNRR/data/cnrr_cnrr_200011_TP.nc4.nc4\n",
      "starting feature detection based on multiple thresholds\n",
      "feature detection done\n",
      "features saved\n",
      "Starting segmentation based on surface precipitation\n"
     ]
    },
    {
     "name": "stderr",
     "output_type": "stream",
     "text": [
      "/home/juli/anaconda3/lib/python3.6/site-packages/pandas/core/generic.py:2377: PerformanceWarning: \n",
      "your performance may suffer as PyTables will pickle object types that it cannot\n",
      "map directly to c-types [inferred_type->mixed,key->block2_values] [items->['time', 'timestr']]\n",
      "\n",
      "  return pytables.to_hdf(path_or_buf, key, self, **kwargs)\n"
     ]
    },
    {
     "name": "stdout",
     "output_type": "stream",
     "text": [
      "segmentation based on surface precipitation performed, start saving results to files\n",
      "segmentation surface precipitation performed and saved\n",
      "start process for file..... /media/juli/Data/third_pole/CNRR/data/cnrr_cnrr_200012_TP.nc4.nc4\n",
      "starting feature detection based on multiple thresholds\n",
      "feature detection done\n",
      "features saved\n",
      "Starting segmentation based on surface precipitation\n"
     ]
    },
    {
     "name": "stderr",
     "output_type": "stream",
     "text": [
      "/home/juli/anaconda3/lib/python3.6/site-packages/pandas/core/generic.py:2377: PerformanceWarning: \n",
      "your performance may suffer as PyTables will pickle object types that it cannot\n",
      "map directly to c-types [inferred_type->mixed,key->block2_values] [items->['time', 'timestr']]\n",
      "\n",
      "  return pytables.to_hdf(path_or_buf, key, self, **kwargs)\n"
     ]
    },
    {
     "name": "stdout",
     "output_type": "stream",
     "text": [
      "segmentation based on surface precipitation performed, start saving results to files\n",
      "segmentation surface precipitation performed and saved\n",
      "start process for file..... /media/juli/Data/third_pole/CNRR/data/cnrr_cnrr_200101_TP.nc4.nc4\n",
      "starting feature detection based on multiple thresholds\n",
      "feature detection done\n",
      "features saved\n",
      "Starting segmentation based on surface precipitation\n"
     ]
    },
    {
     "name": "stderr",
     "output_type": "stream",
     "text": [
      "/home/juli/anaconda3/lib/python3.6/site-packages/pandas/core/generic.py:2377: PerformanceWarning: \n",
      "your performance may suffer as PyTables will pickle object types that it cannot\n",
      "map directly to c-types [inferred_type->mixed,key->block2_values] [items->['time', 'timestr']]\n",
      "\n",
      "  return pytables.to_hdf(path_or_buf, key, self, **kwargs)\n"
     ]
    },
    {
     "name": "stdout",
     "output_type": "stream",
     "text": [
      "segmentation based on surface precipitation performed, start saving results to files\n",
      "segmentation surface precipitation performed and saved\n",
      "start process for file..... /media/juli/Data/third_pole/CNRR/data/cnrr_cnrr_200206_TP.nc4.nc4\n",
      "starting feature detection based on multiple thresholds\n",
      "feature detection done\n",
      "features saved\n",
      "Starting segmentation based on surface precipitation\n"
     ]
    },
    {
     "name": "stderr",
     "output_type": "stream",
     "text": [
      "/home/juli/anaconda3/lib/python3.6/site-packages/pandas/core/generic.py:2377: PerformanceWarning: \n",
      "your performance may suffer as PyTables will pickle object types that it cannot\n",
      "map directly to c-types [inferred_type->mixed,key->block2_values] [items->['time', 'timestr']]\n",
      "\n",
      "  return pytables.to_hdf(path_or_buf, key, self, **kwargs)\n"
     ]
    },
    {
     "name": "stdout",
     "output_type": "stream",
     "text": [
      "segmentation based on surface precipitation performed, start saving results to files\n",
      "segmentation surface precipitation performed and saved\n",
      "start process for file..... /media/juli/Data/third_pole/CNRR/data/cnrr_cnrr_200207_TP.nc4.nc4\n",
      "starting feature detection based on multiple thresholds\n",
      "feature detection done\n",
      "features saved\n",
      "Starting segmentation based on surface precipitation\n"
     ]
    },
    {
     "name": "stderr",
     "output_type": "stream",
     "text": [
      "/home/juli/anaconda3/lib/python3.6/site-packages/pandas/core/generic.py:2377: PerformanceWarning: \n",
      "your performance may suffer as PyTables will pickle object types that it cannot\n",
      "map directly to c-types [inferred_type->mixed,key->block2_values] [items->['time', 'timestr']]\n",
      "\n",
      "  return pytables.to_hdf(path_or_buf, key, self, **kwargs)\n"
     ]
    },
    {
     "name": "stdout",
     "output_type": "stream",
     "text": [
      "segmentation based on surface precipitation performed, start saving results to files\n",
      "segmentation surface precipitation performed and saved\n",
      "start process for file..... /media/juli/Data/third_pole/CNRR/data/cnrr_cnrr_200208_TP.nc4.nc4\n",
      "starting feature detection based on multiple thresholds\n",
      "feature detection done\n",
      "features saved\n",
      "Starting segmentation based on surface precipitation\n"
     ]
    },
    {
     "name": "stderr",
     "output_type": "stream",
     "text": [
      "/home/juli/anaconda3/lib/python3.6/site-packages/pandas/core/generic.py:2377: PerformanceWarning: \n",
      "your performance may suffer as PyTables will pickle object types that it cannot\n",
      "map directly to c-types [inferred_type->mixed,key->block2_values] [items->['time', 'timestr']]\n",
      "\n",
      "  return pytables.to_hdf(path_or_buf, key, self, **kwargs)\n"
     ]
    },
    {
     "name": "stdout",
     "output_type": "stream",
     "text": [
      "segmentation based on surface precipitation performed, start saving results to files\n",
      "segmentation surface precipitation performed and saved\n",
      "start process for file..... /media/juli/Data/third_pole/CNRR/data/cnrr_cnrr_200209_TP.nc4.nc4\n",
      "starting feature detection based on multiple thresholds\n",
      "feature detection done\n",
      "features saved\n",
      "Starting segmentation based on surface precipitation\n"
     ]
    },
    {
     "name": "stderr",
     "output_type": "stream",
     "text": [
      "/home/juli/anaconda3/lib/python3.6/site-packages/pandas/core/generic.py:2377: PerformanceWarning: \n",
      "your performance may suffer as PyTables will pickle object types that it cannot\n",
      "map directly to c-types [inferred_type->mixed,key->block2_values] [items->['time', 'timestr']]\n",
      "\n",
      "  return pytables.to_hdf(path_or_buf, key, self, **kwargs)\n"
     ]
    },
    {
     "name": "stdout",
     "output_type": "stream",
     "text": [
      "segmentation based on surface precipitation performed, start saving results to files\n",
      "segmentation surface precipitation performed and saved\n",
      "start process for file..... /media/juli/Data/third_pole/CNRR/data/cnrr_cnrr_200210_TP.nc4.nc4\n",
      "starting feature detection based on multiple thresholds\n",
      "feature detection done\n",
      "features saved\n",
      "Starting segmentation based on surface precipitation\n"
     ]
    },
    {
     "name": "stderr",
     "output_type": "stream",
     "text": [
      "/home/juli/anaconda3/lib/python3.6/site-packages/pandas/core/generic.py:2377: PerformanceWarning: \n",
      "your performance may suffer as PyTables will pickle object types that it cannot\n",
      "map directly to c-types [inferred_type->mixed,key->block2_values] [items->['time', 'timestr']]\n",
      "\n",
      "  return pytables.to_hdf(path_or_buf, key, self, **kwargs)\n"
     ]
    },
    {
     "name": "stdout",
     "output_type": "stream",
     "text": [
      "segmentation based on surface precipitation performed, start saving results to files\n",
      "segmentation surface precipitation performed and saved\n",
      "start process for file..... /media/juli/Data/third_pole/CNRR/data/cnrr_cnrr_200211_TP.nc4.nc4\n",
      "starting feature detection based on multiple thresholds\n",
      "feature detection done\n",
      "features saved\n",
      "Starting segmentation based on surface precipitation\n"
     ]
    },
    {
     "name": "stderr",
     "output_type": "stream",
     "text": [
      "/home/juli/anaconda3/lib/python3.6/site-packages/pandas/core/generic.py:2377: PerformanceWarning: \n",
      "your performance may suffer as PyTables will pickle object types that it cannot\n",
      "map directly to c-types [inferred_type->mixed,key->block2_values] [items->['time', 'timestr']]\n",
      "\n",
      "  return pytables.to_hdf(path_or_buf, key, self, **kwargs)\n"
     ]
    },
    {
     "name": "stdout",
     "output_type": "stream",
     "text": [
      "segmentation based on surface precipitation performed, start saving results to files\n",
      "segmentation surface precipitation performed and saved\n",
      "start process for file..... /media/juli/Data/third_pole/CNRR/data/cnrr_cnrr_200212_TP.nc4.nc4\n",
      "starting feature detection based on multiple thresholds\n",
      "feature detection done\n",
      "features saved\n",
      "Starting segmentation based on surface precipitation\n"
     ]
    },
    {
     "name": "stderr",
     "output_type": "stream",
     "text": [
      "/home/juli/anaconda3/lib/python3.6/site-packages/pandas/core/generic.py:2377: PerformanceWarning: \n",
      "your performance may suffer as PyTables will pickle object types that it cannot\n",
      "map directly to c-types [inferred_type->mixed,key->block2_values] [items->['time', 'timestr']]\n",
      "\n",
      "  return pytables.to_hdf(path_or_buf, key, self, **kwargs)\n"
     ]
    },
    {
     "name": "stdout",
     "output_type": "stream",
     "text": [
      "segmentation based on surface precipitation performed, start saving results to files\n",
      "segmentation surface precipitation performed and saved\n",
      "start process for file..... /media/juli/Data/third_pole/CNRR/data/cnrr_cnrr_200301_TP.nc4.nc4\n",
      "starting feature detection based on multiple thresholds\n",
      "feature detection done\n"
     ]
    },
    {
     "name": "stderr",
     "output_type": "stream",
     "text": [
      "/home/juli/anaconda3/lib/python3.6/site-packages/pandas/core/generic.py:2377: PerformanceWarning: \n",
      "your performance may suffer as PyTables will pickle object types that it cannot\n",
      "map directly to c-types [inferred_type->mixed,key->block2_values] [items->['time', 'timestr']]\n",
      "\n",
      "  return pytables.to_hdf(path_or_buf, key, self, **kwargs)\n"
     ]
    },
    {
     "name": "stdout",
     "output_type": "stream",
     "text": [
      "features saved\n",
      "Starting segmentation based on surface precipitation\n",
      "segmentation based on surface precipitation performed, start saving results to files\n",
      "segmentation surface precipitation performed and saved\n",
      "start process for file..... /media/juli/Data/third_pole/CNRR/data/cnrr_cnrr_200302_TP.nc4.nc4\n",
      "starting feature detection based on multiple thresholds\n",
      "feature detection done\n"
     ]
    },
    {
     "name": "stderr",
     "output_type": "stream",
     "text": [
      "/home/juli/anaconda3/lib/python3.6/site-packages/pandas/core/generic.py:2377: PerformanceWarning: \n",
      "your performance may suffer as PyTables will pickle object types that it cannot\n",
      "map directly to c-types [inferred_type->mixed,key->block2_values] [items->['time', 'timestr']]\n",
      "\n",
      "  return pytables.to_hdf(path_or_buf, key, self, **kwargs)\n"
     ]
    },
    {
     "name": "stdout",
     "output_type": "stream",
     "text": [
      "features saved\n",
      "Starting segmentation based on surface precipitation\n",
      "segmentation based on surface precipitation performed, start saving results to files\n",
      "segmentation surface precipitation performed and saved\n",
      "start process for file..... /media/juli/Data/third_pole/CNRR/data/cnrr_cnrr_200303_TP.nc4.nc4\n",
      "starting feature detection based on multiple thresholds\n",
      "feature detection done\n",
      "features saved\n",
      "Starting segmentation based on surface precipitation\n"
     ]
    },
    {
     "name": "stderr",
     "output_type": "stream",
     "text": [
      "/home/juli/anaconda3/lib/python3.6/site-packages/pandas/core/generic.py:2377: PerformanceWarning: \n",
      "your performance may suffer as PyTables will pickle object types that it cannot\n",
      "map directly to c-types [inferred_type->mixed,key->block2_values] [items->['time', 'timestr']]\n",
      "\n",
      "  return pytables.to_hdf(path_or_buf, key, self, **kwargs)\n"
     ]
    },
    {
     "name": "stdout",
     "output_type": "stream",
     "text": [
      "segmentation based on surface precipitation performed, start saving results to files\n",
      "segmentation surface precipitation performed and saved\n",
      "start process for file..... /media/juli/Data/third_pole/CNRR/data/cnrr_cnrr_200304_TP.nc4.nc4\n",
      "starting feature detection based on multiple thresholds\n",
      "feature detection done\n",
      "features saved\n",
      "Starting segmentation based on surface precipitation\n"
     ]
    },
    {
     "name": "stderr",
     "output_type": "stream",
     "text": [
      "/home/juli/anaconda3/lib/python3.6/site-packages/pandas/core/generic.py:2377: PerformanceWarning: \n",
      "your performance may suffer as PyTables will pickle object types that it cannot\n",
      "map directly to c-types [inferred_type->mixed,key->block2_values] [items->['time', 'timestr']]\n",
      "\n",
      "  return pytables.to_hdf(path_or_buf, key, self, **kwargs)\n"
     ]
    },
    {
     "name": "stdout",
     "output_type": "stream",
     "text": [
      "segmentation based on surface precipitation performed, start saving results to files\n",
      "segmentation surface precipitation performed and saved\n",
      "start process for file..... /media/juli/Data/third_pole/CNRR/data/cnrr_cnrr_200305_TP.nc4.nc4\n",
      "starting feature detection based on multiple thresholds\n",
      "feature detection done\n",
      "features saved\n",
      "Starting segmentation based on surface precipitation\n"
     ]
    },
    {
     "name": "stderr",
     "output_type": "stream",
     "text": [
      "/home/juli/anaconda3/lib/python3.6/site-packages/pandas/core/generic.py:2377: PerformanceWarning: \n",
      "your performance may suffer as PyTables will pickle object types that it cannot\n",
      "map directly to c-types [inferred_type->mixed,key->block2_values] [items->['time', 'timestr']]\n",
      "\n",
      "  return pytables.to_hdf(path_or_buf, key, self, **kwargs)\n"
     ]
    },
    {
     "name": "stdout",
     "output_type": "stream",
     "text": [
      "segmentation based on surface precipitation performed, start saving results to files\n",
      "segmentation surface precipitation performed and saved\n",
      "start process for file..... /media/juli/Data/third_pole/CNRR/data/cnrr_cnrr_200306_TP.nc4.nc4\n",
      "starting feature detection based on multiple thresholds\n",
      "feature detection done\n"
     ]
    },
    {
     "name": "stderr",
     "output_type": "stream",
     "text": [
      "/home/juli/anaconda3/lib/python3.6/site-packages/pandas/core/generic.py:2377: PerformanceWarning: \n",
      "your performance may suffer as PyTables will pickle object types that it cannot\n",
      "map directly to c-types [inferred_type->mixed,key->block2_values] [items->['time', 'timestr']]\n",
      "\n",
      "  return pytables.to_hdf(path_or_buf, key, self, **kwargs)\n"
     ]
    },
    {
     "name": "stdout",
     "output_type": "stream",
     "text": [
      "features saved\n",
      "Starting segmentation based on surface precipitation\n",
      "segmentation based on surface precipitation performed, start saving results to files\n",
      "segmentation surface precipitation performed and saved\n",
      "start process for file..... /media/juli/Data/third_pole/CNRR/data/cnrr_cnrr_200307_TP.nc4.nc4\n",
      "starting feature detection based on multiple thresholds\n",
      "feature detection done\n",
      "features saved\n",
      "Starting segmentation based on surface precipitation\n"
     ]
    },
    {
     "name": "stderr",
     "output_type": "stream",
     "text": [
      "/home/juli/anaconda3/lib/python3.6/site-packages/pandas/core/generic.py:2377: PerformanceWarning: \n",
      "your performance may suffer as PyTables will pickle object types that it cannot\n",
      "map directly to c-types [inferred_type->mixed,key->block2_values] [items->['time', 'timestr']]\n",
      "\n",
      "  return pytables.to_hdf(path_or_buf, key, self, **kwargs)\n"
     ]
    },
    {
     "name": "stdout",
     "output_type": "stream",
     "text": [
      "segmentation based on surface precipitation performed, start saving results to files\n",
      "segmentation surface precipitation performed and saved\n",
      "start process for file..... /media/juli/Data/third_pole/CNRR/data/cnrr_cnrr_201309_TP.nc4.nc4\n",
      "starting feature detection based on multiple thresholds\n",
      "feature detection done\n",
      "features saved\n",
      "Starting segmentation based on surface precipitation\n"
     ]
    },
    {
     "name": "stderr",
     "output_type": "stream",
     "text": [
      "/home/juli/anaconda3/lib/python3.6/site-packages/pandas/core/generic.py:2377: PerformanceWarning: \n",
      "your performance may suffer as PyTables will pickle object types that it cannot\n",
      "map directly to c-types [inferred_type->mixed,key->block2_values] [items->['time', 'timestr']]\n",
      "\n",
      "  return pytables.to_hdf(path_or_buf, key, self, **kwargs)\n"
     ]
    },
    {
     "name": "stdout",
     "output_type": "stream",
     "text": [
      "segmentation based on surface precipitation performed, start saving results to files\n",
      "segmentation surface precipitation performed and saved\n",
      "start process for file..... /media/juli/Data/third_pole/CNRR/data/cnrr_cnrr_201310_TP.nc4.nc4\n",
      "starting feature detection based on multiple thresholds\n",
      "feature detection done\n",
      "features saved\n",
      "Starting segmentation based on surface precipitation\n"
     ]
    },
    {
     "name": "stderr",
     "output_type": "stream",
     "text": [
      "/home/juli/anaconda3/lib/python3.6/site-packages/pandas/core/generic.py:2377: PerformanceWarning: \n",
      "your performance may suffer as PyTables will pickle object types that it cannot\n",
      "map directly to c-types [inferred_type->mixed,key->block2_values] [items->['time', 'timestr']]\n",
      "\n",
      "  return pytables.to_hdf(path_or_buf, key, self, **kwargs)\n"
     ]
    },
    {
     "name": "stdout",
     "output_type": "stream",
     "text": [
      "segmentation based on surface precipitation performed, start saving results to files\n",
      "segmentation surface precipitation performed and saved\n",
      "start process for file..... /media/juli/Data/third_pole/CNRR/data/cnrr_cnrr_201311_TP.nc4.nc4\n",
      "starting feature detection based on multiple thresholds\n",
      "feature detection done\n",
      "features saved\n",
      "Starting segmentation based on surface precipitation\n"
     ]
    },
    {
     "name": "stderr",
     "output_type": "stream",
     "text": [
      "/home/juli/anaconda3/lib/python3.6/site-packages/pandas/core/generic.py:2377: PerformanceWarning: \n",
      "your performance may suffer as PyTables will pickle object types that it cannot\n",
      "map directly to c-types [inferred_type->mixed,key->block2_values] [items->['time', 'timestr']]\n",
      "\n",
      "  return pytables.to_hdf(path_or_buf, key, self, **kwargs)\n"
     ]
    },
    {
     "name": "stdout",
     "output_type": "stream",
     "text": [
      "segmentation based on surface precipitation performed, start saving results to files\n",
      "segmentation surface precipitation performed and saved\n",
      "start process for file..... /media/juli/Data/third_pole/CNRR/data/cnrr_cnrr_201312_TP.nc4.nc4\n",
      "starting feature detection based on multiple thresholds\n",
      "feature detection done\n",
      "features saved\n",
      "Starting segmentation based on surface precipitation\n"
     ]
    },
    {
     "name": "stderr",
     "output_type": "stream",
     "text": [
      "/home/juli/anaconda3/lib/python3.6/site-packages/pandas/core/generic.py:2377: PerformanceWarning: \n",
      "your performance may suffer as PyTables will pickle object types that it cannot\n",
      "map directly to c-types [inferred_type->mixed,key->block2_values] [items->['time', 'timestr']]\n",
      "\n",
      "  return pytables.to_hdf(path_or_buf, key, self, **kwargs)\n"
     ]
    },
    {
     "name": "stdout",
     "output_type": "stream",
     "text": [
      "segmentation based on surface precipitation performed, start saving results to files\n",
      "segmentation surface precipitation performed and saved\n",
      "start process for file..... /media/juli/Data/third_pole/CNRR/data/cnrr_cnrr_201401_TP.nc4.nc4\n",
      "starting feature detection based on multiple thresholds\n",
      "feature detection done\n",
      "features saved\n",
      "Starting segmentation based on surface precipitation\n"
     ]
    },
    {
     "name": "stderr",
     "output_type": "stream",
     "text": [
      "/home/juli/anaconda3/lib/python3.6/site-packages/pandas/core/generic.py:2377: PerformanceWarning: \n",
      "your performance may suffer as PyTables will pickle object types that it cannot\n",
      "map directly to c-types [inferred_type->mixed,key->block2_values] [items->['time', 'timestr']]\n",
      "\n",
      "  return pytables.to_hdf(path_or_buf, key, self, **kwargs)\n"
     ]
    },
    {
     "name": "stdout",
     "output_type": "stream",
     "text": [
      "segmentation based on surface precipitation performed, start saving results to files\n",
      "segmentation surface precipitation performed and saved\n",
      "start process for file..... /media/juli/Data/third_pole/CNRR/data/cnrr_cnrr_201402_TP.nc4.nc4\n",
      "starting feature detection based on multiple thresholds\n",
      "feature detection done\n",
      "features saved\n",
      "Starting segmentation based on surface precipitation\n"
     ]
    },
    {
     "name": "stderr",
     "output_type": "stream",
     "text": [
      "/home/juli/anaconda3/lib/python3.6/site-packages/pandas/core/generic.py:2377: PerformanceWarning: \n",
      "your performance may suffer as PyTables will pickle object types that it cannot\n",
      "map directly to c-types [inferred_type->mixed,key->block2_values] [items->['time', 'timestr']]\n",
      "\n",
      "  return pytables.to_hdf(path_or_buf, key, self, **kwargs)\n"
     ]
    },
    {
     "name": "stdout",
     "output_type": "stream",
     "text": [
      "segmentation based on surface precipitation performed, start saving results to files\n",
      "segmentation surface precipitation performed and saved\n",
      "start process for file..... /media/juli/Data/third_pole/CNRR/data/cnrr_cnrr_201403_TP.nc4.nc4\n",
      "starting feature detection based on multiple thresholds\n",
      "feature detection done\n",
      "features saved\n",
      "Starting segmentation based on surface precipitation\n"
     ]
    },
    {
     "name": "stderr",
     "output_type": "stream",
     "text": [
      "/home/juli/anaconda3/lib/python3.6/site-packages/pandas/core/generic.py:2377: PerformanceWarning: \n",
      "your performance may suffer as PyTables will pickle object types that it cannot\n",
      "map directly to c-types [inferred_type->mixed,key->block2_values] [items->['time', 'timestr']]\n",
      "\n",
      "  return pytables.to_hdf(path_or_buf, key, self, **kwargs)\n"
     ]
    },
    {
     "name": "stdout",
     "output_type": "stream",
     "text": [
      "segmentation based on surface precipitation performed, start saving results to files\n",
      "segmentation surface precipitation performed and saved\n",
      "start process for file..... /media/juli/Data/third_pole/CNRR/data/cnrr_cnrr_201404_TP.nc4.nc4\n",
      "starting feature detection based on multiple thresholds\n",
      "feature detection done\n",
      "features saved\n",
      "Starting segmentation based on surface precipitation\n"
     ]
    },
    {
     "name": "stderr",
     "output_type": "stream",
     "text": [
      "/home/juli/anaconda3/lib/python3.6/site-packages/pandas/core/generic.py:2377: PerformanceWarning: \n",
      "your performance may suffer as PyTables will pickle object types that it cannot\n",
      "map directly to c-types [inferred_type->mixed,key->block2_values] [items->['time', 'timestr']]\n",
      "\n",
      "  return pytables.to_hdf(path_or_buf, key, self, **kwargs)\n"
     ]
    },
    {
     "name": "stdout",
     "output_type": "stream",
     "text": [
      "segmentation based on surface precipitation performed, start saving results to files\n",
      "segmentation surface precipitation performed and saved\n",
      "start process for file..... /media/juli/Data/third_pole/CNRR/data/cnrr_cnrr_201405_TP.nc4.nc4\n",
      "starting feature detection based on multiple thresholds\n",
      "feature detection done\n",
      "features saved\n",
      "Starting segmentation based on surface precipitation\n"
     ]
    },
    {
     "name": "stderr",
     "output_type": "stream",
     "text": [
      "/home/juli/anaconda3/lib/python3.6/site-packages/pandas/core/generic.py:2377: PerformanceWarning: \n",
      "your performance may suffer as PyTables will pickle object types that it cannot\n",
      "map directly to c-types [inferred_type->mixed,key->block2_values] [items->['time', 'timestr']]\n",
      "\n",
      "  return pytables.to_hdf(path_or_buf, key, self, **kwargs)\n"
     ]
    },
    {
     "name": "stdout",
     "output_type": "stream",
     "text": [
      "segmentation based on surface precipitation performed, start saving results to files\n",
      "segmentation surface precipitation performed and saved\n",
      "start process for file..... /media/juli/Data/third_pole/CNRR/data/cnrr_cnrr_201406_TP.nc4.nc4\n",
      "starting feature detection based on multiple thresholds\n",
      "feature detection done\n",
      "features saved\n",
      "Starting segmentation based on surface precipitation\n"
     ]
    },
    {
     "name": "stderr",
     "output_type": "stream",
     "text": [
      "/home/juli/anaconda3/lib/python3.6/site-packages/pandas/core/generic.py:2377: PerformanceWarning: \n",
      "your performance may suffer as PyTables will pickle object types that it cannot\n",
      "map directly to c-types [inferred_type->mixed,key->block2_values] [items->['time', 'timestr']]\n",
      "\n",
      "  return pytables.to_hdf(path_or_buf, key, self, **kwargs)\n"
     ]
    },
    {
     "name": "stdout",
     "output_type": "stream",
     "text": [
      "segmentation based on surface precipitation performed, start saving results to files\n",
      "segmentation surface precipitation performed and saved\n",
      "start process for file..... /media/juli/Data/third_pole/CNRR/data/cnrr_cnrr_201407_TP.nc4.nc4\n",
      "starting feature detection based on multiple thresholds\n",
      "feature detection done\n",
      "features saved\n",
      "Starting segmentation based on surface precipitation\n"
     ]
    },
    {
     "name": "stderr",
     "output_type": "stream",
     "text": [
      "/home/juli/anaconda3/lib/python3.6/site-packages/pandas/core/generic.py:2377: PerformanceWarning: \n",
      "your performance may suffer as PyTables will pickle object types that it cannot\n",
      "map directly to c-types [inferred_type->mixed,key->block2_values] [items->['time', 'timestr']]\n",
      "\n",
      "  return pytables.to_hdf(path_or_buf, key, self, **kwargs)\n"
     ]
    },
    {
     "name": "stdout",
     "output_type": "stream",
     "text": [
      "segmentation based on surface precipitation performed, start saving results to files\n",
      "segmentation surface precipitation performed and saved\n",
      "start process for file..... /media/juli/Data/third_pole/CNRR/data/cnrr_cnrr_201408_TP.nc4.nc4\n",
      "starting feature detection based on multiple thresholds\n",
      "feature detection done\n",
      "features saved\n",
      "Starting segmentation based on surface precipitation\n"
     ]
    },
    {
     "name": "stderr",
     "output_type": "stream",
     "text": [
      "/home/juli/anaconda3/lib/python3.6/site-packages/pandas/core/generic.py:2377: PerformanceWarning: \n",
      "your performance may suffer as PyTables will pickle object types that it cannot\n",
      "map directly to c-types [inferred_type->mixed,key->block2_values] [items->['time', 'timestr']]\n",
      "\n",
      "  return pytables.to_hdf(path_or_buf, key, self, **kwargs)\n"
     ]
    },
    {
     "name": "stdout",
     "output_type": "stream",
     "text": [
      "segmentation based on surface precipitation performed, start saving results to files\n",
      "segmentation surface precipitation performed and saved\n",
      "start process for file..... /media/juli/Data/third_pole/CNRR/data/cnrr_cnrr_201409_TP.nc4.nc4\n",
      "starting feature detection based on multiple thresholds\n",
      "feature detection done\n",
      "features saved\n",
      "Starting segmentation based on surface precipitation\n"
     ]
    },
    {
     "name": "stderr",
     "output_type": "stream",
     "text": [
      "/home/juli/anaconda3/lib/python3.6/site-packages/pandas/core/generic.py:2377: PerformanceWarning: \n",
      "your performance may suffer as PyTables will pickle object types that it cannot\n",
      "map directly to c-types [inferred_type->mixed,key->block2_values] [items->['time', 'timestr']]\n",
      "\n",
      "  return pytables.to_hdf(path_or_buf, key, self, **kwargs)\n"
     ]
    },
    {
     "name": "stdout",
     "output_type": "stream",
     "text": [
      "segmentation based on surface precipitation performed, start saving results to files\n",
      "segmentation surface precipitation performed and saved\n",
      "start process for file..... /media/juli/Data/third_pole/CNRR/data/cnrr_cnrr_201410_TP.nc4.nc4\n",
      "starting feature detection based on multiple thresholds\n",
      "feature detection done\n",
      "features saved\n",
      "Starting segmentation based on surface precipitation\n"
     ]
    },
    {
     "name": "stderr",
     "output_type": "stream",
     "text": [
      "/home/juli/anaconda3/lib/python3.6/site-packages/pandas/core/generic.py:2377: PerformanceWarning: \n",
      "your performance may suffer as PyTables will pickle object types that it cannot\n",
      "map directly to c-types [inferred_type->mixed,key->block2_values] [items->['time', 'timestr']]\n",
      "\n",
      "  return pytables.to_hdf(path_or_buf, key, self, **kwargs)\n"
     ]
    },
    {
     "name": "stdout",
     "output_type": "stream",
     "text": [
      "segmentation based on surface precipitation performed, start saving results to files\n",
      "segmentation surface precipitation performed and saved\n",
      "start process for file..... /media/juli/Data/third_pole/CNRR/data/cnrr_cnrr_199809_TP.nc4.nc4\n",
      "starting feature detection based on multiple thresholds\n",
      "feature detection done\n",
      "features saved\n",
      "Starting segmentation based on surface precipitation\n"
     ]
    },
    {
     "name": "stderr",
     "output_type": "stream",
     "text": [
      "/home/juli/anaconda3/lib/python3.6/site-packages/pandas/core/generic.py:2377: PerformanceWarning: \n",
      "your performance may suffer as PyTables will pickle object types that it cannot\n",
      "map directly to c-types [inferred_type->mixed,key->block2_values] [items->['time', 'timestr']]\n",
      "\n",
      "  return pytables.to_hdf(path_or_buf, key, self, **kwargs)\n"
     ]
    },
    {
     "name": "stdout",
     "output_type": "stream",
     "text": [
      "segmentation based on surface precipitation performed, start saving results to files\n",
      "segmentation surface precipitation performed and saved\n",
      "start process for file..... /media/juli/Data/third_pole/CNRR/data/cnrr_cnrr_199810_TP.nc4.nc4\n",
      "starting feature detection based on multiple thresholds\n",
      "feature detection done\n",
      "features saved\n",
      "Starting segmentation based on surface precipitation\n"
     ]
    },
    {
     "name": "stderr",
     "output_type": "stream",
     "text": [
      "/home/juli/anaconda3/lib/python3.6/site-packages/pandas/core/generic.py:2377: PerformanceWarning: \n",
      "your performance may suffer as PyTables will pickle object types that it cannot\n",
      "map directly to c-types [inferred_type->mixed,key->block2_values] [items->['time', 'timestr']]\n",
      "\n",
      "  return pytables.to_hdf(path_or_buf, key, self, **kwargs)\n"
     ]
    },
    {
     "name": "stdout",
     "output_type": "stream",
     "text": [
      "segmentation based on surface precipitation performed, start saving results to files\n",
      "segmentation surface precipitation performed and saved\n",
      "start process for file..... /media/juli/Data/third_pole/CNRR/data/cnrr_cnrr_199811_TP.nc4.nc4\n",
      "starting feature detection based on multiple thresholds\n",
      "feature detection done\n",
      "features saved\n",
      "Starting segmentation based on surface precipitation\n"
     ]
    },
    {
     "name": "stderr",
     "output_type": "stream",
     "text": [
      "/home/juli/anaconda3/lib/python3.6/site-packages/pandas/core/generic.py:2377: PerformanceWarning: \n",
      "your performance may suffer as PyTables will pickle object types that it cannot\n",
      "map directly to c-types [inferred_type->mixed,key->block2_values] [items->['time', 'timestr']]\n",
      "\n",
      "  return pytables.to_hdf(path_or_buf, key, self, **kwargs)\n"
     ]
    },
    {
     "name": "stdout",
     "output_type": "stream",
     "text": [
      "segmentation based on surface precipitation performed, start saving results to files\n",
      "segmentation surface precipitation performed and saved\n",
      "start process for file..... /media/juli/Data/third_pole/CNRR/data/cnrr_cnrr_199812_TP.nc4.nc4\n",
      "starting feature detection based on multiple thresholds\n",
      "feature detection done\n",
      "features saved\n",
      "Starting segmentation based on surface precipitation\n"
     ]
    },
    {
     "name": "stderr",
     "output_type": "stream",
     "text": [
      "/home/juli/anaconda3/lib/python3.6/site-packages/pandas/core/generic.py:2377: PerformanceWarning: \n",
      "your performance may suffer as PyTables will pickle object types that it cannot\n",
      "map directly to c-types [inferred_type->mixed,key->block2_values] [items->['time', 'timestr']]\n",
      "\n",
      "  return pytables.to_hdf(path_or_buf, key, self, **kwargs)\n"
     ]
    },
    {
     "name": "stdout",
     "output_type": "stream",
     "text": [
      "segmentation based on surface precipitation performed, start saving results to files\n",
      "segmentation surface precipitation performed and saved\n",
      "start process for file..... /media/juli/Data/third_pole/CNRR/data/cnrr_cnrr_199901_TP.nc4.nc4\n",
      "starting feature detection based on multiple thresholds\n",
      "feature detection done\n",
      "features saved\n",
      "Starting segmentation based on surface precipitation\n"
     ]
    },
    {
     "name": "stderr",
     "output_type": "stream",
     "text": [
      "/home/juli/anaconda3/lib/python3.6/site-packages/pandas/core/generic.py:2377: PerformanceWarning: \n",
      "your performance may suffer as PyTables will pickle object types that it cannot\n",
      "map directly to c-types [inferred_type->mixed,key->block2_values] [items->['time', 'timestr']]\n",
      "\n",
      "  return pytables.to_hdf(path_or_buf, key, self, **kwargs)\n"
     ]
    },
    {
     "name": "stdout",
     "output_type": "stream",
     "text": [
      "segmentation based on surface precipitation performed, start saving results to files\n",
      "segmentation surface precipitation performed and saved\n",
      "start process for file..... /media/juli/Data/third_pole/CNRR/data/cnrr_cnrr_199902_TP.nc4.nc4\n",
      "starting feature detection based on multiple thresholds\n",
      "feature detection done\n",
      "features saved\n",
      "Starting segmentation based on surface precipitation\n"
     ]
    },
    {
     "name": "stderr",
     "output_type": "stream",
     "text": [
      "/home/juli/anaconda3/lib/python3.6/site-packages/pandas/core/generic.py:2377: PerformanceWarning: \n",
      "your performance may suffer as PyTables will pickle object types that it cannot\n",
      "map directly to c-types [inferred_type->mixed,key->block2_values] [items->['time', 'timestr']]\n",
      "\n",
      "  return pytables.to_hdf(path_or_buf, key, self, **kwargs)\n"
     ]
    },
    {
     "name": "stdout",
     "output_type": "stream",
     "text": [
      "segmentation based on surface precipitation performed, start saving results to files\n",
      "segmentation surface precipitation performed and saved\n",
      "start process for file..... /media/juli/Data/third_pole/CNRR/data/cnrr_cnrr_199903_TP.nc4.nc4\n",
      "starting feature detection based on multiple thresholds\n",
      "feature detection done\n",
      "features saved\n",
      "Starting segmentation based on surface precipitation\n"
     ]
    },
    {
     "name": "stderr",
     "output_type": "stream",
     "text": [
      "/home/juli/anaconda3/lib/python3.6/site-packages/pandas/core/generic.py:2377: PerformanceWarning: \n",
      "your performance may suffer as PyTables will pickle object types that it cannot\n",
      "map directly to c-types [inferred_type->mixed,key->block2_values] [items->['time', 'timestr']]\n",
      "\n",
      "  return pytables.to_hdf(path_or_buf, key, self, **kwargs)\n"
     ]
    },
    {
     "name": "stdout",
     "output_type": "stream",
     "text": [
      "segmentation based on surface precipitation performed, start saving results to files\n",
      "segmentation surface precipitation performed and saved\n",
      "start process for file..... /media/juli/Data/third_pole/CNRR/data/cnrr_cnrr_199904_TP.nc4.nc4\n",
      "starting feature detection based on multiple thresholds\n",
      "feature detection done\n",
      "features saved\n",
      "Starting segmentation based on surface precipitation\n"
     ]
    },
    {
     "name": "stderr",
     "output_type": "stream",
     "text": [
      "/home/juli/anaconda3/lib/python3.6/site-packages/pandas/core/generic.py:2377: PerformanceWarning: \n",
      "your performance may suffer as PyTables will pickle object types that it cannot\n",
      "map directly to c-types [inferred_type->mixed,key->block2_values] [items->['time', 'timestr']]\n",
      "\n",
      "  return pytables.to_hdf(path_or_buf, key, self, **kwargs)\n"
     ]
    },
    {
     "name": "stdout",
     "output_type": "stream",
     "text": [
      "segmentation based on surface precipitation performed, start saving results to files\n",
      "segmentation surface precipitation performed and saved\n",
      "start process for file..... /media/juli/Data/third_pole/CNRR/data/cnrr_cnrr_199905_TP.nc4.nc4\n",
      "starting feature detection based on multiple thresholds\n",
      "feature detection done\n",
      "features saved\n",
      "Starting segmentation based on surface precipitation\n"
     ]
    },
    {
     "name": "stderr",
     "output_type": "stream",
     "text": [
      "/home/juli/anaconda3/lib/python3.6/site-packages/pandas/core/generic.py:2377: PerformanceWarning: \n",
      "your performance may suffer as PyTables will pickle object types that it cannot\n",
      "map directly to c-types [inferred_type->mixed,key->block2_values] [items->['time', 'timestr']]\n",
      "\n",
      "  return pytables.to_hdf(path_or_buf, key, self, **kwargs)\n"
     ]
    },
    {
     "name": "stdout",
     "output_type": "stream",
     "text": [
      "segmentation based on surface precipitation performed, start saving results to files\n",
      "segmentation surface precipitation performed and saved\n",
      "start process for file..... /media/juli/Data/third_pole/CNRR/data/cnrr_cnrr_199906_TP.nc4.nc4\n",
      "starting feature detection based on multiple thresholds\n",
      "feature detection done\n",
      "features saved\n",
      "Starting segmentation based on surface precipitation\n"
     ]
    },
    {
     "name": "stderr",
     "output_type": "stream",
     "text": [
      "/home/juli/anaconda3/lib/python3.6/site-packages/pandas/core/generic.py:2377: PerformanceWarning: \n",
      "your performance may suffer as PyTables will pickle object types that it cannot\n",
      "map directly to c-types [inferred_type->mixed,key->block2_values] [items->['time', 'timestr']]\n",
      "\n",
      "  return pytables.to_hdf(path_or_buf, key, self, **kwargs)\n"
     ]
    },
    {
     "name": "stdout",
     "output_type": "stream",
     "text": [
      "segmentation based on surface precipitation performed, start saving results to files\n",
      "segmentation surface precipitation performed and saved\n",
      "start process for file..... /media/juli/Data/third_pole/CNRR/data/cnrr_cnrr_199907_TP.nc4.nc4\n",
      "starting feature detection based on multiple thresholds\n",
      "feature detection done\n",
      "features saved\n",
      "Starting segmentation based on surface precipitation\n"
     ]
    },
    {
     "name": "stderr",
     "output_type": "stream",
     "text": [
      "/home/juli/anaconda3/lib/python3.6/site-packages/pandas/core/generic.py:2377: PerformanceWarning: \n",
      "your performance may suffer as PyTables will pickle object types that it cannot\n",
      "map directly to c-types [inferred_type->mixed,key->block2_values] [items->['time', 'timestr']]\n",
      "\n",
      "  return pytables.to_hdf(path_or_buf, key, self, **kwargs)\n"
     ]
    },
    {
     "name": "stdout",
     "output_type": "stream",
     "text": [
      "segmentation based on surface precipitation performed, start saving results to files\n",
      "segmentation surface precipitation performed and saved\n",
      "start process for file..... /media/juli/Data/third_pole/CNRR/data/cnrr_cnrr_199908_TP.nc4.nc4\n",
      "starting feature detection based on multiple thresholds\n",
      "feature detection done\n",
      "features saved\n",
      "Starting segmentation based on surface precipitation\n"
     ]
    },
    {
     "name": "stderr",
     "output_type": "stream",
     "text": [
      "/home/juli/anaconda3/lib/python3.6/site-packages/pandas/core/generic.py:2377: PerformanceWarning: \n",
      "your performance may suffer as PyTables will pickle object types that it cannot\n",
      "map directly to c-types [inferred_type->mixed,key->block2_values] [items->['time', 'timestr']]\n",
      "\n",
      "  return pytables.to_hdf(path_or_buf, key, self, **kwargs)\n"
     ]
    },
    {
     "name": "stdout",
     "output_type": "stream",
     "text": [
      "segmentation based on surface precipitation performed, start saving results to files\n",
      "segmentation surface precipitation performed and saved\n",
      "start process for file..... /media/juli/Data/third_pole/CNRR/data/cnrr_cnrr_199909_TP.nc4.nc4\n",
      "starting feature detection based on multiple thresholds\n",
      "feature detection done\n",
      "features saved\n",
      "Starting segmentation based on surface precipitation\n"
     ]
    },
    {
     "name": "stderr",
     "output_type": "stream",
     "text": [
      "/home/juli/anaconda3/lib/python3.6/site-packages/pandas/core/generic.py:2377: PerformanceWarning: \n",
      "your performance may suffer as PyTables will pickle object types that it cannot\n",
      "map directly to c-types [inferred_type->mixed,key->block2_values] [items->['time', 'timestr']]\n",
      "\n",
      "  return pytables.to_hdf(path_or_buf, key, self, **kwargs)\n"
     ]
    },
    {
     "name": "stdout",
     "output_type": "stream",
     "text": [
      "segmentation based on surface precipitation performed, start saving results to files\n",
      "segmentation surface precipitation performed and saved\n",
      "start process for file..... /media/juli/Data/third_pole/CNRR/data/cnrr_cnrr_199910_TP.nc4.nc4\n",
      "starting feature detection based on multiple thresholds\n",
      "feature detection done\n",
      "features saved\n",
      "Starting segmentation based on surface precipitation\n"
     ]
    },
    {
     "name": "stderr",
     "output_type": "stream",
     "text": [
      "/home/juli/anaconda3/lib/python3.6/site-packages/pandas/core/generic.py:2377: PerformanceWarning: \n",
      "your performance may suffer as PyTables will pickle object types that it cannot\n",
      "map directly to c-types [inferred_type->mixed,key->block2_values] [items->['time', 'timestr']]\n",
      "\n",
      "  return pytables.to_hdf(path_or_buf, key, self, **kwargs)\n"
     ]
    },
    {
     "name": "stdout",
     "output_type": "stream",
     "text": [
      "segmentation based on surface precipitation performed, start saving results to files\n",
      "segmentation surface precipitation performed and saved\n",
      "start process for file..... /media/juli/Data/third_pole/CNRR/data/cnrr_cnrr_200809_TP.nc4.nc4\n",
      "starting feature detection based on multiple thresholds\n",
      "feature detection done\n",
      "features saved\n",
      "Starting segmentation based on surface precipitation\n"
     ]
    },
    {
     "name": "stderr",
     "output_type": "stream",
     "text": [
      "/home/juli/anaconda3/lib/python3.6/site-packages/pandas/core/generic.py:2377: PerformanceWarning: \n",
      "your performance may suffer as PyTables will pickle object types that it cannot\n",
      "map directly to c-types [inferred_type->mixed,key->block2_values] [items->['time', 'timestr']]\n",
      "\n",
      "  return pytables.to_hdf(path_or_buf, key, self, **kwargs)\n"
     ]
    },
    {
     "name": "stdout",
     "output_type": "stream",
     "text": [
      "segmentation based on surface precipitation performed, start saving results to files\n",
      "segmentation surface precipitation performed and saved\n",
      "start process for file..... /media/juli/Data/third_pole/CNRR/data/cnrr_cnrr_200810_TP.nc4.nc4\n",
      "starting feature detection based on multiple thresholds\n",
      "feature detection done\n",
      "features saved\n",
      "Starting segmentation based on surface precipitation\n"
     ]
    },
    {
     "name": "stderr",
     "output_type": "stream",
     "text": [
      "/home/juli/anaconda3/lib/python3.6/site-packages/pandas/core/generic.py:2377: PerformanceWarning: \n",
      "your performance may suffer as PyTables will pickle object types that it cannot\n",
      "map directly to c-types [inferred_type->mixed,key->block2_values] [items->['time', 'timestr']]\n",
      "\n",
      "  return pytables.to_hdf(path_or_buf, key, self, **kwargs)\n"
     ]
    },
    {
     "name": "stdout",
     "output_type": "stream",
     "text": [
      "segmentation based on surface precipitation performed, start saving results to files\n",
      "segmentation surface precipitation performed and saved\n",
      "start process for file..... /media/juli/Data/third_pole/CNRR/data/cnrr_cnrr_200811_TP.nc4.nc4\n",
      "starting feature detection based on multiple thresholds\n",
      "feature detection done\n",
      "features saved\n",
      "Starting segmentation based on surface precipitation\n"
     ]
    },
    {
     "name": "stderr",
     "output_type": "stream",
     "text": [
      "/home/juli/anaconda3/lib/python3.6/site-packages/pandas/core/generic.py:2377: PerformanceWarning: \n",
      "your performance may suffer as PyTables will pickle object types that it cannot\n",
      "map directly to c-types [inferred_type->mixed,key->block2_values] [items->['time', 'timestr']]\n",
      "\n",
      "  return pytables.to_hdf(path_or_buf, key, self, **kwargs)\n"
     ]
    },
    {
     "name": "stdout",
     "output_type": "stream",
     "text": [
      "segmentation based on surface precipitation performed, start saving results to files\n",
      "segmentation surface precipitation performed and saved\n",
      "start process for file..... /media/juli/Data/third_pole/CNRR/data/cnrr_cnrr_200812_TP.nc4.nc4\n",
      "starting feature detection based on multiple thresholds\n",
      "feature detection done\n",
      "features saved\n",
      "Starting segmentation based on surface precipitation\n"
     ]
    },
    {
     "name": "stderr",
     "output_type": "stream",
     "text": [
      "/home/juli/anaconda3/lib/python3.6/site-packages/pandas/core/generic.py:2377: PerformanceWarning: \n",
      "your performance may suffer as PyTables will pickle object types that it cannot\n",
      "map directly to c-types [inferred_type->mixed,key->block2_values] [items->['time', 'timestr']]\n",
      "\n",
      "  return pytables.to_hdf(path_or_buf, key, self, **kwargs)\n"
     ]
    },
    {
     "name": "stdout",
     "output_type": "stream",
     "text": [
      "segmentation based on surface precipitation performed, start saving results to files\n",
      "segmentation surface precipitation performed and saved\n",
      "start process for file..... /media/juli/Data/third_pole/CNRR/data/cnrr_cnrr_200901_TP.nc4.nc4\n",
      "starting feature detection based on multiple thresholds\n",
      "feature detection done\n",
      "features saved\n",
      "Starting segmentation based on surface precipitation\n"
     ]
    },
    {
     "name": "stderr",
     "output_type": "stream",
     "text": [
      "/home/juli/anaconda3/lib/python3.6/site-packages/pandas/core/generic.py:2377: PerformanceWarning: \n",
      "your performance may suffer as PyTables will pickle object types that it cannot\n",
      "map directly to c-types [inferred_type->mixed,key->block2_values] [items->['time', 'timestr']]\n",
      "\n",
      "  return pytables.to_hdf(path_or_buf, key, self, **kwargs)\n"
     ]
    },
    {
     "name": "stdout",
     "output_type": "stream",
     "text": [
      "segmentation based on surface precipitation performed, start saving results to files\n",
      "segmentation surface precipitation performed and saved\n",
      "start process for file..... /media/juli/Data/third_pole/CNRR/data/cnrr_cnrr_200902_TP.nc4.nc4\n",
      "starting feature detection based on multiple thresholds\n",
      "feature detection done\n",
      "features saved\n",
      "Starting segmentation based on surface precipitation\n"
     ]
    },
    {
     "name": "stderr",
     "output_type": "stream",
     "text": [
      "/home/juli/anaconda3/lib/python3.6/site-packages/pandas/core/generic.py:2377: PerformanceWarning: \n",
      "your performance may suffer as PyTables will pickle object types that it cannot\n",
      "map directly to c-types [inferred_type->mixed,key->block2_values] [items->['time', 'timestr']]\n",
      "\n",
      "  return pytables.to_hdf(path_or_buf, key, self, **kwargs)\n"
     ]
    },
    {
     "name": "stdout",
     "output_type": "stream",
     "text": [
      "segmentation based on surface precipitation performed, start saving results to files\n",
      "segmentation surface precipitation performed and saved\n",
      "start process for file..... /media/juli/Data/third_pole/CNRR/data/cnrr_cnrr_200903_TP.nc4.nc4\n",
      "starting feature detection based on multiple thresholds\n",
      "feature detection done\n",
      "features saved\n",
      "Starting segmentation based on surface precipitation\n"
     ]
    },
    {
     "name": "stderr",
     "output_type": "stream",
     "text": [
      "/home/juli/anaconda3/lib/python3.6/site-packages/pandas/core/generic.py:2377: PerformanceWarning: \n",
      "your performance may suffer as PyTables will pickle object types that it cannot\n",
      "map directly to c-types [inferred_type->mixed,key->block2_values] [items->['time', 'timestr']]\n",
      "\n",
      "  return pytables.to_hdf(path_or_buf, key, self, **kwargs)\n"
     ]
    },
    {
     "name": "stdout",
     "output_type": "stream",
     "text": [
      "segmentation based on surface precipitation performed, start saving results to files\n",
      "segmentation surface precipitation performed and saved\n",
      "start process for file..... /media/juli/Data/third_pole/CNRR/data/cnrr_cnrr_200904_TP.nc4.nc4\n",
      "starting feature detection based on multiple thresholds\n",
      "feature detection done\n",
      "features saved\n",
      "Starting segmentation based on surface precipitation\n"
     ]
    },
    {
     "name": "stderr",
     "output_type": "stream",
     "text": [
      "/home/juli/anaconda3/lib/python3.6/site-packages/pandas/core/generic.py:2377: PerformanceWarning: \n",
      "your performance may suffer as PyTables will pickle object types that it cannot\n",
      "map directly to c-types [inferred_type->mixed,key->block2_values] [items->['time', 'timestr']]\n",
      "\n",
      "  return pytables.to_hdf(path_or_buf, key, self, **kwargs)\n"
     ]
    },
    {
     "name": "stdout",
     "output_type": "stream",
     "text": [
      "segmentation based on surface precipitation performed, start saving results to files\n",
      "segmentation surface precipitation performed and saved\n",
      "start process for file..... /media/juli/Data/third_pole/CNRR/data/cnrr_cnrr_200905_TP.nc4.nc4\n",
      "starting feature detection based on multiple thresholds\n",
      "feature detection done\n",
      "features saved\n",
      "Starting segmentation based on surface precipitation\n"
     ]
    },
    {
     "name": "stderr",
     "output_type": "stream",
     "text": [
      "/home/juli/anaconda3/lib/python3.6/site-packages/pandas/core/generic.py:2377: PerformanceWarning: \n",
      "your performance may suffer as PyTables will pickle object types that it cannot\n",
      "map directly to c-types [inferred_type->mixed,key->block2_values] [items->['time', 'timestr']]\n",
      "\n",
      "  return pytables.to_hdf(path_or_buf, key, self, **kwargs)\n"
     ]
    },
    {
     "name": "stdout",
     "output_type": "stream",
     "text": [
      "segmentation based on surface precipitation performed, start saving results to files\n",
      "segmentation surface precipitation performed and saved\n",
      "start process for file..... /media/juli/Data/third_pole/CNRR/data/cnrr_cnrr_200906_TP.nc4.nc4\n",
      "starting feature detection based on multiple thresholds\n",
      "feature detection done\n",
      "features saved\n",
      "Starting segmentation based on surface precipitation\n"
     ]
    },
    {
     "name": "stderr",
     "output_type": "stream",
     "text": [
      "/home/juli/anaconda3/lib/python3.6/site-packages/pandas/core/generic.py:2377: PerformanceWarning: \n",
      "your performance may suffer as PyTables will pickle object types that it cannot\n",
      "map directly to c-types [inferred_type->mixed,key->block2_values] [items->['time', 'timestr']]\n",
      "\n",
      "  return pytables.to_hdf(path_or_buf, key, self, **kwargs)\n"
     ]
    },
    {
     "name": "stdout",
     "output_type": "stream",
     "text": [
      "segmentation based on surface precipitation performed, start saving results to files\n",
      "segmentation surface precipitation performed and saved\n",
      "start process for file..... /media/juli/Data/third_pole/CNRR/data/cnrr_cnrr_200907_TP.nc4.nc4\n",
      "starting feature detection based on multiple thresholds\n",
      "feature detection done\n",
      "features saved\n",
      "Starting segmentation based on surface precipitation\n"
     ]
    },
    {
     "name": "stderr",
     "output_type": "stream",
     "text": [
      "/home/juli/anaconda3/lib/python3.6/site-packages/pandas/core/generic.py:2377: PerformanceWarning: \n",
      "your performance may suffer as PyTables will pickle object types that it cannot\n",
      "map directly to c-types [inferred_type->mixed,key->block2_values] [items->['time', 'timestr']]\n",
      "\n",
      "  return pytables.to_hdf(path_or_buf, key, self, **kwargs)\n"
     ]
    },
    {
     "name": "stdout",
     "output_type": "stream",
     "text": [
      "segmentation based on surface precipitation performed, start saving results to files\n",
      "segmentation surface precipitation performed and saved\n",
      "start process for file..... /media/juli/Data/third_pole/CNRR/data/cnrr_cnrr_200908_TP.nc4.nc4\n",
      "starting feature detection based on multiple thresholds\n",
      "feature detection done\n",
      "features saved\n",
      "Starting segmentation based on surface precipitation\n"
     ]
    },
    {
     "name": "stderr",
     "output_type": "stream",
     "text": [
      "/home/juli/anaconda3/lib/python3.6/site-packages/pandas/core/generic.py:2377: PerformanceWarning: \n",
      "your performance may suffer as PyTables will pickle object types that it cannot\n",
      "map directly to c-types [inferred_type->mixed,key->block2_values] [items->['time', 'timestr']]\n",
      "\n",
      "  return pytables.to_hdf(path_or_buf, key, self, **kwargs)\n"
     ]
    },
    {
     "name": "stdout",
     "output_type": "stream",
     "text": [
      "segmentation based on surface precipitation performed, start saving results to files\n",
      "segmentation surface precipitation performed and saved\n",
      "start process for file..... /media/juli/Data/third_pole/CNRR/data/cnrr_cnrr_200909_TP.nc4.nc4\n",
      "starting feature detection based on multiple thresholds\n",
      "feature detection done\n",
      "features saved\n",
      "Starting segmentation based on surface precipitation\n"
     ]
    },
    {
     "name": "stderr",
     "output_type": "stream",
     "text": [
      "/home/juli/anaconda3/lib/python3.6/site-packages/pandas/core/generic.py:2377: PerformanceWarning: \n",
      "your performance may suffer as PyTables will pickle object types that it cannot\n",
      "map directly to c-types [inferred_type->mixed,key->block2_values] [items->['time', 'timestr']]\n",
      "\n",
      "  return pytables.to_hdf(path_or_buf, key, self, **kwargs)\n"
     ]
    },
    {
     "name": "stdout",
     "output_type": "stream",
     "text": [
      "segmentation based on surface precipitation performed, start saving results to files\n",
      "segmentation surface precipitation performed and saved\n",
      "start process for file..... /media/juli/Data/third_pole/CNRR/data/cnrr_cnrr_200910_TP.nc4.nc4\n",
      "starting feature detection based on multiple thresholds\n",
      "feature detection done\n",
      "features saved\n",
      "Starting segmentation based on surface precipitation\n"
     ]
    },
    {
     "name": "stderr",
     "output_type": "stream",
     "text": [
      "/home/juli/anaconda3/lib/python3.6/site-packages/pandas/core/generic.py:2377: PerformanceWarning: \n",
      "your performance may suffer as PyTables will pickle object types that it cannot\n",
      "map directly to c-types [inferred_type->mixed,key->block2_values] [items->['time', 'timestr']]\n",
      "\n",
      "  return pytables.to_hdf(path_or_buf, key, self, **kwargs)\n"
     ]
    },
    {
     "name": "stdout",
     "output_type": "stream",
     "text": [
      "segmentation based on surface precipitation performed, start saving results to files\n",
      "segmentation surface precipitation performed and saved\n",
      "start process for file..... /media/juli/Data/third_pole/CNRR/data/cnrr_cnrr_199706_TP.nc4.nc4\n",
      "starting feature detection based on multiple thresholds\n",
      "feature detection done\n",
      "features saved\n",
      "Starting segmentation based on surface precipitation\n"
     ]
    },
    {
     "name": "stderr",
     "output_type": "stream",
     "text": [
      "/home/juli/anaconda3/lib/python3.6/site-packages/pandas/core/generic.py:2377: PerformanceWarning: \n",
      "your performance may suffer as PyTables will pickle object types that it cannot\n",
      "map directly to c-types [inferred_type->mixed,key->block2_values] [items->['time', 'timestr']]\n",
      "\n",
      "  return pytables.to_hdf(path_or_buf, key, self, **kwargs)\n"
     ]
    },
    {
     "name": "stdout",
     "output_type": "stream",
     "text": [
      "segmentation based on surface precipitation performed, start saving results to files\n",
      "segmentation surface precipitation performed and saved\n",
      "start process for file..... /media/juli/Data/third_pole/CNRR/data/cnrr_cnrr_199707_TP.nc4.nc4\n",
      "starting feature detection based on multiple thresholds\n",
      "feature detection done\n",
      "features saved\n",
      "Starting segmentation based on surface precipitation\n"
     ]
    },
    {
     "name": "stderr",
     "output_type": "stream",
     "text": [
      "/home/juli/anaconda3/lib/python3.6/site-packages/pandas/core/generic.py:2377: PerformanceWarning: \n",
      "your performance may suffer as PyTables will pickle object types that it cannot\n",
      "map directly to c-types [inferred_type->mixed,key->block2_values] [items->['time', 'timestr']]\n",
      "\n",
      "  return pytables.to_hdf(path_or_buf, key, self, **kwargs)\n"
     ]
    },
    {
     "name": "stdout",
     "output_type": "stream",
     "text": [
      "segmentation based on surface precipitation performed, start saving results to files\n",
      "segmentation surface precipitation performed and saved\n",
      "start process for file..... /media/juli/Data/third_pole/CNRR/data/cnrr_cnrr_199708_TP.nc4.nc4\n",
      "starting feature detection based on multiple thresholds\n",
      "feature detection done\n",
      "features saved\n",
      "Starting segmentation based on surface precipitation\n"
     ]
    },
    {
     "name": "stderr",
     "output_type": "stream",
     "text": [
      "/home/juli/anaconda3/lib/python3.6/site-packages/pandas/core/generic.py:2377: PerformanceWarning: \n",
      "your performance may suffer as PyTables will pickle object types that it cannot\n",
      "map directly to c-types [inferred_type->mixed,key->block2_values] [items->['time', 'timestr']]\n",
      "\n",
      "  return pytables.to_hdf(path_or_buf, key, self, **kwargs)\n"
     ]
    },
    {
     "name": "stdout",
     "output_type": "stream",
     "text": [
      "segmentation based on surface precipitation performed, start saving results to files\n",
      "segmentation surface precipitation performed and saved\n",
      "start process for file..... /media/juli/Data/third_pole/CNRR/data/cnrr_cnrr_199709_TP.nc4.nc4\n",
      "starting feature detection based on multiple thresholds\n",
      "feature detection done\n",
      "features saved\n",
      "Starting segmentation based on surface precipitation\n"
     ]
    },
    {
     "name": "stderr",
     "output_type": "stream",
     "text": [
      "/home/juli/anaconda3/lib/python3.6/site-packages/pandas/core/generic.py:2377: PerformanceWarning: \n",
      "your performance may suffer as PyTables will pickle object types that it cannot\n",
      "map directly to c-types [inferred_type->mixed,key->block2_values] [items->['time', 'timestr']]\n",
      "\n",
      "  return pytables.to_hdf(path_or_buf, key, self, **kwargs)\n"
     ]
    },
    {
     "name": "stdout",
     "output_type": "stream",
     "text": [
      "segmentation based on surface precipitation performed, start saving results to files\n",
      "segmentation surface precipitation performed and saved\n",
      "start process for file..... /media/juli/Data/third_pole/CNRR/data/cnrr_cnrr_199710_TP.nc4.nc4\n",
      "starting feature detection based on multiple thresholds\n",
      "feature detection done\n",
      "features saved\n",
      "Starting segmentation based on surface precipitation\n"
     ]
    },
    {
     "name": "stderr",
     "output_type": "stream",
     "text": [
      "/home/juli/anaconda3/lib/python3.6/site-packages/pandas/core/generic.py:2377: PerformanceWarning: \n",
      "your performance may suffer as PyTables will pickle object types that it cannot\n",
      "map directly to c-types [inferred_type->mixed,key->block2_values] [items->['time', 'timestr']]\n",
      "\n",
      "  return pytables.to_hdf(path_or_buf, key, self, **kwargs)\n"
     ]
    },
    {
     "name": "stdout",
     "output_type": "stream",
     "text": [
      "segmentation based on surface precipitation performed, start saving results to files\n",
      "segmentation surface precipitation performed and saved\n",
      "start process for file..... /media/juli/Data/third_pole/CNRR/data/cnrr_cnrr_199711_TP.nc4.nc4\n",
      "starting feature detection based on multiple thresholds\n",
      "feature detection done\n",
      "features saved\n",
      "Starting segmentation based on surface precipitation\n"
     ]
    },
    {
     "name": "stderr",
     "output_type": "stream",
     "text": [
      "/home/juli/anaconda3/lib/python3.6/site-packages/pandas/core/generic.py:2377: PerformanceWarning: \n",
      "your performance may suffer as PyTables will pickle object types that it cannot\n",
      "map directly to c-types [inferred_type->mixed,key->block2_values] [items->['time', 'timestr']]\n",
      "\n",
      "  return pytables.to_hdf(path_or_buf, key, self, **kwargs)\n"
     ]
    },
    {
     "name": "stdout",
     "output_type": "stream",
     "text": [
      "segmentation based on surface precipitation performed, start saving results to files\n",
      "segmentation surface precipitation performed and saved\n",
      "start process for file..... /media/juli/Data/third_pole/CNRR/data/cnrr_cnrr_199712_TP.nc4.nc4\n",
      "starting feature detection based on multiple thresholds\n",
      "feature detection done\n",
      "features saved\n",
      "Starting segmentation based on surface precipitation\n"
     ]
    },
    {
     "name": "stderr",
     "output_type": "stream",
     "text": [
      "/home/juli/anaconda3/lib/python3.6/site-packages/pandas/core/generic.py:2377: PerformanceWarning: \n",
      "your performance may suffer as PyTables will pickle object types that it cannot\n",
      "map directly to c-types [inferred_type->mixed,key->block2_values] [items->['time', 'timestr']]\n",
      "\n",
      "  return pytables.to_hdf(path_or_buf, key, self, **kwargs)\n"
     ]
    },
    {
     "name": "stdout",
     "output_type": "stream",
     "text": [
      "segmentation based on surface precipitation performed, start saving results to files\n",
      "segmentation surface precipitation performed and saved\n",
      "start process for file..... /media/juli/Data/third_pole/CNRR/data/cnrr_cnrr_199801_TP.nc4.nc4\n",
      "starting feature detection based on multiple thresholds\n",
      "feature detection done\n",
      "features saved\n",
      "Starting segmentation based on surface precipitation\n"
     ]
    },
    {
     "name": "stderr",
     "output_type": "stream",
     "text": [
      "/home/juli/anaconda3/lib/python3.6/site-packages/pandas/core/generic.py:2377: PerformanceWarning: \n",
      "your performance may suffer as PyTables will pickle object types that it cannot\n",
      "map directly to c-types [inferred_type->mixed,key->block2_values] [items->['time', 'timestr']]\n",
      "\n",
      "  return pytables.to_hdf(path_or_buf, key, self, **kwargs)\n"
     ]
    },
    {
     "name": "stdout",
     "output_type": "stream",
     "text": [
      "segmentation based on surface precipitation performed, start saving results to files\n",
      "segmentation surface precipitation performed and saved\n",
      "start process for file..... /media/juli/Data/third_pole/CNRR/data/cnrr_cnrr_199802_TP.nc4.nc4\n",
      "starting feature detection based on multiple thresholds\n",
      "feature detection done\n",
      "features saved\n",
      "Starting segmentation based on surface precipitation\n"
     ]
    },
    {
     "name": "stderr",
     "output_type": "stream",
     "text": [
      "/home/juli/anaconda3/lib/python3.6/site-packages/pandas/core/generic.py:2377: PerformanceWarning: \n",
      "your performance may suffer as PyTables will pickle object types that it cannot\n",
      "map directly to c-types [inferred_type->mixed,key->block2_values] [items->['time', 'timestr']]\n",
      "\n",
      "  return pytables.to_hdf(path_or_buf, key, self, **kwargs)\n"
     ]
    },
    {
     "name": "stdout",
     "output_type": "stream",
     "text": [
      "segmentation based on surface precipitation performed, start saving results to files\n",
      "segmentation surface precipitation performed and saved\n",
      "start process for file..... /media/juli/Data/third_pole/CNRR/data/cnrr_cnrr_199803_TP.nc4.nc4\n",
      "starting feature detection based on multiple thresholds\n",
      "feature detection done\n",
      "features saved\n",
      "Starting segmentation based on surface precipitation\n"
     ]
    },
    {
     "name": "stderr",
     "output_type": "stream",
     "text": [
      "/home/juli/anaconda3/lib/python3.6/site-packages/pandas/core/generic.py:2377: PerformanceWarning: \n",
      "your performance may suffer as PyTables will pickle object types that it cannot\n",
      "map directly to c-types [inferred_type->mixed,key->block2_values] [items->['time', 'timestr']]\n",
      "\n",
      "  return pytables.to_hdf(path_or_buf, key, self, **kwargs)\n"
     ]
    },
    {
     "name": "stdout",
     "output_type": "stream",
     "text": [
      "segmentation based on surface precipitation performed, start saving results to files\n",
      "segmentation surface precipitation performed and saved\n",
      "start process for file..... /media/juli/Data/third_pole/CNRR/data/cnrr_cnrr_199804_TP.nc4.nc4\n",
      "starting feature detection based on multiple thresholds\n",
      "feature detection done\n",
      "features saved\n",
      "Starting segmentation based on surface precipitation\n"
     ]
    },
    {
     "name": "stderr",
     "output_type": "stream",
     "text": [
      "/home/juli/anaconda3/lib/python3.6/site-packages/pandas/core/generic.py:2377: PerformanceWarning: \n",
      "your performance may suffer as PyTables will pickle object types that it cannot\n",
      "map directly to c-types [inferred_type->mixed,key->block2_values] [items->['time', 'timestr']]\n",
      "\n",
      "  return pytables.to_hdf(path_or_buf, key, self, **kwargs)\n"
     ]
    },
    {
     "name": "stdout",
     "output_type": "stream",
     "text": [
      "segmentation based on surface precipitation performed, start saving results to files\n",
      "segmentation surface precipitation performed and saved\n",
      "start process for file..... /media/juli/Data/third_pole/CNRR/data/cnrr_cnrr_199805_TP.nc4.nc4\n",
      "starting feature detection based on multiple thresholds\n",
      "feature detection done\n",
      "features saved\n",
      "Starting segmentation based on surface precipitation\n"
     ]
    },
    {
     "name": "stderr",
     "output_type": "stream",
     "text": [
      "/home/juli/anaconda3/lib/python3.6/site-packages/pandas/core/generic.py:2377: PerformanceWarning: \n",
      "your performance may suffer as PyTables will pickle object types that it cannot\n",
      "map directly to c-types [inferred_type->mixed,key->block2_values] [items->['time', 'timestr']]\n",
      "\n",
      "  return pytables.to_hdf(path_or_buf, key, self, **kwargs)\n"
     ]
    },
    {
     "name": "stdout",
     "output_type": "stream",
     "text": [
      "segmentation based on surface precipitation performed, start saving results to files\n",
      "segmentation surface precipitation performed and saved\n",
      "start process for file..... /media/juli/Data/third_pole/CNRR/data/cnrr_cnrr_199806_TP.nc4.nc4\n",
      "starting feature detection based on multiple thresholds\n",
      "feature detection done\n",
      "features saved\n",
      "Starting segmentation based on surface precipitation\n"
     ]
    },
    {
     "name": "stderr",
     "output_type": "stream",
     "text": [
      "/home/juli/anaconda3/lib/python3.6/site-packages/pandas/core/generic.py:2377: PerformanceWarning: \n",
      "your performance may suffer as PyTables will pickle object types that it cannot\n",
      "map directly to c-types [inferred_type->mixed,key->block2_values] [items->['time', 'timestr']]\n",
      "\n",
      "  return pytables.to_hdf(path_or_buf, key, self, **kwargs)\n"
     ]
    },
    {
     "name": "stdout",
     "output_type": "stream",
     "text": [
      "segmentation based on surface precipitation performed, start saving results to files\n",
      "segmentation surface precipitation performed and saved\n",
      "start process for file..... /media/juli/Data/third_pole/CNRR/data/cnrr_cnrr_199807_TP.nc4.nc4\n",
      "starting feature detection based on multiple thresholds\n",
      "feature detection done\n",
      "features saved\n",
      "Starting segmentation based on surface precipitation\n"
     ]
    },
    {
     "name": "stderr",
     "output_type": "stream",
     "text": [
      "/home/juli/anaconda3/lib/python3.6/site-packages/pandas/core/generic.py:2377: PerformanceWarning: \n",
      "your performance may suffer as PyTables will pickle object types that it cannot\n",
      "map directly to c-types [inferred_type->mixed,key->block2_values] [items->['time', 'timestr']]\n",
      "\n",
      "  return pytables.to_hdf(path_or_buf, key, self, **kwargs)\n"
     ]
    },
    {
     "name": "stdout",
     "output_type": "stream",
     "text": [
      "segmentation based on surface precipitation performed, start saving results to files\n",
      "segmentation surface precipitation performed and saved\n"
     ]
    }
   ],
   "source": [
    "for file in file_list:\n",
    "    \n",
    "    i = file[48:54]\n",
    "    \n",
    "    if glob.glob('/media/juli/Data/third_pole/mcs_tracking/CNRR/Save/Features*' + str(i) + '*.h5'):\n",
    "        print('file already processed.')\n",
    "\n",
    "    else:    \n",
    "        print('start process for file.....', file)\n",
    "        ## DATA PREPARATION\n",
    "        Precip=iris.load_cube(file,'prcp')\n",
    "\n",
    "        ## ad 2d lats and lons with aux coords \n",
    "        import iris.coords\n",
    "        aux_lats = iris.coords.AuxCoord(lats, standard_name='latitude', long_name='latitude')\n",
    "        aux_lons = iris.coords.AuxCoord(lons, standard_name='longitude', long_name='longitude')\n",
    "        Precip.add_aux_coord(aux_lats, [1,2])\n",
    "        Precip.add_aux_coord(aux_lons, [1,2])\n",
    "\n",
    "        # FEATURE DETECTION\n",
    "        print('starting feature detection based on multiple thresholds')\n",
    "        Features=tobac.feature_detection_multithreshold(Precip,dxy,**parameters_features)\n",
    "        print('feature detection done')\n",
    "        Features.to_hdf(os.path.join(savedir,'Features_CNRR_' + str(i) + '.h5'),'table')\n",
    "        print('features saved')\n",
    "\n",
    "        # SEGMENTATION \n",
    "        print('Starting segmentation based on surface precipitation')\n",
    "        Mask,Features_Precip=tobac.segmentation_2D(Features,Precip,dxy,**parameters_segmentation)\n",
    "        print('segmentation based on surface precipitation performed, start saving results to files')\n",
    "        iris.save([Mask],os.path.join(savedir,'Mask_Segmentation_CNRR_' + str(i) + '.nc'),zlib=True,complevel=4)                \n",
    "        Features_Precip.to_hdf(os.path.join(savedir,'Features_Precip_CNRR_' + str(i) + '.h5'),'table')\n",
    "        print('segmentation surface precipitation performed and saved')"
   ]
  },
  {
   "cell_type": "markdown",
   "metadata": {},
   "source": [
    "# Recombination and tracking on entire dataset"
   ]
  },
  {
   "cell_type": "code",
   "execution_count": 35,
   "metadata": {},
   "outputs": [],
   "source": [
    "file = '/Features201607.h5'\n",
    "#file= '/Featurescnrr_cnrr_201607_TP.nc4.nc4.h5'\n",
    "file= '/Features_CNRR_201607.h5'\n",
    "#file= '/Features_Precip201607.h5'"
   ]
  },
  {
   "cell_type": "code",
   "execution_count": 36,
   "metadata": {},
   "outputs": [],
   "source": [
    "features_example = pd.read_hdf(savedir+ file, 'table')"
   ]
  },
  {
   "cell_type": "code",
   "execution_count": 4,
   "metadata": {},
   "outputs": [],
   "source": [
    "import glob\n",
    "# read in HDF5 files with saved features\n",
    "file_list= glob.glob(savedir  + '/Features_CNRR_??????.h5')  \n",
    "#len(file_list)\n",
    "#file_list"
   ]
  },
  {
   "cell_type": "code",
   "execution_count": 5,
   "metadata": {},
   "outputs": [
    {
     "name": "stdout",
     "output_type": "stream",
     "text": [
      "Save/Features_CNRR_200109.h5\n",
      "Save/Features_CNRR_200110.h5 719\n",
      "(18665, 12)\n",
      "Save/Features_CNRR_200111.h5 1462\n",
      "(20706, 12)\n",
      "Save/Features_CNRR_200112.h5 2181\n",
      "(21921, 12)\n",
      "Save/Features_CNRR_200201.h5 2924\n",
      "(24473, 12)\n",
      "Save/Features_CNRR_200202.h5 3667\n",
      "(27709, 12)\n",
      "Save/Features_CNRR_200203.h5 4338\n",
      "(32448, 12)\n",
      "Save/Features_CNRR_200204.h5 5081\n",
      "(40060, 12)\n",
      "Save/Features_CNRR_200205.h5 5800\n",
      "(50280, 12)\n",
      "Save/Features_CNRR_200206.h5 6543\n"
     ]
    },
    {
     "name": "stderr",
     "output_type": "stream",
     "text": [
      "/home/juli/anaconda3/lib/python3.6/site-packages/pandas/core/frame.py:6692: FutureWarning: Sorting because non-concatenation axis is not aligned. A future version\n",
      "of pandas will change to not sort by default.\n",
      "\n",
      "To accept the future behavior, pass 'sort=False'.\n",
      "\n",
      "To retain the current behavior and silence the warning, pass 'sort=True'.\n",
      "\n",
      "  sort=sort)\n"
     ]
    },
    {
     "name": "stdout",
     "output_type": "stream",
     "text": [
      "(65453, 12)\n",
      "Save/Features_CNRR_200207.h5 7262\n",
      "(81511, 12)\n",
      "Save/Features_CNRR_200208.h5 8005\n",
      "(99209, 12)\n",
      "Save/Features_CNRR_200209.h5 8748\n",
      "(112227, 12)\n",
      "Save/Features_CNRR_200210.h5 9467\n",
      "(117508, 12)\n",
      "Save/Features_CNRR_200211.h5 10210\n",
      "(119712, 12)\n",
      "Save/Features_CNRR_200212.h5 10927\n",
      "(121833, 12)\n",
      "Save/Features_CNRR_200301.h5 11670\n",
      "(123474, 12)\n",
      "Save/Features_CNRR_200302.h5 12413\n",
      "(128207, 12)\n",
      "Save/Features_CNRR_200303.h5 13084\n",
      "(133923, 12)\n",
      "Save/Features_CNRR_200304.h5 13827\n",
      "(141072, 12)\n",
      "Save/Features_CNRR_200305.h5 14546\n",
      "(150585, 12)\n",
      "Save/Features_CNRR_200306.h5 15289\n",
      "(168081, 12)\n",
      "Save/Features_CNRR_200307.h5 16008\n",
      "(191117, 12)\n",
      "Save/Features_CNRR_200308.h5 16751\n",
      "(211097, 12)\n",
      "Save/Features_CNRR_200309.h5 17494\n",
      "(226708, 12)\n",
      "Save/Features_CNRR_200310.h5 18213\n",
      "(232850, 12)\n",
      "Save/Features_CNRR_200311.h5 18956\n",
      "(234997, 12)\n",
      "Save/Features_CNRR_200312.h5 19666\n",
      "(236942, 12)\n",
      "Save/Features_CNRR_200401.h5 20409\n",
      "(239970, 12)\n",
      "Save/Features_CNRR_199901.h5 21152\n",
      "(241861, 12)\n",
      "Save/Features_CNRR_200005.h5 21894\n",
      "(251369, 12)\n",
      "Save/Features_CNRR_200403.h5 22637\n",
      "(254924, 12)\n",
      "Save/Features_CNRR_200404.h5 23380\n",
      "(261836, 12)\n",
      "Save/Features_CNRR_200405.h5 24099\n",
      "(270718, 12)\n",
      "Save/Features_CNRR_200406.h5 24842\n",
      "(285540, 12)\n",
      "Save/Features_CNRR_200407.h5 25561\n",
      "(302919, 12)\n",
      "Save/Features_CNRR_200408.h5 26304\n",
      "(319669, 12)\n",
      "Save/Features_CNRR_200409.h5 27047\n",
      "(330590, 12)\n",
      "Save/Features_CNRR_200410.h5 27766\n",
      "(336948, 12)\n",
      "Save/Features_CNRR_200411.h5 28508\n",
      "(339329, 12)\n",
      "Save/Features_CNRR_200412.h5 29226\n",
      "(341491, 12)\n",
      "Save/Features_CNRR_200501.h5 29969\n",
      "(344529, 12)\n",
      "Save/Features_CNRR_200502.h5 30712\n",
      "(348752, 12)\n",
      "Save/Features_CNRR_200503.h5 31383\n",
      "(354774, 12)\n",
      "Save/Features_CNRR_200504.h5 32126\n",
      "(359838, 12)\n",
      "Save/Features_CNRR_200505.h5 32845\n",
      "(368108, 12)\n",
      "Save/Features_CNRR_200507.h5 33588\n",
      "(384424, 12)\n",
      "Save/Features_CNRR_200508.h5 34331\n",
      "(398332, 12)\n",
      "Save/Features_CNRR_200509.h5 35074\n",
      "(408407, 12)\n",
      "Save/Features_CNRR_200510.h5 35793\n",
      "(414201, 12)\n",
      "Save/Features_CNRR_200511.h5 36536\n",
      "(415449, 12)\n",
      "Save/Features_CNRR_200512.h5 37233\n",
      "(416252, 12)\n",
      "Save/Features_CNRR_200601.h5 37976\n",
      "(417911, 12)\n",
      "Save/Features_CNRR_200602.h5 38719\n",
      "(420677, 12)\n",
      "Save/Features_CNRR_200603.h5 39390\n",
      "(425050, 12)\n",
      "Save/Features_CNRR_200604.h5 40133\n",
      "(429921, 12)\n",
      "Save/Features_CNRR_200605.h5 40852\n",
      "(439057, 12)\n",
      "Save/Features_CNRR_200606.h5 41595\n",
      "(449755, 12)\n",
      "Save/Features_CNRR_200607.h5 42314\n",
      "(463473, 12)\n",
      "Save/Features_CNRR_200608.h5 43057\n",
      "(476430, 12)\n",
      "Save/Features_CNRR_200609.h5 43800\n",
      "(486077, 12)\n",
      "Save/Features_CNRR_201305.h5 44519\n",
      "(495207, 12)\n",
      "Save/Features_CNRR_201306.h5 45262\n",
      "(508757, 12)\n",
      "Save/Features_CNRR_201307.h5 45981\n",
      "(526545, 12)\n",
      "Save/Features_CNRR_201308.h5 46724\n",
      "(543288, 12)\n",
      "Save/Features_CNRR_201309.h5 47467\n",
      "(555388, 12)\n",
      "Save/Features_CNRR_201310.h5 48186\n",
      "(563745, 12)\n",
      "Save/Features_CNRR_201311.h5 48929\n",
      "(565278, 12)\n",
      "Save/Features_CNRR_201312.h5 49641\n",
      "(566477, 12)\n",
      "Save/Features_CNRR_201401.h5 50383\n",
      "(568626, 12)\n",
      "Save/Features_CNRR_201402.h5 51126\n",
      "(571995, 12)\n",
      "Save/Features_CNRR_201403.h5 51797\n",
      "(577240, 12)\n",
      "Save/Features_CNRR_201404.h5 52540\n",
      "(582918, 12)\n",
      "Save/Features_CNRR_201405.h5 53259\n",
      "(590429, 12)\n",
      "Save/Features_CNRR_201406.h5 54002\n",
      "(601528, 12)\n",
      "Save/Features_CNRR_201407.h5 54721\n",
      "(618194, 12)\n",
      "Save/Features_CNRR_201408.h5 55464\n",
      "(634470, 12)\n",
      "Save/Features_CNRR_201409.h5 56207\n",
      "(645764, 12)\n",
      "Save/Features_CNRR_201410.h5 56926\n",
      "(650701, 12)\n",
      "Save/Features_CNRR_201411.h5 57669\n",
      "(652768, 12)\n",
      "Save/Features_CNRR_201412.h5 58388\n",
      "(654203, 12)\n",
      "Save/Features_CNRR_201501.h5 59131\n",
      "(657834, 12)\n",
      "Save/Features_CNRR_201502.h5 59874\n",
      "(661784, 12)\n",
      "Save/Features_CNRR_201503.h5 60545\n",
      "(668391, 12)\n",
      "Save/Features_CNRR_201504.h5 61288\n",
      "(677636, 12)\n",
      "Save/Features_CNRR_201505.h5 62007\n",
      "(686786, 12)\n",
      "Save/Features_CNRR_201506.h5 62750\n",
      "(704150, 12)\n",
      "Save/Features_CNRR_201507.h5 63469\n",
      "(723753, 12)\n",
      "Save/Features_CNRR_201508.h5 64212\n",
      "(743685, 12)\n",
      "Save/Features_CNRR_201509.h5 64955\n",
      "(756716, 12)\n",
      "Save/Features_CNRR_200611.h5 65674\n",
      "(759756, 12)\n",
      "Save/Features_CNRR_200612.h5 66393\n",
      "(761482, 12)\n",
      "Save/Features_CNRR_200701.h5 67136\n",
      "(762394, 12)\n",
      "Save/Features_CNRR_200702.h5 67879\n",
      "(766939, 12)\n",
      "Save/Features_CNRR_200703.h5 68550\n",
      "(771245, 12)\n",
      "Save/Features_CNRR_200704.h5 69293\n",
      "(777006, 12)\n",
      "Save/Features_CNRR_200705.h5 70011\n",
      "(785060, 12)\n",
      "Save/Features_CNRR_200706.h5 70754\n",
      "(799551, 12)\n",
      "Save/Features_CNRR_200707.h5 71473\n",
      "(817946, 12)\n",
      "Save/Features_CNRR_200708.h5 72216\n",
      "(833385, 12)\n",
      "Save/Features_CNRR_200709.h5 72959\n",
      "(846047, 12)\n",
      "Save/Features_CNRR_200710.h5 73678\n",
      "(851645, 12)\n",
      "Save/Features_CNRR_200711.h5 74421\n",
      "(853504, 12)\n",
      "Save/Features_CNRR_200712.h5 75140\n",
      "(855135, 12)\n",
      "Save/Features_CNRR_200801.h5 75867\n",
      "(858076, 12)\n",
      "Save/Features_CNRR_200803.h5 76610\n",
      "(862734, 12)\n",
      "Save/Features_CNRR_200804.h5 77353\n",
      "(868922, 12)\n",
      "Save/Features_CNRR_200805.h5 78072\n",
      "(878043, 12)\n",
      "Save/Features_CNRR_200806.h5 78815\n",
      "(893958, 12)\n",
      "Save/Features_CNRR_200807.h5 79534\n",
      "(912213, 12)\n",
      "Save/Features_CNRR_200808.h5 80277\n",
      "(931166, 12)\n",
      "Save/Features_CNRR_200809.h5 81020\n",
      "(943801, 12)\n",
      "Save/Features_CNRR_200810.h5 81739\n",
      "(949908, 12)\n",
      "Save/Features_CNRR_200811.h5 82482\n",
      "(951542, 12)\n",
      "Save/Features_CNRR_200812.h5 83187\n",
      "(953109, 12)\n",
      "Save/Features_CNRR_200901.h5 83930\n",
      "(955311, 12)\n",
      "Save/Features_CNRR_200902.h5 84673\n",
      "(958076, 12)\n",
      "Save/Features_CNRR_200903.h5 85344\n",
      "(962113, 12)\n",
      "Save/Features_CNRR_200904.h5 86087\n",
      "(968140, 12)\n",
      "Save/Features_CNRR_200905.h5 86806\n",
      "(977243, 12)\n",
      "Save/Features_CNRR_200906.h5 87549\n",
      "(986719, 12)\n",
      "Save/Features_CNRR_200907.h5 88268\n",
      "(1003610, 12)\n",
      "Save/Features_CNRR_200908.h5 89011\n",
      "(1020049, 12)\n",
      "Save/Features_CNRR_200909.h5 89754\n",
      "(1030562, 12)\n",
      "Save/Features_CNRR_200910.h5 90473\n",
      "(1036340, 12)\n",
      "Save/Features_CNRR_200911.h5 91213\n",
      "(1039547, 12)\n",
      "Save/Features_CNRR_200912.h5 91932\n",
      "(1041314, 12)\n",
      "Save/Features_CNRR_201001.h5 92675\n",
      "(1042569, 12)\n",
      "Save/Features_CNRR_201002.h5 93390\n",
      "(1045948, 12)\n",
      "Save/Features_CNRR_201003.h5 94061\n",
      "(1050419, 12)\n",
      "Save/Features_CNRR_201004.h5 94804\n",
      "(1056578, 12)\n",
      "Save/Features_CNRR_201005.h5 95523\n",
      "(1066178, 12)\n",
      "Save/Features_CNRR_201006.h5 96266\n",
      "(1079073, 12)\n",
      "Save/Features_CNRR_201007.h5 96985\n",
      "(1097046, 12)\n",
      "Save/Features_CNRR_201009.h5 97728\n",
      "(1110274, 12)\n",
      "Save/Features_CNRR_201010.h5 98447\n",
      "(1117324, 12)\n",
      "Save/Features_CNRR_201011.h5 99190\n",
      "(1120811, 12)\n",
      "Save/Features_CNRR_201012.h5 99907\n",
      "(1121867, 12)\n",
      "Save/Features_CNRR_201101.h5 100650\n",
      "(1123084, 12)\n",
      "Save/Features_CNRR_201102.h5 101393\n",
      "(1126512, 12)\n",
      "Save/Features_CNRR_201103.h5 102064\n",
      "(1130801, 12)\n",
      "Save/Features_CNRR_201104.h5 102807\n",
      "(1136037, 12)\n",
      "Save/Features_CNRR_201105.h5 103526\n",
      "(1144751, 12)\n",
      "Save/Features_CNRR_201106.h5 104269\n",
      "(1158778, 12)\n",
      "Save/Features_CNRR_201107.h5 104988\n",
      "(1174768, 12)\n",
      "Save/Features_CNRR_201108.h5 105731\n",
      "(1191772, 12)\n",
      "Save/Features_CNRR_201109.h5 106474\n",
      "(1204842, 12)\n",
      "Save/Features_CNRR_201110.h5 107193\n",
      "(1210654, 12)\n",
      "Save/Features_CNRR_201111.h5 107936\n",
      "(1213633, 12)\n",
      "Save/Features_CNRR_201201.h5 108655\n",
      "(1216324, 12)\n",
      "Save/Features_CNRR_201202.h5 109394\n",
      "(1218996, 12)\n",
      "Save/Features_CNRR_201203.h5 110089\n",
      "(1222403, 12)\n",
      "Save/Features_CNRR_201204.h5 110832\n",
      "(1229038, 12)\n",
      "Save/Features_CNRR_201205.h5 111551\n",
      "(1235437, 12)\n",
      "Save/Features_CNRR_201206.h5 112294\n",
      "(1246184, 12)\n",
      "Save/Features_CNRR_201207.h5 113013\n",
      "(1263361, 12)\n",
      "Save/Features_CNRR_201208.h5 113756\n",
      "(1280332, 12)\n",
      "Save/Features_CNRR_201209.h5 114499\n",
      "(1293071, 12)\n",
      "Save/Features_CNRR_201210.h5 115218\n",
      "(1297765, 12)\n",
      "Save/Features_CNRR_201211.h5 115961\n",
      "(1299649, 12)\n",
      "Save/Features_CNRR_201212.h5 116680\n",
      "(1301057, 12)\n",
      "Save/Features_CNRR_201301.h5 117420\n",
      "(1302279, 12)\n",
      "Save/Features_CNRR_201302.h5 118153\n",
      "(1305917, 12)\n",
      "Save/Features_CNRR_201303.h5 118824\n",
      "(1309522, 12)\n",
      "Save/Features_CNRR_201511.h5 119567\n",
      "(1311902, 12)\n",
      "Save/Features_CNRR_201512.h5 120285\n",
      "(1314130, 12)\n",
      "Save/Features_CNRR_201601.h5 121028\n",
      "(1316563, 12)\n",
      "Save/Features_CNRR_201602.h5 121771\n",
      "(1318797, 12)\n",
      "Save/Features_CNRR_201603.h5 122466\n",
      "(1325625, 12)\n",
      "Save/Features_CNRR_201604.h5 123209\n",
      "(1333771, 12)\n",
      "Save/Features_CNRR_201605.h5 123928\n",
      "(1343881, 12)\n",
      "Save/Features_CNRR_201606.h5 124671\n",
      "(1358882, 12)\n",
      "Save/Features_CNRR_201607.h5 125390\n",
      "(1382629, 12)\n",
      "Save/Features_CNRR_201608.h5 126133\n",
      "(1403549, 12)\n",
      "Save/Features_CNRR_201609.h5 126876\n",
      "(1418574, 12)\n",
      "Save/Features_CNRR_201610.h5 127595\n",
      "(1424400, 12)\n",
      "Save/Features_CNRR_201611.h5 128338\n",
      "(1426328, 12)\n",
      "Save/Features_CNRR_201612.h5 129057\n",
      "(1427900, 12)\n",
      "Save/Features_CNRR_199701.h5 129800\n",
      "(1429844, 12)\n",
      "Save/Features_CNRR_199702.h5 130543\n"
     ]
    },
    {
     "name": "stdout",
     "output_type": "stream",
     "text": [
      "(1432455, 12)\n",
      "Save/Features_CNRR_199703.h5 131214\n",
      "(1438249, 12)\n",
      "Save/Features_CNRR_199704.h5 131957\n",
      "(1445070, 12)\n",
      "Save/Features_CNRR_199705.h5 132676\n",
      "(1454224, 12)\n",
      "Save/Features_CNRR_199706.h5 133419\n",
      "(1468916, 12)\n",
      "Save/Features_CNRR_199707.h5 134138\n",
      "(1488376, 12)\n",
      "Save/Features_CNRR_199708.h5 134881\n",
      "(1503650, 12)\n",
      "Save/Features_CNRR_199709.h5 135624\n",
      "(1516182, 12)\n",
      "Save/Features_CNRR_199710.h5 136343\n",
      "(1521117, 12)\n",
      "Save/Features_CNRR_199711.h5 137083\n",
      "(1524008, 12)\n",
      "Save/Features_CNRR_199712.h5 137802\n",
      "(1527129, 12)\n",
      "Save/Features_CNRR_199801.h5 138535\n",
      "(1529780, 12)\n",
      "Save/Features_CNRR_199802.h5 139278\n",
      "(1533719, 12)\n",
      "Save/Features_CNRR_199803.h5 139949\n",
      "(1539455, 12)\n",
      "Save/Features_CNRR_199804.h5 140692\n",
      "(1546674, 12)\n",
      "Save/Features_CNRR_199805.h5 141411\n",
      "(1556059, 12)\n",
      "Save/Features_CNRR_199806.h5 142154\n",
      "(1570261, 12)\n",
      "Save/Features_CNRR_199807.h5 142873\n",
      "(1590627, 12)\n",
      "Save/Features_CNRR_199808.h5 143616\n",
      "(1609451, 12)\n",
      "Save/Features_CNRR_199809.h5 144359\n",
      "(1620226, 12)\n",
      "Save/Features_CNRR_199810.h5 145078\n",
      "(1627033, 12)\n",
      "Save/Features_CNRR_199811.h5 145821\n",
      "(1628999, 12)\n",
      "Save/Features_CNRR_199812.h5 146536\n",
      "(1629851, 12)\n",
      "Save/Features_CNRR_200402.h5 147279\n",
      "(1631834, 12)\n",
      "Save/Features_CNRR_200506.h5 147974\n",
      "(1641317, 12)\n",
      "Save/Features_CNRR_200610.h5 148693\n",
      "(1646236, 12)\n",
      "Save/Features_CNRR_200802.h5 149436\n",
      "(1648829, 12)\n",
      "Save/Features_CNRR_201008.h5 150131\n",
      "(1665801, 12)\n",
      "Save/Features_CNRR_201112.h5 150874\n",
      "(1666767, 12)\n",
      "Save/Features_CNRR_201304.h5 151617\n",
      "(1672662, 12)\n",
      "Save/Features_CNRR_201510.h5 152336\n",
      "(1677313, 12)\n",
      "Save/Features_CNRR_200006.h5 153079\n",
      "(1693063, 12)\n",
      "Save/Features_CNRR_200007.h5 153798\n",
      "(1710740, 12)\n",
      "Save/Features_CNRR_200008.h5 154541\n",
      "(1727557, 12)\n",
      "Save/Features_CNRR_200009.h5 155284\n",
      "(1738734, 12)\n",
      "Save/Features_CNRR_200010.h5 156003\n",
      "(1743199, 12)\n",
      "Save/Features_CNRR_200011.h5 156745\n",
      "(1744805, 12)\n",
      "Save/Features_CNRR_200012.h5 157464\n",
      "(1746032, 12)\n",
      "Save/Features_CNRR_200101.h5 158207\n",
      "(1747055, 12)\n",
      "Save/Features_CNRR_200102.h5 158937\n",
      "(1749242, 12)\n",
      "Save/Features_CNRR_200103.h5 159608\n",
      "(1752858, 12)\n",
      "Save/Features_CNRR_200104.h5 160351\n",
      "(1759383, 12)\n",
      "Save/Features_CNRR_200105.h5 161070\n",
      "(1769991, 12)\n",
      "Save/Features_CNRR_200106.h5 161813\n",
      "(1787407, 12)\n",
      "Save/Features_CNRR_200107.h5 162532\n",
      "(1804839, 12)\n",
      "Save/Features_CNRR_199902.h5 163275\n",
      "(1807475, 12)\n",
      "Save/Features_CNRR_199903.h5 163946\n",
      "(1811052, 12)\n",
      "Save/Features_CNRR_199904.h5 164689\n",
      "(1815789, 12)\n",
      "Save/Features_CNRR_199905.h5 165408\n",
      "(1826125, 12)\n",
      "Save/Features_CNRR_199906.h5 166151\n",
      "(1839697, 12)\n",
      "Save/Features_CNRR_199907.h5 166870\n",
      "(1857356, 12)\n",
      "Save/Features_CNRR_199908.h5 167613\n",
      "(1873633, 12)\n",
      "Save/Features_CNRR_199909.h5 168356\n",
      "(1884891, 12)\n",
      "Save/Features_CNRR_199910.h5 169075\n",
      "(1891732, 12)\n",
      "Save/Features_CNRR_199911.h5 169818\n",
      "(1894280, 12)\n",
      "Save/Features_CNRR_200001.h5 170537\n",
      "(1896474, 12)\n",
      "Save/Features_CNRR_200002.h5 171280\n",
      "(1899113, 12)\n",
      "Save/Features_CNRR_200003.h5 171972\n",
      "(1902812, 12)\n",
      "Save/Features_CNRR_200004.h5 172715\n",
      "(1908513, 12)\n",
      "Save/Features_CNRR_200108.h5 173434\n",
      "(1925377, 12)\n"
     ]
    }
   ],
   "source": [
    "i = 0 \n",
    "for file in file_list: \n",
    "    if i == 0:\n",
    "        print(file)\n",
    "        features_p = pd.read_hdf(file, 'table')\n",
    "        Features = features_p\n",
    "        i +=1\n",
    "        end_frame =  np.max(features_p['frame'])\n",
    "    else:\n",
    "        print(file, end_frame)\n",
    "        features = pd.read_hdf(file, 'table')\n",
    "        # update frame number and make sure they are sequential! \n",
    "        features['frame'] = features['frame']  + end_frame\n",
    "        # append dataframes \n",
    "        Features = Features.append(features, ignore_index=True)\n",
    "        # update last number in frame \n",
    "        end_frame = np.max(features['frame'])\n",
    "        i +=1 \n",
    "        print(Features.shape)\n"
   ]
  },
  {
   "cell_type": "code",
   "execution_count": 16,
   "metadata": {},
   "outputs": [
    {
     "data": {
      "text/plain": [
       "(1925377, 12)"
      ]
     },
     "execution_count": 16,
     "metadata": {},
     "output_type": "execute_result"
    }
   ],
   "source": [
    "Features.shape"
   ]
  },
  {
   "cell_type": "code",
   "execution_count": null,
   "metadata": {},
   "outputs": [
    {
     "name": "stdout",
     "output_type": "stream",
     "text": [
      "Frame 3215: 8 trajectories present.\n"
     ]
    }
   ],
   "source": [
    "Track=tobac.linking_trackpy(Features,Precip,dt=dt,dxy=dxy,**parameters_linking)\n",
    "# remove NaN tracks from feature space!!\n",
    "Track = Track.loc[Track.cell > 0]\n",
    "Track.to_hdf(os.path.join(savedir,'Tracks_CNRR_1997-2016.h5'),'table')"
   ]
  },
  {
   "cell_type": "markdown",
   "metadata": {},
   "source": [
    "# TODO\n",
    "\n",
    "- look at basic patterns (to choose right parameters)\n",
    "\n",
    "- clean notebook \n",
    "\n",
    "- statistical analysis of tracks and precipitation features"
   ]
  },
  {
   "cell_type": "markdown",
   "metadata": {},
   "source": [
    "# Reading in calculated Tracks"
   ]
  },
  {
   "cell_type": "code",
   "execution_count": 3,
   "metadata": {},
   "outputs": [],
   "source": [
    "file = savedir + '/Tracks_CNRR_2014-2016.h5'\n",
    "#file = savedir + '/Tracks_CNRR_2006_2016.h5'\n",
    "Track = pd.read_hdf(file, 'table')"
   ]
  },
  {
   "cell_type": "code",
   "execution_count": 9,
   "metadata": {},
   "outputs": [
    {
     "data": {
      "text/html": [
       "<div>\n",
       "<style scoped>\n",
       "    .dataframe tbody tr th:only-of-type {\n",
       "        vertical-align: middle;\n",
       "    }\n",
       "\n",
       "    .dataframe tbody tr th {\n",
       "        vertical-align: top;\n",
       "    }\n",
       "\n",
       "    .dataframe thead th {\n",
       "        text-align: right;\n",
       "    }\n",
       "</style>\n",
       "<table border=\"1\" class=\"dataframe\">\n",
       "  <thead>\n",
       "    <tr style=\"text-align: right;\">\n",
       "      <th></th>\n",
       "      <th>feature</th>\n",
       "      <th>frame</th>\n",
       "      <th>hdim_1</th>\n",
       "      <th>hdim_2</th>\n",
       "      <th>idx</th>\n",
       "      <th>latitude</th>\n",
       "      <th>longitude</th>\n",
       "      <th>ncells</th>\n",
       "      <th>num</th>\n",
       "      <th>threshold_value</th>\n",
       "      <th>time</th>\n",
       "      <th>timestr</th>\n",
       "      <th>cell</th>\n",
       "      <th>time_cell</th>\n",
       "    </tr>\n",
       "  </thead>\n",
       "  <tbody>\n",
       "    <tr>\n",
       "      <th>0</th>\n",
       "      <td>1</td>\n",
       "      <td>1</td>\n",
       "      <td>92.338647</td>\n",
       "      <td>48.926314</td>\n",
       "      <td>5</td>\n",
       "      <td>34.076477</td>\n",
       "      <td>75.594613</td>\n",
       "      <td>0.0</td>\n",
       "      <td>23</td>\n",
       "      <td>1</td>\n",
       "      <td>2006-01-01 01:00:00</td>\n",
       "      <td>2006-01-01 01:00:00</td>\n",
       "      <td>1.0</td>\n",
       "      <td>00:00:00</td>\n",
       "    </tr>\n",
       "    <tr>\n",
       "      <th>5</th>\n",
       "      <td>6</td>\n",
       "      <td>2</td>\n",
       "      <td>92.242745</td>\n",
       "      <td>48.954977</td>\n",
       "      <td>4</td>\n",
       "      <td>34.064809</td>\n",
       "      <td>75.608626</td>\n",
       "      <td>0.0</td>\n",
       "      <td>20</td>\n",
       "      <td>1</td>\n",
       "      <td>2006-01-01 02:00:00</td>\n",
       "      <td>2006-01-01 02:00:00</td>\n",
       "      <td>1.0</td>\n",
       "      <td>01:00:00</td>\n",
       "    </tr>\n",
       "    <tr>\n",
       "      <th>8</th>\n",
       "      <td>9</td>\n",
       "      <td>3</td>\n",
       "      <td>91.856059</td>\n",
       "      <td>49.146974</td>\n",
       "      <td>3</td>\n",
       "      <td>34.023644</td>\n",
       "      <td>75.678463</td>\n",
       "      <td>0.0</td>\n",
       "      <td>19</td>\n",
       "      <td>1</td>\n",
       "      <td>2006-01-01 03:00:00</td>\n",
       "      <td>2006-01-01 03:00:00</td>\n",
       "      <td>1.0</td>\n",
       "      <td>02:00:00</td>\n",
       "    </tr>\n",
       "    <tr>\n",
       "      <th>11</th>\n",
       "      <td>12</td>\n",
       "      <td>4</td>\n",
       "      <td>91.064097</td>\n",
       "      <td>49.426967</td>\n",
       "      <td>3</td>\n",
       "      <td>33.930453</td>\n",
       "      <td>75.801382</td>\n",
       "      <td>0.0</td>\n",
       "      <td>17</td>\n",
       "      <td>1</td>\n",
       "      <td>2006-01-01 04:00:00</td>\n",
       "      <td>2006-01-01 04:00:00</td>\n",
       "      <td>1.0</td>\n",
       "      <td>03:00:00</td>\n",
       "    </tr>\n",
       "    <tr>\n",
       "      <th>26</th>\n",
       "      <td>27</td>\n",
       "      <td>10</td>\n",
       "      <td>96.673157</td>\n",
       "      <td>7.503000</td>\n",
       "      <td>4</td>\n",
       "      <td>31.209634</td>\n",
       "      <td>68.248763</td>\n",
       "      <td>17.0</td>\n",
       "      <td>17</td>\n",
       "      <td>1</td>\n",
       "      <td>2006-01-01 10:00:00</td>\n",
       "      <td>2006-01-01 10:00:00</td>\n",
       "      <td>21.0</td>\n",
       "      <td>00:00:00</td>\n",
       "    </tr>\n",
       "    <tr>\n",
       "      <th>27</th>\n",
       "      <td>28</td>\n",
       "      <td>10</td>\n",
       "      <td>113.080480</td>\n",
       "      <td>9.745536</td>\n",
       "      <td>12</td>\n",
       "      <td>33.639282</td>\n",
       "      <td>66.833874</td>\n",
       "      <td>11.0</td>\n",
       "      <td>18</td>\n",
       "      <td>1</td>\n",
       "      <td>2006-01-01 10:00:00</td>\n",
       "      <td>2006-01-01 10:00:00</td>\n",
       "      <td>22.0</td>\n",
       "      <td>00:00:00</td>\n",
       "    </tr>\n",
       "    <tr>\n",
       "      <th>28</th>\n",
       "      <td>29</td>\n",
       "      <td>10</td>\n",
       "      <td>93.524838</td>\n",
       "      <td>42.578681</td>\n",
       "      <td>1</td>\n",
       "      <td>33.747654</td>\n",
       "      <td>74.378729</td>\n",
       "      <td>52.0</td>\n",
       "      <td>14</td>\n",
       "      <td>4</td>\n",
       "      <td>2006-01-01 10:00:00</td>\n",
       "      <td>2006-01-01 10:00:00</td>\n",
       "      <td>23.0</td>\n",
       "      <td>00:00:00</td>\n",
       "    </tr>\n",
       "    <tr>\n",
       "      <th>30</th>\n",
       "      <td>31</td>\n",
       "      <td>11</td>\n",
       "      <td>113.740251</td>\n",
       "      <td>10.404047</td>\n",
       "      <td>12</td>\n",
       "      <td>33.789815</td>\n",
       "      <td>66.867365</td>\n",
       "      <td>0.0</td>\n",
       "      <td>21</td>\n",
       "      <td>1</td>\n",
       "      <td>2006-01-01 11:00:00</td>\n",
       "      <td>2006-01-01 11:00:00</td>\n",
       "      <td>22.0</td>\n",
       "      <td>01:00:00</td>\n",
       "    </tr>\n",
       "    <tr>\n",
       "      <th>31</th>\n",
       "      <td>32</td>\n",
       "      <td>11</td>\n",
       "      <td>96.413105</td>\n",
       "      <td>8.884023</td>\n",
       "      <td>3</td>\n",
       "      <td>31.297915</td>\n",
       "      <td>68.495544</td>\n",
       "      <td>0.0</td>\n",
       "      <td>11</td>\n",
       "      <td>2</td>\n",
       "      <td>2006-01-01 11:00:00</td>\n",
       "      <td>2006-01-01 11:00:00</td>\n",
       "      <td>21.0</td>\n",
       "      <td>01:00:00</td>\n",
       "    </tr>\n",
       "    <tr>\n",
       "      <th>32</th>\n",
       "      <td>33</td>\n",
       "      <td>11</td>\n",
       "      <td>93.327510</td>\n",
       "      <td>42.746192</td>\n",
       "      <td>1</td>\n",
       "      <td>33.732688</td>\n",
       "      <td>74.426575</td>\n",
       "      <td>50.0</td>\n",
       "      <td>11</td>\n",
       "      <td>5</td>\n",
       "      <td>2006-01-01 11:00:00</td>\n",
       "      <td>2006-01-01 11:00:00</td>\n",
       "      <td>23.0</td>\n",
       "      <td>01:00:00</td>\n",
       "    </tr>\n",
       "    <tr>\n",
       "      <th>33</th>\n",
       "      <td>34</td>\n",
       "      <td>11</td>\n",
       "      <td>98.718888</td>\n",
       "      <td>48.615793</td>\n",
       "      <td>2</td>\n",
       "      <td>34.976020</td>\n",
       "      <td>74.932849</td>\n",
       "      <td>203.0</td>\n",
       "      <td>15</td>\n",
       "      <td>5</td>\n",
       "      <td>2006-01-01 11:00:00</td>\n",
       "      <td>2006-01-01 11:00:00</td>\n",
       "      <td>25.0</td>\n",
       "      <td>00:00:00</td>\n",
       "    </tr>\n",
       "    <tr>\n",
       "      <th>34</th>\n",
       "      <td>35</td>\n",
       "      <td>12</td>\n",
       "      <td>115.008272</td>\n",
       "      <td>10.831349</td>\n",
       "      <td>12</td>\n",
       "      <td>34.001385</td>\n",
       "      <td>66.795045</td>\n",
       "      <td>15.0</td>\n",
       "      <td>15</td>\n",
       "      <td>1</td>\n",
       "      <td>2006-01-01 12:00:00</td>\n",
       "      <td>2006-01-01 12:00:00</td>\n",
       "      <td>22.0</td>\n",
       "      <td>02:00:00</td>\n",
       "    </tr>\n",
       "    <tr>\n",
       "      <th>35</th>\n",
       "      <td>36</td>\n",
       "      <td>12</td>\n",
       "      <td>96.387973</td>\n",
       "      <td>10.448777</td>\n",
       "      <td>4</td>\n",
       "      <td>31.433930</td>\n",
       "      <td>68.747911</td>\n",
       "      <td>16.0</td>\n",
       "      <td>11</td>\n",
       "      <td>2</td>\n",
       "      <td>2006-01-01 12:00:00</td>\n",
       "      <td>2006-01-01 12:00:00</td>\n",
       "      <td>21.0</td>\n",
       "      <td>02:00:00</td>\n",
       "    </tr>\n",
       "    <tr>\n",
       "      <th>36</th>\n",
       "      <td>37</td>\n",
       "      <td>12</td>\n",
       "      <td>93.400772</td>\n",
       "      <td>42.723677</td>\n",
       "      <td>1</td>\n",
       "      <td>33.741412</td>\n",
       "      <td>74.415662</td>\n",
       "      <td>106.0</td>\n",
       "      <td>14</td>\n",
       "      <td>4</td>\n",
       "      <td>2006-01-01 12:00:00</td>\n",
       "      <td>2006-01-01 12:00:00</td>\n",
       "      <td>23.0</td>\n",
       "      <td>02:00:00</td>\n",
       "    </tr>\n",
       "    <tr>\n",
       "      <th>37</th>\n",
       "      <td>38</td>\n",
       "      <td>12</td>\n",
       "      <td>98.736578</td>\n",
       "      <td>47.911520</td>\n",
       "      <td>4</td>\n",
       "      <td>34.922806</td>\n",
       "      <td>74.806865</td>\n",
       "      <td>113.0</td>\n",
       "      <td>13</td>\n",
       "      <td>5</td>\n",
       "      <td>2006-01-01 12:00:00</td>\n",
       "      <td>2006-01-01 12:00:00</td>\n",
       "      <td>25.0</td>\n",
       "      <td>01:00:00</td>\n",
       "    </tr>\n",
       "    <tr>\n",
       "      <th>39</th>\n",
       "      <td>40</td>\n",
       "      <td>13</td>\n",
       "      <td>114.995769</td>\n",
       "      <td>10.713869</td>\n",
       "      <td>12</td>\n",
       "      <td>33.988743</td>\n",
       "      <td>66.777266</td>\n",
       "      <td>13.0</td>\n",
       "      <td>17</td>\n",
       "      <td>1</td>\n",
       "      <td>2006-01-01 13:00:00</td>\n",
       "      <td>2006-01-01 13:00:00</td>\n",
       "      <td>22.0</td>\n",
       "      <td>03:00:00</td>\n",
       "    </tr>\n",
       "    <tr>\n",
       "      <th>40</th>\n",
       "      <td>41</td>\n",
       "      <td>13</td>\n",
       "      <td>96.533332</td>\n",
       "      <td>11.599522</td>\n",
       "      <td>4</td>\n",
       "      <td>31.555984</td>\n",
       "      <td>68.917078</td>\n",
       "      <td>17.0</td>\n",
       "      <td>12</td>\n",
       "      <td>2</td>\n",
       "      <td>2006-01-01 13:00:00</td>\n",
       "      <td>2006-01-01 13:00:00</td>\n",
       "      <td>21.0</td>\n",
       "      <td>03:00:00</td>\n",
       "    </tr>\n",
       "    <tr>\n",
       "      <th>42</th>\n",
       "      <td>43</td>\n",
       "      <td>13</td>\n",
       "      <td>93.696873</td>\n",
       "      <td>42.702357</td>\n",
       "      <td>1</td>\n",
       "      <td>33.782229</td>\n",
       "      <td>74.383575</td>\n",
       "      <td>79.0</td>\n",
       "      <td>12</td>\n",
       "      <td>3</td>\n",
       "      <td>2006-01-01 13:00:00</td>\n",
       "      <td>2006-01-01 13:00:00</td>\n",
       "      <td>23.0</td>\n",
       "      <td>03:00:00</td>\n",
       "    </tr>\n",
       "    <tr>\n",
       "      <th>43</th>\n",
       "      <td>44</td>\n",
       "      <td>13</td>\n",
       "      <td>98.844685</td>\n",
       "      <td>47.879453</td>\n",
       "      <td>3</td>\n",
       "      <td>34.935884</td>\n",
       "      <td>74.790768</td>\n",
       "      <td>43.0</td>\n",
       "      <td>29</td>\n",
       "      <td>3</td>\n",
       "      <td>2006-01-01 13:00:00</td>\n",
       "      <td>2006-01-01 13:00:00</td>\n",
       "      <td>25.0</td>\n",
       "      <td>02:00:00</td>\n",
       "    </tr>\n",
       "    <tr>\n",
       "      <th>44</th>\n",
       "      <td>45</td>\n",
       "      <td>14</td>\n",
       "      <td>96.826053</td>\n",
       "      <td>12.995678</td>\n",
       "      <td>3</td>\n",
       "      <td>31.719706</td>\n",
       "      <td>69.111023</td>\n",
       "      <td>21.0</td>\n",
       "      <td>22</td>\n",
       "      <td>1</td>\n",
       "      <td>2006-01-01 14:00:00</td>\n",
       "      <td>2006-01-01 14:00:00</td>\n",
       "      <td>21.0</td>\n",
       "      <td>04:00:00</td>\n",
       "    </tr>\n",
       "    <tr>\n",
       "      <th>45</th>\n",
       "      <td>46</td>\n",
       "      <td>14</td>\n",
       "      <td>114.618369</td>\n",
       "      <td>10.641452</td>\n",
       "      <td>8</td>\n",
       "      <td>33.930862</td>\n",
       "      <td>66.807750</td>\n",
       "      <td>20.0</td>\n",
       "      <td>20</td>\n",
       "      <td>1</td>\n",
       "      <td>2006-01-01 14:00:00</td>\n",
       "      <td>2006-01-01 14:00:00</td>\n",
       "      <td>22.0</td>\n",
       "      <td>04:00:00</td>\n",
       "    </tr>\n",
       "    <tr>\n",
       "      <th>46</th>\n",
       "      <td>47</td>\n",
       "      <td>14</td>\n",
       "      <td>98.711351</td>\n",
       "      <td>48.044282</td>\n",
       "      <td>4</td>\n",
       "      <td>34.929695</td>\n",
       "      <td>74.832702</td>\n",
       "      <td>220.0</td>\n",
       "      <td>24</td>\n",
       "      <td>3</td>\n",
       "      <td>2006-01-01 14:00:00</td>\n",
       "      <td>2006-01-01 14:00:00</td>\n",
       "      <td>25.0</td>\n",
       "      <td>03:00:00</td>\n",
       "    </tr>\n",
       "    <tr>\n",
       "      <th>47</th>\n",
       "      <td>48</td>\n",
       "      <td>15</td>\n",
       "      <td>96.431450</td>\n",
       "      <td>14.763337</td>\n",
       "      <td>4</td>\n",
       "      <td>31.821374</td>\n",
       "      <td>69.437242</td>\n",
       "      <td>17.0</td>\n",
       "      <td>18</td>\n",
       "      <td>1</td>\n",
       "      <td>2006-01-01 15:00:00</td>\n",
       "      <td>2006-01-01 15:00:00</td>\n",
       "      <td>21.0</td>\n",
       "      <td>05:00:00</td>\n",
       "    </tr>\n",
       "    <tr>\n",
       "      <th>49</th>\n",
       "      <td>50</td>\n",
       "      <td>15</td>\n",
       "      <td>105.567158</td>\n",
       "      <td>39.794314</td>\n",
       "      <td>7</td>\n",
       "      <td>35.243755</td>\n",
       "      <td>72.704533</td>\n",
       "      <td>33.0</td>\n",
       "      <td>11</td>\n",
       "      <td>2</td>\n",
       "      <td>2006-01-01 15:00:00</td>\n",
       "      <td>2006-01-01 15:00:00</td>\n",
       "      <td>29.0</td>\n",
       "      <td>00:00:00</td>\n",
       "    </tr>\n",
       "    <tr>\n",
       "      <th>50</th>\n",
       "      <td>51</td>\n",
       "      <td>15</td>\n",
       "      <td>97.267505</td>\n",
       "      <td>47.627425</td>\n",
       "      <td>3</td>\n",
       "      <td>34.687954</td>\n",
       "      <td>74.898613</td>\n",
       "      <td>162.0</td>\n",
       "      <td>30</td>\n",
       "      <td>3</td>\n",
       "      <td>2006-01-01 15:00:00</td>\n",
       "      <td>2006-01-01 15:00:00</td>\n",
       "      <td>25.0</td>\n",
       "      <td>04:00:00</td>\n",
       "    </tr>\n",
       "    <tr>\n",
       "      <th>51</th>\n",
       "      <td>52</td>\n",
       "      <td>16</td>\n",
       "      <td>96.716807</td>\n",
       "      <td>16.353360</td>\n",
       "      <td>3</td>\n",
       "      <td>32.000111</td>\n",
       "      <td>69.665487</td>\n",
       "      <td>15.0</td>\n",
       "      <td>16</td>\n",
       "      <td>1</td>\n",
       "      <td>2006-01-01 16:00:00</td>\n",
       "      <td>2006-01-01 16:00:00</td>\n",
       "      <td>21.0</td>\n",
       "      <td>06:00:00</td>\n",
       "    </tr>\n",
       "    <tr>\n",
       "      <th>52</th>\n",
       "      <td>53</td>\n",
       "      <td>16</td>\n",
       "      <td>106.071450</td>\n",
       "      <td>41.630515</td>\n",
       "      <td>6</td>\n",
       "      <td>35.468065</td>\n",
       "      <td>72.974646</td>\n",
       "      <td>27.0</td>\n",
       "      <td>28</td>\n",
       "      <td>1</td>\n",
       "      <td>2006-01-01 16:00:00</td>\n",
       "      <td>2006-01-01 16:00:00</td>\n",
       "      <td>29.0</td>\n",
       "      <td>01:00:00</td>\n",
       "    </tr>\n",
       "    <tr>\n",
       "      <th>54</th>\n",
       "      <td>55</td>\n",
       "      <td>16</td>\n",
       "      <td>94.412482</td>\n",
       "      <td>48.054571</td>\n",
       "      <td>2</td>\n",
       "      <td>34.308756</td>\n",
       "      <td>75.246318</td>\n",
       "      <td>36.0</td>\n",
       "      <td>14</td>\n",
       "      <td>3</td>\n",
       "      <td>2006-01-01 16:00:00</td>\n",
       "      <td>2006-01-01 16:00:00</td>\n",
       "      <td>31.0</td>\n",
       "      <td>00:00:00</td>\n",
       "    </tr>\n",
       "    <tr>\n",
       "      <th>56</th>\n",
       "      <td>57</td>\n",
       "      <td>17</td>\n",
       "      <td>97.455397</td>\n",
       "      <td>18.086844</td>\n",
       "      <td>4</td>\n",
       "      <td>32.253558</td>\n",
       "      <td>69.871540</td>\n",
       "      <td>11.0</td>\n",
       "      <td>11</td>\n",
       "      <td>1</td>\n",
       "      <td>2006-01-01 17:00:00</td>\n",
       "      <td>2006-01-01 17:00:00</td>\n",
       "      <td>21.0</td>\n",
       "      <td>07:00:00</td>\n",
       "    </tr>\n",
       "    <tr>\n",
       "      <th>57</th>\n",
       "      <td>58</td>\n",
       "      <td>17</td>\n",
       "      <td>107.018783</td>\n",
       "      <td>34.012102</td>\n",
       "      <td>6</td>\n",
       "      <td>34.963058</td>\n",
       "      <td>71.552439</td>\n",
       "      <td>18.0</td>\n",
       "      <td>17</td>\n",
       "      <td>1</td>\n",
       "      <td>2006-01-01 17:00:00</td>\n",
       "      <td>2006-01-01 17:00:00</td>\n",
       "      <td>33.0</td>\n",
       "      <td>00:00:00</td>\n",
       "    </tr>\n",
       "    <tr>\n",
       "      <th>...</th>\n",
       "      <td>...</td>\n",
       "      <td>...</td>\n",
       "      <td>...</td>\n",
       "      <td>...</td>\n",
       "      <td>...</td>\n",
       "      <td>...</td>\n",
       "      <td>...</td>\n",
       "      <td>...</td>\n",
       "      <td>...</td>\n",
       "      <td>...</td>\n",
       "      <td>...</td>\n",
       "      <td>...</td>\n",
       "      <td>...</td>\n",
       "      <td>...</td>\n",
       "    </tr>\n",
       "    <tr>\n",
       "      <th>1047573</th>\n",
       "      <td>1502</td>\n",
       "      <td>96168</td>\n",
       "      <td>134.006666</td>\n",
       "      <td>100.028390</td>\n",
       "      <td>7</td>\n",
       "      <td>44.048568</td>\n",
       "      <td>81.510825</td>\n",
       "      <td>14.0</td>\n",
       "      <td>14</td>\n",
       "      <td>1</td>\n",
       "      <td>2016-12-30 05:00:00</td>\n",
       "      <td>2016-12-30 05:00:00</td>\n",
       "      <td>560997.0</td>\n",
       "      <td>03:00:00</td>\n",
       "    </tr>\n",
       "    <tr>\n",
       "      <th>1047578</th>\n",
       "      <td>1507</td>\n",
       "      <td>96195</td>\n",
       "      <td>3.359942</td>\n",
       "      <td>116.623326</td>\n",
       "      <td>1</td>\n",
       "      <td>24.753977</td>\n",
       "      <td>93.401974</td>\n",
       "      <td>8.0</td>\n",
       "      <td>14</td>\n",
       "      <td>1</td>\n",
       "      <td>2016-12-31 08:00:00</td>\n",
       "      <td>2016-12-31 08:00:00</td>\n",
       "      <td>561001.0</td>\n",
       "      <td>00:00:00</td>\n",
       "    </tr>\n",
       "    <tr>\n",
       "      <th>1047579</th>\n",
       "      <td>1508</td>\n",
       "      <td>96195</td>\n",
       "      <td>10.043071</td>\n",
       "      <td>127.566868</td>\n",
       "      <td>4</td>\n",
       "      <td>26.222168</td>\n",
       "      <td>94.955676</td>\n",
       "      <td>7.0</td>\n",
       "      <td>12</td>\n",
       "      <td>1</td>\n",
       "      <td>2016-12-31 08:00:00</td>\n",
       "      <td>2016-12-31 08:00:00</td>\n",
       "      <td>561002.0</td>\n",
       "      <td>00:00:00</td>\n",
       "    </tr>\n",
       "    <tr>\n",
       "      <th>1047580</th>\n",
       "      <td>1509</td>\n",
       "      <td>96195</td>\n",
       "      <td>40.551688</td>\n",
       "      <td>77.836229</td>\n",
       "      <td>11</td>\n",
       "      <td>28.408906</td>\n",
       "      <td>84.742248</td>\n",
       "      <td>9.0</td>\n",
       "      <td>14</td>\n",
       "      <td>1</td>\n",
       "      <td>2016-12-31 08:00:00</td>\n",
       "      <td>2016-12-31 08:00:00</td>\n",
       "      <td>561003.0</td>\n",
       "      <td>00:00:00</td>\n",
       "    </tr>\n",
       "    <tr>\n",
       "      <th>1047581</th>\n",
       "      <td>1510</td>\n",
       "      <td>96196</td>\n",
       "      <td>10.678667</td>\n",
       "      <td>128.542382</td>\n",
       "      <td>5</td>\n",
       "      <td>26.358428</td>\n",
       "      <td>95.095509</td>\n",
       "      <td>13.0</td>\n",
       "      <td>15</td>\n",
       "      <td>1</td>\n",
       "      <td>2016-12-31 09:00:00</td>\n",
       "      <td>2016-12-31 09:00:00</td>\n",
       "      <td>561002.0</td>\n",
       "      <td>01:00:00</td>\n",
       "    </tr>\n",
       "    <tr>\n",
       "      <th>1047583</th>\n",
       "      <td>1512</td>\n",
       "      <td>96196</td>\n",
       "      <td>41.884419</td>\n",
       "      <td>76.380492</td>\n",
       "      <td>16</td>\n",
       "      <td>28.521064</td>\n",
       "      <td>84.404622</td>\n",
       "      <td>0.0</td>\n",
       "      <td>29</td>\n",
       "      <td>1</td>\n",
       "      <td>2016-12-31 09:00:00</td>\n",
       "      <td>2016-12-31 09:00:00</td>\n",
       "      <td>561003.0</td>\n",
       "      <td>01:00:00</td>\n",
       "    </tr>\n",
       "    <tr>\n",
       "      <th>1047584</th>\n",
       "      <td>1513</td>\n",
       "      <td>96196</td>\n",
       "      <td>4.063901</td>\n",
       "      <td>117.020005</td>\n",
       "      <td>1</td>\n",
       "      <td>24.877702</td>\n",
       "      <td>93.435849</td>\n",
       "      <td>11.0</td>\n",
       "      <td>13</td>\n",
       "      <td>2</td>\n",
       "      <td>2016-12-31 09:00:00</td>\n",
       "      <td>2016-12-31 09:00:00</td>\n",
       "      <td>561001.0</td>\n",
       "      <td>01:00:00</td>\n",
       "    </tr>\n",
       "    <tr>\n",
       "      <th>1047585</th>\n",
       "      <td>1514</td>\n",
       "      <td>96197</td>\n",
       "      <td>41.827197</td>\n",
       "      <td>76.369576</td>\n",
       "      <td>12</td>\n",
       "      <td>28.511872</td>\n",
       "      <td>84.406667</td>\n",
       "      <td>0.0</td>\n",
       "      <td>29</td>\n",
       "      <td>1</td>\n",
       "      <td>2016-12-31 10:00:00</td>\n",
       "      <td>2016-12-31 10:00:00</td>\n",
       "      <td>561003.0</td>\n",
       "      <td>02:00:00</td>\n",
       "    </tr>\n",
       "    <tr>\n",
       "      <th>1047588</th>\n",
       "      <td>1517</td>\n",
       "      <td>96197</td>\n",
       "      <td>55.763831</td>\n",
       "      <td>64.750569</td>\n",
       "      <td>18</td>\n",
       "      <td>29.851088</td>\n",
       "      <td>81.425380</td>\n",
       "      <td>15.0</td>\n",
       "      <td>16</td>\n",
       "      <td>1</td>\n",
       "      <td>2016-12-31 10:00:00</td>\n",
       "      <td>2016-12-31 10:00:00</td>\n",
       "      <td>561007.0</td>\n",
       "      <td>00:00:00</td>\n",
       "    </tr>\n",
       "    <tr>\n",
       "      <th>1047589</th>\n",
       "      <td>1518</td>\n",
       "      <td>96197</td>\n",
       "      <td>11.669888</td>\n",
       "      <td>129.136192</td>\n",
       "      <td>3</td>\n",
       "      <td>26.534596</td>\n",
       "      <td>95.154532</td>\n",
       "      <td>20.0</td>\n",
       "      <td>13</td>\n",
       "      <td>2</td>\n",
       "      <td>2016-12-31 10:00:00</td>\n",
       "      <td>2016-12-31 10:00:00</td>\n",
       "      <td>561002.0</td>\n",
       "      <td>02:00:00</td>\n",
       "    </tr>\n",
       "    <tr>\n",
       "      <th>1047591</th>\n",
       "      <td>1520</td>\n",
       "      <td>96197</td>\n",
       "      <td>4.972344</td>\n",
       "      <td>118.363562</td>\n",
       "      <td>2</td>\n",
       "      <td>25.072183</td>\n",
       "      <td>93.619597</td>\n",
       "      <td>0.0</td>\n",
       "      <td>11</td>\n",
       "      <td>3</td>\n",
       "      <td>2016-12-31 10:00:00</td>\n",
       "      <td>2016-12-31 10:00:00</td>\n",
       "      <td>561001.0</td>\n",
       "      <td>02:00:00</td>\n",
       "    </tr>\n",
       "    <tr>\n",
       "      <th>1047592</th>\n",
       "      <td>1521</td>\n",
       "      <td>96198</td>\n",
       "      <td>41.961788</td>\n",
       "      <td>77.854063</td>\n",
       "      <td>13</td>\n",
       "      <td>28.620682</td>\n",
       "      <td>84.649960</td>\n",
       "      <td>17.0</td>\n",
       "      <td>17</td>\n",
       "      <td>1</td>\n",
       "      <td>2016-12-31 11:00:00</td>\n",
       "      <td>2016-12-31 11:00:00</td>\n",
       "      <td>561003.0</td>\n",
       "      <td>03:00:00</td>\n",
       "    </tr>\n",
       "    <tr>\n",
       "      <th>1047595</th>\n",
       "      <td>1524</td>\n",
       "      <td>96198</td>\n",
       "      <td>55.753088</td>\n",
       "      <td>65.258863</td>\n",
       "      <td>24</td>\n",
       "      <td>29.882946</td>\n",
       "      <td>81.512841</td>\n",
       "      <td>22.0</td>\n",
       "      <td>23</td>\n",
       "      <td>1</td>\n",
       "      <td>2016-12-31 11:00:00</td>\n",
       "      <td>2016-12-31 11:00:00</td>\n",
       "      <td>561007.0</td>\n",
       "      <td>01:00:00</td>\n",
       "    </tr>\n",
       "    <tr>\n",
       "      <th>1047597</th>\n",
       "      <td>1526</td>\n",
       "      <td>96198</td>\n",
       "      <td>6.257568</td>\n",
       "      <td>119.891989</td>\n",
       "      <td>2</td>\n",
       "      <td>25.331728</td>\n",
       "      <td>93.818266</td>\n",
       "      <td>23.0</td>\n",
       "      <td>14</td>\n",
       "      <td>3</td>\n",
       "      <td>2016-12-31 11:00:00</td>\n",
       "      <td>2016-12-31 11:00:00</td>\n",
       "      <td>561001.0</td>\n",
       "      <td>03:00:00</td>\n",
       "    </tr>\n",
       "    <tr>\n",
       "      <th>1047598</th>\n",
       "      <td>1527</td>\n",
       "      <td>96198</td>\n",
       "      <td>12.440369</td>\n",
       "      <td>129.933077</td>\n",
       "      <td>3</td>\n",
       "      <td>26.684674</td>\n",
       "      <td>95.258604</td>\n",
       "      <td>21.0</td>\n",
       "      <td>14</td>\n",
       "      <td>3</td>\n",
       "      <td>2016-12-31 11:00:00</td>\n",
       "      <td>2016-12-31 11:00:00</td>\n",
       "      <td>561002.0</td>\n",
       "      <td>03:00:00</td>\n",
       "    </tr>\n",
       "    <tr>\n",
       "      <th>1047599</th>\n",
       "      <td>1528</td>\n",
       "      <td>96199</td>\n",
       "      <td>5.366553</td>\n",
       "      <td>119.509916</td>\n",
       "      <td>1</td>\n",
       "      <td>25.179898</td>\n",
       "      <td>93.794540</td>\n",
       "      <td>17.0</td>\n",
       "      <td>27</td>\n",
       "      <td>1</td>\n",
       "      <td>2016-12-31 12:00:00</td>\n",
       "      <td>2016-12-31 12:00:00</td>\n",
       "      <td>561001.0</td>\n",
       "      <td>04:00:00</td>\n",
       "    </tr>\n",
       "    <tr>\n",
       "      <th>1047600</th>\n",
       "      <td>1529</td>\n",
       "      <td>96199</td>\n",
       "      <td>12.792669</td>\n",
       "      <td>131.701332</td>\n",
       "      <td>3</td>\n",
       "      <td>26.807428</td>\n",
       "      <td>95.549622</td>\n",
       "      <td>0.0</td>\n",
       "      <td>33</td>\n",
       "      <td>1</td>\n",
       "      <td>2016-12-31 12:00:00</td>\n",
       "      <td>2016-12-31 12:00:00</td>\n",
       "      <td>561002.0</td>\n",
       "      <td>04:00:00</td>\n",
       "    </tr>\n",
       "    <tr>\n",
       "      <th>1047602</th>\n",
       "      <td>1531</td>\n",
       "      <td>96199</td>\n",
       "      <td>55.727551</td>\n",
       "      <td>64.666968</td>\n",
       "      <td>21</td>\n",
       "      <td>29.840215</td>\n",
       "      <td>81.413897</td>\n",
       "      <td>9.0</td>\n",
       "      <td>16</td>\n",
       "      <td>1</td>\n",
       "      <td>2016-12-31 12:00:00</td>\n",
       "      <td>2016-12-31 12:00:00</td>\n",
       "      <td>561007.0</td>\n",
       "      <td>02:00:00</td>\n",
       "    </tr>\n",
       "    <tr>\n",
       "      <th>1047603</th>\n",
       "      <td>1532</td>\n",
       "      <td>96199</td>\n",
       "      <td>36.237406</td>\n",
       "      <td>81.277970</td>\n",
       "      <td>12</td>\n",
       "      <td>27.964767</td>\n",
       "      <td>85.612258</td>\n",
       "      <td>33.0</td>\n",
       "      <td>12</td>\n",
       "      <td>2</td>\n",
       "      <td>2016-12-31 12:00:00</td>\n",
       "      <td>2016-12-31 12:00:00</td>\n",
       "      <td>561009.0</td>\n",
       "      <td>00:00:00</td>\n",
       "    </tr>\n",
       "    <tr>\n",
       "      <th>1047604</th>\n",
       "      <td>1533</td>\n",
       "      <td>96200</td>\n",
       "      <td>5.037362</td>\n",
       "      <td>119.725437</td>\n",
       "      <td>2</td>\n",
       "      <td>25.138580</td>\n",
       "      <td>93.845902</td>\n",
       "      <td>9.0</td>\n",
       "      <td>11</td>\n",
       "      <td>1</td>\n",
       "      <td>2016-12-31 13:00:00</td>\n",
       "      <td>2016-12-31 13:00:00</td>\n",
       "      <td>561001.0</td>\n",
       "      <td>05:00:00</td>\n",
       "    </tr>\n",
       "    <tr>\n",
       "      <th>1047607</th>\n",
       "      <td>1536</td>\n",
       "      <td>96200</td>\n",
       "      <td>55.643265</td>\n",
       "      <td>65.665691</td>\n",
       "      <td>19</td>\n",
       "      <td>29.893409</td>\n",
       "      <td>81.590565</td>\n",
       "      <td>24.0</td>\n",
       "      <td>25</td>\n",
       "      <td>1</td>\n",
       "      <td>2016-12-31 13:00:00</td>\n",
       "      <td>2016-12-31 13:00:00</td>\n",
       "      <td>561007.0</td>\n",
       "      <td>03:00:00</td>\n",
       "    </tr>\n",
       "    <tr>\n",
       "      <th>1047608</th>\n",
       "      <td>1537</td>\n",
       "      <td>96200</td>\n",
       "      <td>35.886667</td>\n",
       "      <td>81.513125</td>\n",
       "      <td>8</td>\n",
       "      <td>27.925765</td>\n",
       "      <td>85.674954</td>\n",
       "      <td>0.0</td>\n",
       "      <td>15</td>\n",
       "      <td>2</td>\n",
       "      <td>2016-12-31 13:00:00</td>\n",
       "      <td>2016-12-31 13:00:00</td>\n",
       "      <td>561009.0</td>\n",
       "      <td>01:00:00</td>\n",
       "    </tr>\n",
       "    <tr>\n",
       "      <th>1047612</th>\n",
       "      <td>1541</td>\n",
       "      <td>96201</td>\n",
       "      <td>35.588112</td>\n",
       "      <td>82.795494</td>\n",
       "      <td>9</td>\n",
       "      <td>27.954419</td>\n",
       "      <td>85.911733</td>\n",
       "      <td>13.0</td>\n",
       "      <td>11</td>\n",
       "      <td>2</td>\n",
       "      <td>2016-12-31 14:00:00</td>\n",
       "      <td>2016-12-31 14:00:00</td>\n",
       "      <td>561009.0</td>\n",
       "      <td>02:00:00</td>\n",
       "    </tr>\n",
       "    <tr>\n",
       "      <th>1047614</th>\n",
       "      <td>1543</td>\n",
       "      <td>96202</td>\n",
       "      <td>35.732263</td>\n",
       "      <td>83.882563</td>\n",
       "      <td>11</td>\n",
       "      <td>28.037838</td>\n",
       "      <td>86.087122</td>\n",
       "      <td>13.0</td>\n",
       "      <td>14</td>\n",
       "      <td>1</td>\n",
       "      <td>2016-12-31 15:00:00</td>\n",
       "      <td>2016-12-31 15:00:00</td>\n",
       "      <td>561009.0</td>\n",
       "      <td>03:00:00</td>\n",
       "    </tr>\n",
       "    <tr>\n",
       "      <th>1047617</th>\n",
       "      <td>1546</td>\n",
       "      <td>96203</td>\n",
       "      <td>36.237152</td>\n",
       "      <td>83.826469</td>\n",
       "      <td>9</td>\n",
       "      <td>28.110443</td>\n",
       "      <td>86.045118</td>\n",
       "      <td>10.0</td>\n",
       "      <td>13</td>\n",
       "      <td>1</td>\n",
       "      <td>2016-12-31 16:00:00</td>\n",
       "      <td>2016-12-31 16:00:00</td>\n",
       "      <td>561009.0</td>\n",
       "      <td>04:00:00</td>\n",
       "    </tr>\n",
       "    <tr>\n",
       "      <th>1047621</th>\n",
       "      <td>1550</td>\n",
       "      <td>96204</td>\n",
       "      <td>3.497693</td>\n",
       "      <td>124.055085</td>\n",
       "      <td>2</td>\n",
       "      <td>25.078809</td>\n",
       "      <td>94.645025</td>\n",
       "      <td>8.0</td>\n",
       "      <td>12</td>\n",
       "      <td>1</td>\n",
       "      <td>2016-12-31 17:00:00</td>\n",
       "      <td>2016-12-31 17:00:00</td>\n",
       "      <td>561019.0</td>\n",
       "      <td>00:00:00</td>\n",
       "    </tr>\n",
       "    <tr>\n",
       "      <th>1047626</th>\n",
       "      <td>1555</td>\n",
       "      <td>96205</td>\n",
       "      <td>4.070136</td>\n",
       "      <td>125.382488</td>\n",
       "      <td>1</td>\n",
       "      <td>25.218865</td>\n",
       "      <td>94.844424</td>\n",
       "      <td>13.0</td>\n",
       "      <td>11</td>\n",
       "      <td>2</td>\n",
       "      <td>2016-12-31 18:00:00</td>\n",
       "      <td>2016-12-31 18:00:00</td>\n",
       "      <td>561019.0</td>\n",
       "      <td>01:00:00</td>\n",
       "    </tr>\n",
       "    <tr>\n",
       "      <th>1047630</th>\n",
       "      <td>1559</td>\n",
       "      <td>96206</td>\n",
       "      <td>4.834926</td>\n",
       "      <td>126.712774</td>\n",
       "      <td>1</td>\n",
       "      <td>25.388243</td>\n",
       "      <td>95.036731</td>\n",
       "      <td>12.0</td>\n",
       "      <td>13</td>\n",
       "      <td>2</td>\n",
       "      <td>2016-12-31 19:00:00</td>\n",
       "      <td>2016-12-31 19:00:00</td>\n",
       "      <td>561019.0</td>\n",
       "      <td>02:00:00</td>\n",
       "    </tr>\n",
       "    <tr>\n",
       "      <th>1047635</th>\n",
       "      <td>1564</td>\n",
       "      <td>96207</td>\n",
       "      <td>5.459093</td>\n",
       "      <td>128.459500</td>\n",
       "      <td>1</td>\n",
       "      <td>25.551833</td>\n",
       "      <td>95.306871</td>\n",
       "      <td>26.0</td>\n",
       "      <td>11</td>\n",
       "      <td>4</td>\n",
       "      <td>2016-12-31 20:00:00</td>\n",
       "      <td>2016-12-31 20:00:00</td>\n",
       "      <td>561019.0</td>\n",
       "      <td>03:00:00</td>\n",
       "    </tr>\n",
       "    <tr>\n",
       "      <th>1047636</th>\n",
       "      <td>1565</td>\n",
       "      <td>96208</td>\n",
       "      <td>5.019293</td>\n",
       "      <td>130.137207</td>\n",
       "      <td>2</td>\n",
       "      <td>25.548459</td>\n",
       "      <td>95.611356</td>\n",
       "      <td>28.0</td>\n",
       "      <td>17</td>\n",
       "      <td>2</td>\n",
       "      <td>2016-12-31 21:00:00</td>\n",
       "      <td>2016-12-31 21:00:00</td>\n",
       "      <td>561019.0</td>\n",
       "      <td>04:00:00</td>\n",
       "    </tr>\n",
       "  </tbody>\n",
       "</table>\n",
       "<p>336672 rows × 14 columns</p>\n",
       "</div>"
      ],
      "text/plain": [
       "         feature  frame      hdim_1      hdim_2  idx   latitude  longitude  \\\n",
       "0              1      1   92.338647   48.926314    5  34.076477  75.594613   \n",
       "5              6      2   92.242745   48.954977    4  34.064809  75.608626   \n",
       "8              9      3   91.856059   49.146974    3  34.023644  75.678463   \n",
       "11            12      4   91.064097   49.426967    3  33.930453  75.801382   \n",
       "26            27     10   96.673157    7.503000    4  31.209634  68.248763   \n",
       "27            28     10  113.080480    9.745536   12  33.639282  66.833874   \n",
       "28            29     10   93.524838   42.578681    1  33.747654  74.378729   \n",
       "30            31     11  113.740251   10.404047   12  33.789815  66.867365   \n",
       "31            32     11   96.413105    8.884023    3  31.297915  68.495544   \n",
       "32            33     11   93.327510   42.746192    1  33.732688  74.426575   \n",
       "33            34     11   98.718888   48.615793    2  34.976020  74.932849   \n",
       "34            35     12  115.008272   10.831349   12  34.001385  66.795045   \n",
       "35            36     12   96.387973   10.448777    4  31.433930  68.747911   \n",
       "36            37     12   93.400772   42.723677    1  33.741412  74.415662   \n",
       "37            38     12   98.736578   47.911520    4  34.922806  74.806865   \n",
       "39            40     13  114.995769   10.713869   12  33.988743  66.777266   \n",
       "40            41     13   96.533332   11.599522    4  31.555984  68.917078   \n",
       "42            43     13   93.696873   42.702357    1  33.782229  74.383575   \n",
       "43            44     13   98.844685   47.879453    3  34.935884  74.790768   \n",
       "44            45     14   96.826053   12.995678    3  31.719706  69.111023   \n",
       "45            46     14  114.618369   10.641452    8  33.930862  66.807750   \n",
       "46            47     14   98.711351   48.044282    4  34.929695  74.832702   \n",
       "47            48     15   96.431450   14.763337    4  31.821374  69.437242   \n",
       "49            50     15  105.567158   39.794314    7  35.243755  72.704533   \n",
       "50            51     15   97.267505   47.627425    3  34.687954  74.898613   \n",
       "51            52     16   96.716807   16.353360    3  32.000111  69.665487   \n",
       "52            53     16  106.071450   41.630515    6  35.468065  72.974646   \n",
       "54            55     16   94.412482   48.054571    2  34.308756  75.246318   \n",
       "56            57     17   97.455397   18.086844    4  32.253558  69.871540   \n",
       "57            58     17  107.018783   34.012102    6  34.963058  71.552439   \n",
       "...          ...    ...         ...         ...  ...        ...        ...   \n",
       "1047573     1502  96168  134.006666  100.028390    7  44.048568  81.510825   \n",
       "1047578     1507  96195    3.359942  116.623326    1  24.753977  93.401974   \n",
       "1047579     1508  96195   10.043071  127.566868    4  26.222168  94.955676   \n",
       "1047580     1509  96195   40.551688   77.836229   11  28.408906  84.742248   \n",
       "1047581     1510  96196   10.678667  128.542382    5  26.358428  95.095509   \n",
       "1047583     1512  96196   41.884419   76.380492   16  28.521064  84.404622   \n",
       "1047584     1513  96196    4.063901  117.020005    1  24.877702  93.435849   \n",
       "1047585     1514  96197   41.827197   76.369576   12  28.511872  84.406667   \n",
       "1047588     1517  96197   55.763831   64.750569   18  29.851088  81.425380   \n",
       "1047589     1518  96197   11.669888  129.136192    3  26.534596  95.154532   \n",
       "1047591     1520  96197    4.972344  118.363562    2  25.072183  93.619597   \n",
       "1047592     1521  96198   41.961788   77.854063   13  28.620682  84.649960   \n",
       "1047595     1524  96198   55.753088   65.258863   24  29.882946  81.512841   \n",
       "1047597     1526  96198    6.257568  119.891989    2  25.331728  93.818266   \n",
       "1047598     1527  96198   12.440369  129.933077    3  26.684674  95.258604   \n",
       "1047599     1528  96199    5.366553  119.509916    1  25.179898  93.794540   \n",
       "1047600     1529  96199   12.792669  131.701332    3  26.807428  95.549622   \n",
       "1047602     1531  96199   55.727551   64.666968   21  29.840215  81.413897   \n",
       "1047603     1532  96199   36.237406   81.277970   12  27.964767  85.612258   \n",
       "1047604     1533  96200    5.037362  119.725437    2  25.138580  93.845902   \n",
       "1047607     1536  96200   55.643265   65.665691   19  29.893409  81.590565   \n",
       "1047608     1537  96200   35.886667   81.513125    8  27.925765  85.674954   \n",
       "1047612     1541  96201   35.588112   82.795494    9  27.954419  85.911733   \n",
       "1047614     1543  96202   35.732263   83.882563   11  28.037838  86.087122   \n",
       "1047617     1546  96203   36.237152   83.826469    9  28.110443  86.045118   \n",
       "1047621     1550  96204    3.497693  124.055085    2  25.078809  94.645025   \n",
       "1047626     1555  96205    4.070136  125.382488    1  25.218865  94.844424   \n",
       "1047630     1559  96206    4.834926  126.712774    1  25.388243  95.036731   \n",
       "1047635     1564  96207    5.459093  128.459500    1  25.551833  95.306871   \n",
       "1047636     1565  96208    5.019293  130.137207    2  25.548459  95.611356   \n",
       "\n",
       "         ncells  num  threshold_value                 time  \\\n",
       "0           0.0   23                1  2006-01-01 01:00:00   \n",
       "5           0.0   20                1  2006-01-01 02:00:00   \n",
       "8           0.0   19                1  2006-01-01 03:00:00   \n",
       "11          0.0   17                1  2006-01-01 04:00:00   \n",
       "26         17.0   17                1  2006-01-01 10:00:00   \n",
       "27         11.0   18                1  2006-01-01 10:00:00   \n",
       "28         52.0   14                4  2006-01-01 10:00:00   \n",
       "30          0.0   21                1  2006-01-01 11:00:00   \n",
       "31          0.0   11                2  2006-01-01 11:00:00   \n",
       "32         50.0   11                5  2006-01-01 11:00:00   \n",
       "33        203.0   15                5  2006-01-01 11:00:00   \n",
       "34         15.0   15                1  2006-01-01 12:00:00   \n",
       "35         16.0   11                2  2006-01-01 12:00:00   \n",
       "36        106.0   14                4  2006-01-01 12:00:00   \n",
       "37        113.0   13                5  2006-01-01 12:00:00   \n",
       "39         13.0   17                1  2006-01-01 13:00:00   \n",
       "40         17.0   12                2  2006-01-01 13:00:00   \n",
       "42         79.0   12                3  2006-01-01 13:00:00   \n",
       "43         43.0   29                3  2006-01-01 13:00:00   \n",
       "44         21.0   22                1  2006-01-01 14:00:00   \n",
       "45         20.0   20                1  2006-01-01 14:00:00   \n",
       "46        220.0   24                3  2006-01-01 14:00:00   \n",
       "47         17.0   18                1  2006-01-01 15:00:00   \n",
       "49         33.0   11                2  2006-01-01 15:00:00   \n",
       "50        162.0   30                3  2006-01-01 15:00:00   \n",
       "51         15.0   16                1  2006-01-01 16:00:00   \n",
       "52         27.0   28                1  2006-01-01 16:00:00   \n",
       "54         36.0   14                3  2006-01-01 16:00:00   \n",
       "56         11.0   11                1  2006-01-01 17:00:00   \n",
       "57         18.0   17                1  2006-01-01 17:00:00   \n",
       "...         ...  ...              ...                  ...   \n",
       "1047573    14.0   14                1  2016-12-30 05:00:00   \n",
       "1047578     8.0   14                1  2016-12-31 08:00:00   \n",
       "1047579     7.0   12                1  2016-12-31 08:00:00   \n",
       "1047580     9.0   14                1  2016-12-31 08:00:00   \n",
       "1047581    13.0   15                1  2016-12-31 09:00:00   \n",
       "1047583     0.0   29                1  2016-12-31 09:00:00   \n",
       "1047584    11.0   13                2  2016-12-31 09:00:00   \n",
       "1047585     0.0   29                1  2016-12-31 10:00:00   \n",
       "1047588    15.0   16                1  2016-12-31 10:00:00   \n",
       "1047589    20.0   13                2  2016-12-31 10:00:00   \n",
       "1047591     0.0   11                3  2016-12-31 10:00:00   \n",
       "1047592    17.0   17                1  2016-12-31 11:00:00   \n",
       "1047595    22.0   23                1  2016-12-31 11:00:00   \n",
       "1047597    23.0   14                3  2016-12-31 11:00:00   \n",
       "1047598    21.0   14                3  2016-12-31 11:00:00   \n",
       "1047599    17.0   27                1  2016-12-31 12:00:00   \n",
       "1047600     0.0   33                1  2016-12-31 12:00:00   \n",
       "1047602     9.0   16                1  2016-12-31 12:00:00   \n",
       "1047603    33.0   12                2  2016-12-31 12:00:00   \n",
       "1047604     9.0   11                1  2016-12-31 13:00:00   \n",
       "1047607    24.0   25                1  2016-12-31 13:00:00   \n",
       "1047608     0.0   15                2  2016-12-31 13:00:00   \n",
       "1047612    13.0   11                2  2016-12-31 14:00:00   \n",
       "1047614    13.0   14                1  2016-12-31 15:00:00   \n",
       "1047617    10.0   13                1  2016-12-31 16:00:00   \n",
       "1047621     8.0   12                1  2016-12-31 17:00:00   \n",
       "1047626    13.0   11                2  2016-12-31 18:00:00   \n",
       "1047630    12.0   13                2  2016-12-31 19:00:00   \n",
       "1047635    26.0   11                4  2016-12-31 20:00:00   \n",
       "1047636    28.0   17                2  2016-12-31 21:00:00   \n",
       "\n",
       "                     timestr      cell time_cell  \n",
       "0        2006-01-01 01:00:00       1.0  00:00:00  \n",
       "5        2006-01-01 02:00:00       1.0  01:00:00  \n",
       "8        2006-01-01 03:00:00       1.0  02:00:00  \n",
       "11       2006-01-01 04:00:00       1.0  03:00:00  \n",
       "26       2006-01-01 10:00:00      21.0  00:00:00  \n",
       "27       2006-01-01 10:00:00      22.0  00:00:00  \n",
       "28       2006-01-01 10:00:00      23.0  00:00:00  \n",
       "30       2006-01-01 11:00:00      22.0  01:00:00  \n",
       "31       2006-01-01 11:00:00      21.0  01:00:00  \n",
       "32       2006-01-01 11:00:00      23.0  01:00:00  \n",
       "33       2006-01-01 11:00:00      25.0  00:00:00  \n",
       "34       2006-01-01 12:00:00      22.0  02:00:00  \n",
       "35       2006-01-01 12:00:00      21.0  02:00:00  \n",
       "36       2006-01-01 12:00:00      23.0  02:00:00  \n",
       "37       2006-01-01 12:00:00      25.0  01:00:00  \n",
       "39       2006-01-01 13:00:00      22.0  03:00:00  \n",
       "40       2006-01-01 13:00:00      21.0  03:00:00  \n",
       "42       2006-01-01 13:00:00      23.0  03:00:00  \n",
       "43       2006-01-01 13:00:00      25.0  02:00:00  \n",
       "44       2006-01-01 14:00:00      21.0  04:00:00  \n",
       "45       2006-01-01 14:00:00      22.0  04:00:00  \n",
       "46       2006-01-01 14:00:00      25.0  03:00:00  \n",
       "47       2006-01-01 15:00:00      21.0  05:00:00  \n",
       "49       2006-01-01 15:00:00      29.0  00:00:00  \n",
       "50       2006-01-01 15:00:00      25.0  04:00:00  \n",
       "51       2006-01-01 16:00:00      21.0  06:00:00  \n",
       "52       2006-01-01 16:00:00      29.0  01:00:00  \n",
       "54       2006-01-01 16:00:00      31.0  00:00:00  \n",
       "56       2006-01-01 17:00:00      21.0  07:00:00  \n",
       "57       2006-01-01 17:00:00      33.0  00:00:00  \n",
       "...                      ...       ...       ...  \n",
       "1047573  2016-12-30 05:00:00  560997.0  03:00:00  \n",
       "1047578  2016-12-31 08:00:00  561001.0  00:00:00  \n",
       "1047579  2016-12-31 08:00:00  561002.0  00:00:00  \n",
       "1047580  2016-12-31 08:00:00  561003.0  00:00:00  \n",
       "1047581  2016-12-31 09:00:00  561002.0  01:00:00  \n",
       "1047583  2016-12-31 09:00:00  561003.0  01:00:00  \n",
       "1047584  2016-12-31 09:00:00  561001.0  01:00:00  \n",
       "1047585  2016-12-31 10:00:00  561003.0  02:00:00  \n",
       "1047588  2016-12-31 10:00:00  561007.0  00:00:00  \n",
       "1047589  2016-12-31 10:00:00  561002.0  02:00:00  \n",
       "1047591  2016-12-31 10:00:00  561001.0  02:00:00  \n",
       "1047592  2016-12-31 11:00:00  561003.0  03:00:00  \n",
       "1047595  2016-12-31 11:00:00  561007.0  01:00:00  \n",
       "1047597  2016-12-31 11:00:00  561001.0  03:00:00  \n",
       "1047598  2016-12-31 11:00:00  561002.0  03:00:00  \n",
       "1047599  2016-12-31 12:00:00  561001.0  04:00:00  \n",
       "1047600  2016-12-31 12:00:00  561002.0  04:00:00  \n",
       "1047602  2016-12-31 12:00:00  561007.0  02:00:00  \n",
       "1047603  2016-12-31 12:00:00  561009.0  00:00:00  \n",
       "1047604  2016-12-31 13:00:00  561001.0  05:00:00  \n",
       "1047607  2016-12-31 13:00:00  561007.0  03:00:00  \n",
       "1047608  2016-12-31 13:00:00  561009.0  01:00:00  \n",
       "1047612  2016-12-31 14:00:00  561009.0  02:00:00  \n",
       "1047614  2016-12-31 15:00:00  561009.0  03:00:00  \n",
       "1047617  2016-12-31 16:00:00  561009.0  04:00:00  \n",
       "1047621  2016-12-31 17:00:00  561019.0  00:00:00  \n",
       "1047626  2016-12-31 18:00:00  561019.0  01:00:00  \n",
       "1047630  2016-12-31 19:00:00  561019.0  02:00:00  \n",
       "1047635  2016-12-31 20:00:00  561019.0  03:00:00  \n",
       "1047636  2016-12-31 21:00:00  561019.0  04:00:00  \n",
       "\n",
       "[336672 rows x 14 columns]"
      ]
     },
     "execution_count": 9,
     "metadata": {},
     "output_type": "execute_result"
    }
   ],
   "source": [
    "Track"
   ]
  },
  {
   "cell_type": "code",
   "execution_count": 8,
   "metadata": {},
   "outputs": [
    {
     "data": {
      "image/png": "[encoded data removed]",
      "text/plain": [
       "<Figure size 576x396 with 1 Axes>"
      ]
     },
     "metadata": {},
     "output_type": "display_data"
    }
   ],
   "source": [
    "# Lifetimes of tracked features:\n",
    "\n",
    "plt.style.use('seaborn')\n",
    "plt.rcParams.update({'font.size': 25,\n",
    "                     'xtick.labelsize' : 25,\n",
    "                     'ytick.labelsize' : 25})\n",
    "\n",
    "\n",
    "fig_lifetime,ax_lifetime= plt.subplots()\n",
    "tobac.plot_lifetime_histogram_bar(Track,axes=ax_lifetime,bin_edges=np.arange(180,1000,10),density=False,width_bar = 30, color='k')\n",
    "ax_lifetime.set_xlabel('lifetime (min)', fontsize = '25')\n",
    "ax_lifetime.set_ylabel('counts', fontsize = '25')\n",
    "\n",
    "\n",
    "# save figure to image file \n",
    "plt.savefig('/media/juli/Data/third_pole/mcs_tracking/tobac_plots/lifetime_CNRR_2006-2016.png')"
   ]
  },
  {
   "cell_type": "code",
   "execution_count": 17,
   "metadata": {},
   "outputs": [],
   "source": [
    "# Distribution over travel speeds:\n",
    "\n",
    "plt.style.use('seaborn')\n",
    "plt.rcParams.update({'font.size': 25,\n",
    "                     'xtick.labelsize' : 25,\n",
    "                     'ytick.labelsize' : 25})\n",
    "\n",
    "\n",
    "heights, bins = tobac.velocity_histogram(Track, bin_edges=np.array([ 0,  1,  2,  3,  4,  5,  6,  7,  8,  9, 10, 11, 12, 13, 14, 15, 16,\n",
    "           17, 18, 19, 20, 21, 22, 23, 24, 25, 26, 27, 28, 29]), density=False, method_distance=None, return_values=False)"
   ]
  },
  {
   "cell_type": "code",
   "execution_count": 18,
   "metadata": {},
   "outputs": [
    {
     "data": {
      "image/png": "[encoded data removed]",
      "text/plain": [
       "<Figure size 1440x1224 with 1 Axes>"
      ]
     },
     "metadata": {},
     "output_type": "display_data"
    }
   ],
   "source": [
    "plt.style.use('seaborn')\n",
    "plt.rcParams.update({'font.size': 30,\n",
    "             'xtick.labelsize' : 30,\n",
    "             'ytick.labelsize' : 30})\n",
    "plt.figure(figsize=(20, 17))\n",
    "\n",
    "plt.subplot(2,2,1)\n",
    "plt.bar(bins[:-1], heights, width = 0.9, color='k')\n",
    "plt.ylabel('counts', fontsize= 30)\n",
    "plt.xlabel('velocity m s$^{-1}$', fontsize= 30)\n",
    "\n",
    "#plt.plot(bins[:-1], heights)\n",
    "\n",
    "\n",
    "# save figure to image file \n",
    "plt.savefig('/media/juli/Data/third_pole/mcs_tracking/tobac_plots/hist_velocity_CNRR.png')"
   ]
  },
  {
   "cell_type": "code",
   "execution_count": 36,
   "metadata": {},
   "outputs": [],
   "source": [
    "durations= []\n",
    "cells = []\n",
    "for c in np.unique(Track.cell):\n",
    "    duration= (np.shape(Track.loc[Track.cell == c ])[0])\n",
    "    if duration > 6:\n",
    "        durations.append(duration)\n",
    "        cells.append(c)"
   ]
  },
  {
   "cell_type": "code",
   "execution_count": 56,
   "metadata": {},
   "outputs": [],
   "source": [
    "durations= np.array(durations)\n",
    "durations = np.flip(np.sort(durations), axis =0 )\n",
    "strongest = durations[0:1000]\n",
    "\n",
    "cells = np.flip(np.sort(cells), axis =0 )\n",
    "strongest_cells = cells[0:1000]\n"
   ]
  },
  {
   "cell_type": "code",
   "execution_count": 57,
   "metadata": {},
   "outputs": [],
   "source": [
    "i = 0 \n",
    "for c in strongest_cells:\n",
    "    if i == 0:\n",
    "        df= Track.loc[Track.cell == c ]\n",
    "        i+=1 \n",
    "    else:\n",
    "        df= df.append(Track.loc[Track.cell == c ])"
   ]
  },
  {
   "cell_type": "code",
   "execution_count": 26,
   "metadata": {},
   "outputs": [],
   "source": [
    "a = [] \n",
    "for c in np.unique(Track.cell):\n",
    "    a.append(np.shape(Track.loc[Track['cell'] == c ])[0])"
   ]
  },
  {
   "cell_type": "code",
   "execution_count": 54,
   "metadata": {},
   "outputs": [
    {
     "data": {
      "text/plain": [
       "14"
      ]
     },
     "execution_count": 54,
     "metadata": {},
     "output_type": "execute_result"
    }
   ],
   "source": [
    "np.min(strongest)"
   ]
  },
  {
   "cell_type": "code",
   "execution_count": null,
   "metadata": {},
   "outputs": [],
   "source": [
    "subset= df"
   ]
  },
  {
   "cell_type": "code",
   "execution_count": null,
   "metadata": {},
   "outputs": [],
   "source": [
    "import cartopy.crs as ccrs\n",
    "from cartopy.feature import ShapelyFeature\n",
    "from cartopy.io.shapereader import Reader\n",
    "\n",
    "\n",
    "\n",
    "shpfilename= '/media/juli/Data/master_thesis/Master_thesis/data/DBATP/DBATP'\n",
    "#reader = shpreader.Reader(shpfilename)\n",
    "\n",
    "shape_feature = ShapelyFeature(Reader(shpfilename).geometries(),\n",
    "                                ccrs.PlateCarree(),facecolor='none', edgecolor='black' , linewidth = 2.0)\n",
    "\n",
    "axis_extent= [70, 110, 25.0, 45 ]\n",
    "\n",
    "# Plot map with all individual tracks:\n",
    "import tobac\n",
    "import cartopy.crs as ccrs\n",
    "fig_map,ax_map=plt.subplots(figsize=(20,20),subplot_kw={'projection': ccrs.PlateCarree()})\n",
    "ax_map=tobac.map_tracks(Track,axis_extent = axis_extent, axes=ax_map)\n",
    "\n",
    "# Plot TP boundary polyline from shapefile \n",
    "#ax_map.add_feature(shape_feature)\n",
    "plt.ylabel('Lat', fontsize= '25')\n",
    "plt.xlabel('Lon', fontsize= '25')\n",
    "\n",
    "plt.savefig('/media/juli/Data/third_pole/mcs_tracking/tobac_plots/tracks_TP_CNRR_longest_projection.png')\n",
    "\n",
    "\n",
    "\n"
   ]
  },
  {
   "cell_type": "code",
   "execution_count": null,
   "metadata": {},
   "outputs": [],
   "source": []
  },
  {
   "cell_type": "code",
   "execution_count": null,
   "metadata": {},
   "outputs": [],
   "source": []
  },
  {
   "cell_type": "code",
   "execution_count": null,
   "metadata": {},
   "outputs": [],
   "source": []
  },
  {
   "cell_type": "code",
   "execution_count": null,
   "metadata": {},
   "outputs": [],
   "source": []
  },
  {
   "cell_type": "code",
   "execution_count": 373,
   "metadata": {},
   "outputs": [
    {
     "data": {
      "text/plain": [
       "array([1190])"
      ]
     },
     "execution_count": 373,
     "metadata": {},
     "output_type": "execute_result"
    }
   ],
   "source": [
    "arr = np.array(a)\n",
    "idx = np.where(arr == 159 )[0]\n",
    "arr2 = np.unique(Track.cell)\n",
    "index = arr2[idx]"
   ]
  },
  {
   "cell_type": "code",
   "execution_count": 381,
   "metadata": {},
   "outputs": [],
   "source": [
    "track1 = Track.loc[Track['cell']== 2108.0] "
   ]
  },
  {
   "cell_type": "markdown",
   "metadata": {},
   "source": [
    "## Plotting"
   ]
  },
  {
   "cell_type": "code",
   "execution_count": 539,
   "metadata": {},
   "outputs": [],
   "source": [
    "# Set extent of maps created in the following cells:\n",
    "axis_extent=[70,105,27,45] "
   ]
  },
  {
   "cell_type": "code",
   "execution_count": 542,
   "metadata": {},
   "outputs": [
    {
     "ename": "FileNotFoundError",
     "evalue": "[Errno 2] No such file or directory: 'SavePlot/tracks_TP.png'",
     "output_type": "error",
     "traceback": [
      "\u001b[0;31m---------------------------------------------------------------------------\u001b[0m",
      "\u001b[0;31mFileNotFoundError\u001b[0m                         Traceback (most recent call last)",
      "\u001b[0;32m<ipython-input-542-f37eb6d9631c>\u001b[0m in \u001b[0;36m<module>\u001b[0;34m\u001b[0m\n\u001b[1;32m      3\u001b[0m \u001b[0mfig_map\u001b[0m\u001b[0;34m,\u001b[0m\u001b[0max_map\u001b[0m\u001b[0;34m=\u001b[0m\u001b[0mplt\u001b[0m\u001b[0;34m.\u001b[0m\u001b[0msubplots\u001b[0m\u001b[0;34m(\u001b[0m\u001b[0mfigsize\u001b[0m\u001b[0;34m=\u001b[0m\u001b[0;34m(\u001b[0m\u001b[0;36m10\u001b[0m\u001b[0;34m,\u001b[0m\u001b[0;36m10\u001b[0m\u001b[0;34m)\u001b[0m\u001b[0;34m,\u001b[0m\u001b[0msubplot_kw\u001b[0m\u001b[0;34m=\u001b[0m\u001b[0;34m{\u001b[0m\u001b[0;34m'projection'\u001b[0m\u001b[0;34m:\u001b[0m \u001b[0mccrs\u001b[0m\u001b[0;34m.\u001b[0m\u001b[0mPlateCarree\u001b[0m\u001b[0;34m(\u001b[0m\u001b[0;34m)\u001b[0m\u001b[0;34m}\u001b[0m\u001b[0;34m)\u001b[0m\u001b[0;34m\u001b[0m\u001b[0;34m\u001b[0m\u001b[0m\n\u001b[1;32m      4\u001b[0m \u001b[0max_map\u001b[0m\u001b[0;34m=\u001b[0m\u001b[0mtobac\u001b[0m\u001b[0;34m.\u001b[0m\u001b[0mmap_tracks\u001b[0m\u001b[0;34m(\u001b[0m\u001b[0mTrack\u001b[0m\u001b[0;34m,\u001b[0m\u001b[0maxis_extent\u001b[0m\u001b[0;34m=\u001b[0m\u001b[0maxis_extent\u001b[0m\u001b[0;34m,\u001b[0m\u001b[0maxes\u001b[0m\u001b[0;34m=\u001b[0m\u001b[0max_map\u001b[0m\u001b[0;34m)\u001b[0m\u001b[0;34m\u001b[0m\u001b[0;34m\u001b[0m\u001b[0m\n\u001b[0;32m----> 5\u001b[0;31m \u001b[0mplt\u001b[0m\u001b[0;34m.\u001b[0m\u001b[0msavefig\u001b[0m\u001b[0;34m(\u001b[0m\u001b[0msavedir\u001b[0m\u001b[0;34m+\u001b[0m \u001b[0;34m'Plot/tracks_TP.png'\u001b[0m\u001b[0;34m)\u001b[0m\u001b[0;34m\u001b[0m\u001b[0;34m\u001b[0m\u001b[0m\n\u001b[0m",
      "\u001b[0;32m~/anaconda3/lib/python3.6/site-packages/matplotlib/pyplot.py\u001b[0m in \u001b[0;36msavefig\u001b[0;34m(*args, **kwargs)\u001b[0m\n\u001b[1;32m    714\u001b[0m \u001b[0;32mdef\u001b[0m \u001b[0msavefig\u001b[0m\u001b[0;34m(\u001b[0m\u001b[0;34m*\u001b[0m\u001b[0margs\u001b[0m\u001b[0;34m,\u001b[0m \u001b[0;34m**\u001b[0m\u001b[0mkwargs\u001b[0m\u001b[0;34m)\u001b[0m\u001b[0;34m:\u001b[0m\u001b[0;34m\u001b[0m\u001b[0;34m\u001b[0m\u001b[0m\n\u001b[1;32m    715\u001b[0m     \u001b[0mfig\u001b[0m \u001b[0;34m=\u001b[0m \u001b[0mgcf\u001b[0m\u001b[0;34m(\u001b[0m\u001b[0;34m)\u001b[0m\u001b[0;34m\u001b[0m\u001b[0;34m\u001b[0m\u001b[0m\n\u001b[0;32m--> 716\u001b[0;31m     \u001b[0mres\u001b[0m \u001b[0;34m=\u001b[0m \u001b[0mfig\u001b[0m\u001b[0;34m.\u001b[0m\u001b[0msavefig\u001b[0m\u001b[0;34m(\u001b[0m\u001b[0;34m*\u001b[0m\u001b[0margs\u001b[0m\u001b[0;34m,\u001b[0m \u001b[0;34m**\u001b[0m\u001b[0mkwargs\u001b[0m\u001b[0;34m)\u001b[0m\u001b[0;34m\u001b[0m\u001b[0;34m\u001b[0m\u001b[0m\n\u001b[0m\u001b[1;32m    717\u001b[0m     \u001b[0mfig\u001b[0m\u001b[0;34m.\u001b[0m\u001b[0mcanvas\u001b[0m\u001b[0;34m.\u001b[0m\u001b[0mdraw_idle\u001b[0m\u001b[0;34m(\u001b[0m\u001b[0;34m)\u001b[0m   \u001b[0;31m# need this if 'transparent=True' to reset colors\u001b[0m\u001b[0;34m\u001b[0m\u001b[0;34m\u001b[0m\u001b[0m\n\u001b[1;32m    718\u001b[0m     \u001b[0;32mreturn\u001b[0m \u001b[0mres\u001b[0m\u001b[0;34m\u001b[0m\u001b[0;34m\u001b[0m\u001b[0m\n",
      "\u001b[0;32m~/anaconda3/lib/python3.6/site-packages/matplotlib/figure.py\u001b[0m in \u001b[0;36msavefig\u001b[0;34m(self, fname, transparent, **kwargs)\u001b[0m\n\u001b[1;32m   2178\u001b[0m             \u001b[0mself\u001b[0m\u001b[0;34m.\u001b[0m\u001b[0mpatch\u001b[0m\u001b[0;34m.\u001b[0m\u001b[0mset_visible\u001b[0m\u001b[0;34m(\u001b[0m\u001b[0mframeon\u001b[0m\u001b[0;34m)\u001b[0m\u001b[0;34m\u001b[0m\u001b[0;34m\u001b[0m\u001b[0m\n\u001b[1;32m   2179\u001b[0m \u001b[0;34m\u001b[0m\u001b[0m\n\u001b[0;32m-> 2180\u001b[0;31m         \u001b[0mself\u001b[0m\u001b[0;34m.\u001b[0m\u001b[0mcanvas\u001b[0m\u001b[0;34m.\u001b[0m\u001b[0mprint_figure\u001b[0m\u001b[0;34m(\u001b[0m\u001b[0mfname\u001b[0m\u001b[0;34m,\u001b[0m \u001b[0;34m**\u001b[0m\u001b[0mkwargs\u001b[0m\u001b[0;34m)\u001b[0m\u001b[0;34m\u001b[0m\u001b[0;34m\u001b[0m\u001b[0m\n\u001b[0m\u001b[1;32m   2181\u001b[0m \u001b[0;34m\u001b[0m\u001b[0m\n\u001b[1;32m   2182\u001b[0m         \u001b[0;32mif\u001b[0m \u001b[0mframeon\u001b[0m\u001b[0;34m:\u001b[0m\u001b[0;34m\u001b[0m\u001b[0;34m\u001b[0m\u001b[0m\n",
      "\u001b[0;32m~/anaconda3/lib/python3.6/site-packages/matplotlib/backend_bases.py\u001b[0m in \u001b[0;36mprint_figure\u001b[0;34m(self, filename, dpi, facecolor, edgecolor, orientation, format, bbox_inches, **kwargs)\u001b[0m\n\u001b[1;32m   2080\u001b[0m                     \u001b[0morientation\u001b[0m\u001b[0;34m=\u001b[0m\u001b[0morientation\u001b[0m\u001b[0;34m,\u001b[0m\u001b[0;34m\u001b[0m\u001b[0;34m\u001b[0m\u001b[0m\n\u001b[1;32m   2081\u001b[0m                     \u001b[0mbbox_inches_restore\u001b[0m\u001b[0;34m=\u001b[0m\u001b[0m_bbox_inches_restore\u001b[0m\u001b[0;34m,\u001b[0m\u001b[0;34m\u001b[0m\u001b[0;34m\u001b[0m\u001b[0m\n\u001b[0;32m-> 2082\u001b[0;31m                     **kwargs)\n\u001b[0m\u001b[1;32m   2083\u001b[0m             \u001b[0;32mfinally\u001b[0m\u001b[0;34m:\u001b[0m\u001b[0;34m\u001b[0m\u001b[0;34m\u001b[0m\u001b[0m\n\u001b[1;32m   2084\u001b[0m                 \u001b[0;32mif\u001b[0m \u001b[0mbbox_inches\u001b[0m \u001b[0;32mand\u001b[0m \u001b[0mrestore_bbox\u001b[0m\u001b[0;34m:\u001b[0m\u001b[0;34m\u001b[0m\u001b[0;34m\u001b[0m\u001b[0m\n",
      "\u001b[0;32m~/anaconda3/lib/python3.6/site-packages/matplotlib/backends/backend_agg.py\u001b[0m in \u001b[0;36mprint_png\u001b[0;34m(self, filename_or_obj, metadata, pil_kwargs, *args, **kwargs)\u001b[0m\n\u001b[1;32m    528\u001b[0m             \u001b[0mrenderer\u001b[0m \u001b[0;34m=\u001b[0m \u001b[0mself\u001b[0m\u001b[0;34m.\u001b[0m\u001b[0mget_renderer\u001b[0m\u001b[0;34m(\u001b[0m\u001b[0;34m)\u001b[0m\u001b[0;34m\u001b[0m\u001b[0;34m\u001b[0m\u001b[0m\n\u001b[1;32m    529\u001b[0m             \u001b[0;32mwith\u001b[0m \u001b[0mcbook\u001b[0m\u001b[0;34m.\u001b[0m\u001b[0m_setattr_cm\u001b[0m\u001b[0;34m(\u001b[0m\u001b[0mrenderer\u001b[0m\u001b[0;34m,\u001b[0m \u001b[0mdpi\u001b[0m\u001b[0;34m=\u001b[0m\u001b[0mself\u001b[0m\u001b[0;34m.\u001b[0m\u001b[0mfigure\u001b[0m\u001b[0;34m.\u001b[0m\u001b[0mdpi\u001b[0m\u001b[0;34m)\u001b[0m\u001b[0;34m,\u001b[0m\u001b[0;31m \u001b[0m\u001b[0;31m\\\u001b[0m\u001b[0;34m\u001b[0m\u001b[0;34m\u001b[0m\u001b[0m\n\u001b[0;32m--> 530\u001b[0;31m                     \u001b[0mcbook\u001b[0m\u001b[0;34m.\u001b[0m\u001b[0mopen_file_cm\u001b[0m\u001b[0;34m(\u001b[0m\u001b[0mfilename_or_obj\u001b[0m\u001b[0;34m,\u001b[0m \u001b[0;34m\"wb\"\u001b[0m\u001b[0;34m)\u001b[0m \u001b[0;32mas\u001b[0m \u001b[0mfh\u001b[0m\u001b[0;34m:\u001b[0m\u001b[0;34m\u001b[0m\u001b[0;34m\u001b[0m\u001b[0m\n\u001b[0m\u001b[1;32m    531\u001b[0m                 _png.write_png(renderer._renderer, fh,\n\u001b[1;32m    532\u001b[0m                                self.figure.dpi, metadata=metadata)\n",
      "\u001b[0;32m~/anaconda3/lib/python3.6/contextlib.py\u001b[0m in \u001b[0;36m__enter__\u001b[0;34m(self)\u001b[0m\n\u001b[1;32m     79\u001b[0m     \u001b[0;32mdef\u001b[0m \u001b[0m__enter__\u001b[0m\u001b[0;34m(\u001b[0m\u001b[0mself\u001b[0m\u001b[0;34m)\u001b[0m\u001b[0;34m:\u001b[0m\u001b[0;34m\u001b[0m\u001b[0;34m\u001b[0m\u001b[0m\n\u001b[1;32m     80\u001b[0m         \u001b[0;32mtry\u001b[0m\u001b[0;34m:\u001b[0m\u001b[0;34m\u001b[0m\u001b[0;34m\u001b[0m\u001b[0m\n\u001b[0;32m---> 81\u001b[0;31m             \u001b[0;32mreturn\u001b[0m \u001b[0mnext\u001b[0m\u001b[0;34m(\u001b[0m\u001b[0mself\u001b[0m\u001b[0;34m.\u001b[0m\u001b[0mgen\u001b[0m\u001b[0;34m)\u001b[0m\u001b[0;34m\u001b[0m\u001b[0;34m\u001b[0m\u001b[0m\n\u001b[0m\u001b[1;32m     82\u001b[0m         \u001b[0;32mexcept\u001b[0m \u001b[0mStopIteration\u001b[0m\u001b[0;34m:\u001b[0m\u001b[0;34m\u001b[0m\u001b[0;34m\u001b[0m\u001b[0m\n\u001b[1;32m     83\u001b[0m             \u001b[0;32mraise\u001b[0m \u001b[0mRuntimeError\u001b[0m\u001b[0;34m(\u001b[0m\u001b[0;34m\"generator didn't yield\"\u001b[0m\u001b[0;34m)\u001b[0m \u001b[0;32mfrom\u001b[0m \u001b[0;32mNone\u001b[0m\u001b[0;34m\u001b[0m\u001b[0;34m\u001b[0m\u001b[0m\n",
      "\u001b[0;32m~/anaconda3/lib/python3.6/site-packages/matplotlib/cbook/__init__.py\u001b[0m in \u001b[0;36mopen_file_cm\u001b[0;34m(path_or_file, mode, encoding)\u001b[0m\n\u001b[1;32m    445\u001b[0m \u001b[0;32mdef\u001b[0m \u001b[0mopen_file_cm\u001b[0m\u001b[0;34m(\u001b[0m\u001b[0mpath_or_file\u001b[0m\u001b[0;34m,\u001b[0m \u001b[0mmode\u001b[0m\u001b[0;34m=\u001b[0m\u001b[0;34m\"r\"\u001b[0m\u001b[0;34m,\u001b[0m \u001b[0mencoding\u001b[0m\u001b[0;34m=\u001b[0m\u001b[0;32mNone\u001b[0m\u001b[0;34m)\u001b[0m\u001b[0;34m:\u001b[0m\u001b[0;34m\u001b[0m\u001b[0;34m\u001b[0m\u001b[0m\n\u001b[1;32m    446\u001b[0m     \u001b[0;34mr\"\"\"Pass through file objects and context-manage `.PathLike`\\s.\"\"\"\u001b[0m\u001b[0;34m\u001b[0m\u001b[0;34m\u001b[0m\u001b[0m\n\u001b[0;32m--> 447\u001b[0;31m     \u001b[0mfh\u001b[0m\u001b[0;34m,\u001b[0m \u001b[0mopened\u001b[0m \u001b[0;34m=\u001b[0m \u001b[0mto_filehandle\u001b[0m\u001b[0;34m(\u001b[0m\u001b[0mpath_or_file\u001b[0m\u001b[0;34m,\u001b[0m \u001b[0mmode\u001b[0m\u001b[0;34m,\u001b[0m \u001b[0;32mTrue\u001b[0m\u001b[0;34m,\u001b[0m \u001b[0mencoding\u001b[0m\u001b[0;34m)\u001b[0m\u001b[0;34m\u001b[0m\u001b[0;34m\u001b[0m\u001b[0m\n\u001b[0m\u001b[1;32m    448\u001b[0m     \u001b[0;32mif\u001b[0m \u001b[0mopened\u001b[0m\u001b[0;34m:\u001b[0m\u001b[0;34m\u001b[0m\u001b[0;34m\u001b[0m\u001b[0m\n\u001b[1;32m    449\u001b[0m         \u001b[0;32mwith\u001b[0m \u001b[0mfh\u001b[0m\u001b[0;34m:\u001b[0m\u001b[0;34m\u001b[0m\u001b[0;34m\u001b[0m\u001b[0m\n",
      "\u001b[0;32m~/anaconda3/lib/python3.6/site-packages/matplotlib/cbook/__init__.py\u001b[0m in \u001b[0;36mto_filehandle\u001b[0;34m(fname, flag, return_opened, encoding)\u001b[0m\n\u001b[1;32m    430\u001b[0m             \u001b[0mfh\u001b[0m \u001b[0;34m=\u001b[0m \u001b[0mbz2\u001b[0m\u001b[0;34m.\u001b[0m\u001b[0mBZ2File\u001b[0m\u001b[0;34m(\u001b[0m\u001b[0mfname\u001b[0m\u001b[0;34m,\u001b[0m \u001b[0mflag\u001b[0m\u001b[0;34m)\u001b[0m\u001b[0;34m\u001b[0m\u001b[0;34m\u001b[0m\u001b[0m\n\u001b[1;32m    431\u001b[0m         \u001b[0;32melse\u001b[0m\u001b[0;34m:\u001b[0m\u001b[0;34m\u001b[0m\u001b[0;34m\u001b[0m\u001b[0m\n\u001b[0;32m--> 432\u001b[0;31m             \u001b[0mfh\u001b[0m \u001b[0;34m=\u001b[0m \u001b[0mopen\u001b[0m\u001b[0;34m(\u001b[0m\u001b[0mfname\u001b[0m\u001b[0;34m,\u001b[0m \u001b[0mflag\u001b[0m\u001b[0;34m,\u001b[0m \u001b[0mencoding\u001b[0m\u001b[0;34m=\u001b[0m\u001b[0mencoding\u001b[0m\u001b[0;34m)\u001b[0m\u001b[0;34m\u001b[0m\u001b[0;34m\u001b[0m\u001b[0m\n\u001b[0m\u001b[1;32m    433\u001b[0m         \u001b[0mopened\u001b[0m \u001b[0;34m=\u001b[0m \u001b[0;32mTrue\u001b[0m\u001b[0;34m\u001b[0m\u001b[0;34m\u001b[0m\u001b[0m\n\u001b[1;32m    434\u001b[0m     \u001b[0;32melif\u001b[0m \u001b[0mhasattr\u001b[0m\u001b[0;34m(\u001b[0m\u001b[0mfname\u001b[0m\u001b[0;34m,\u001b[0m \u001b[0;34m'seek'\u001b[0m\u001b[0;34m)\u001b[0m\u001b[0;34m:\u001b[0m\u001b[0;34m\u001b[0m\u001b[0;34m\u001b[0m\u001b[0m\n",
      "\u001b[0;31mFileNotFoundError\u001b[0m: [Errno 2] No such file or directory: 'SavePlot/tracks_TP.png'"
     ]
    },
    {
     "data": {
      "image/png": "[encoded data removed]",
      "text/plain": [
       "<Figure size 720x720 with 1 Axes>"
      ]
     },
     "metadata": {
      "needs_background": "light"
     },
     "output_type": "display_data"
    }
   ],
   "source": [
    "# Plot map with all individual tracks:\n",
    "import cartopy.crs as ccrs\n",
    "fig_map,ax_map=plt.subplots(figsize=(10,10),subplot_kw={'projection': ccrs.PlateCarree()})\n",
    "ax_map=tobac.map_tracks(Track,axis_extent=axis_extent,axes=ax_map)"
   ]
  },
  {
   "cell_type": "code",
   "execution_count": 547,
   "metadata": {},
   "outputs": [
    {
     "data": {
      "text/plain": [
       "<Figure size 432x288 with 0 Axes>"
      ]
     },
     "metadata": {},
     "output_type": "display_data"
    }
   ],
   "source": [
    "plt.savefig(plot_dir+ '/tracks_TP.png')"
   ]
  },
  {
   "cell_type": "code",
   "execution_count": 23,
   "metadata": {},
   "outputs": [
    {
     "name": "stdout",
     "output_type": "stream",
     "text": [
      "(360, 480) (360, 480) (744, 360, 480)\n"
     ]
    }
   ],
   "source": [
    "print(np.shape(lats), np.shape(lons), np.shape(precip))"
   ]
  },
  {
   "cell_type": "code",
   "execution_count": 60,
   "metadata": {},
   "outputs": [
    {
     "name": "stdout",
     "output_type": "stream",
     "text": [
      "Help on function add_aux_coord in module iris.cube:\n",
      "\n",
      "add_aux_coord(self, coord, data_dims=None)\n",
      "    Adds a CF auxiliary coordinate to the cube.\n",
      "    \n",
      "    Args:\n",
      "    \n",
      "    * coord\n",
      "        The :class:`iris.coords.DimCoord` or :class:`iris.coords.AuxCoord`\n",
      "        instance to add to the cube.\n",
      "    \n",
      "    Kwargs:\n",
      "    \n",
      "    * data_dims\n",
      "        Integer or iterable of integers giving the data dimensions spanned\n",
      "        by the coordinate.\n",
      "    \n",
      "    Raises a ValueError if a coordinate with identical metadata already\n",
      "    exists on the cube.\n",
      "    \n",
      "    See also :meth:`Cube.remove_coord()<iris.cube.Cube.remove_coord>`.\n",
      "\n"
     ]
    }
   ],
   "source": [
    "from iris.cube import Cube\n",
    "help(Cube.add_aux_coord)"
   ]
  },
  {
   "cell_type": "markdown",
   "metadata": {},
   "source": [
    "# Calculate features...."
   ]
  },
  {
   "cell_type": "code",
   "execution_count": 8,
   "metadata": {},
   "outputs": [
    {
     "name": "stderr",
     "output_type": "stream",
     "text": [
      "/home/juli/anaconda3/lib/python3.6/site-packages/pandas/core/generic.py:2377: PerformanceWarning: \n",
      "your performance may suffer as PyTables will pickle object types that it cannot\n",
      "map directly to c-types [inferred_type->mixed,key->block2_values] [items->['time', 'timestr']]\n",
      "\n",
      "  return pytables.to_hdf(path_or_buf, key, self, **kwargs)\n"
     ]
    },
    {
     "name": "stdout",
     "output_type": "stream",
     "text": [
      "....features nearest neighbordistance saved.\n"
     ]
    }
   ],
   "source": [
    "Features = tobac.calculate_nearestneighbordistance(Features, method_distance=None)\n",
    "Features.to_hdf(os.path.join(savedir,'Features_cnrr_merged_nn.h5'),'table')\n",
    "print('....features nearest neighbordistance saved.')    "
   ]
  },
  {
   "cell_type": "markdown",
   "metadata": {},
   "source": [
    "# Calculate CNRR area"
   ]
  },
  {
   "cell_type": "code",
   "execution_count": 7,
   "metadata": {},
   "outputs": [],
   "source": [
    "import glob\n",
    "# read in HDF5 files with saved features\n",
    "file_list= glob.glob(savedir  + '/Features_CNRR_??????.h5')  \n",
    "file_list.sort()\n"
   ]
  },
  {
   "cell_type": "code",
   "execution_count": 8,
   "metadata": {},
   "outputs": [
    {
     "ename": "ValueError",
     "evalue": "2D latitude/longitude coordinates not supported yet",
     "output_type": "error",
     "traceback": [
      "\u001b[0;31m---------------------------------------------------------------------------\u001b[0m",
      "\u001b[0;31mValueError\u001b[0m                                Traceback (most recent call last)",
      "\u001b[0;32m<ipython-input-8-37fda2b39ab7>\u001b[0m in \u001b[0;36m<module>\u001b[0;34m\u001b[0m\n\u001b[1;32m      8\u001b[0m     \u001b[0mmask\u001b[0m \u001b[0;34m=\u001b[0m \u001b[0miris\u001b[0m\u001b[0;34m.\u001b[0m\u001b[0mload_cube\u001b[0m\u001b[0;34m(\u001b[0m\u001b[0mf\u001b[0m\u001b[0;34m,\u001b[0m \u001b[0;34m'segmentation_mask'\u001b[0m\u001b[0;34m)\u001b[0m\u001b[0;34m\u001b[0m\u001b[0;34m\u001b[0m\u001b[0m\n\u001b[1;32m      9\u001b[0m \u001b[0;34m\u001b[0m\u001b[0m\n\u001b[0;32m---> 10\u001b[0;31m     \u001b[0mFeatures_area\u001b[0m\u001b[0;34m=\u001b[0m \u001b[0mtobac\u001b[0m\u001b[0;34m.\u001b[0m\u001b[0manalysis\u001b[0m\u001b[0;34m.\u001b[0m\u001b[0mcalculate_area\u001b[0m\u001b[0;34m(\u001b[0m\u001b[0mFeatures\u001b[0m\u001b[0;34m,\u001b[0m \u001b[0mmask\u001b[0m\u001b[0;34m)\u001b[0m\u001b[0;34m\u001b[0m\u001b[0;34m\u001b[0m\u001b[0m\n\u001b[0m\u001b[1;32m     11\u001b[0m     \u001b[0mFeatures_area\u001b[0m\u001b[0;34m.\u001b[0m\u001b[0mto_hdf\u001b[0m\u001b[0;34m(\u001b[0m\u001b[0mos\u001b[0m\u001b[0;34m.\u001b[0m\u001b[0mpath\u001b[0m\u001b[0;34m.\u001b[0m\u001b[0mjoin\u001b[0m\u001b[0;34m(\u001b[0m\u001b[0msavedir\u001b[0m\u001b[0;34m,\u001b[0m\u001b[0;34m'Features_area'\u001b[0m\u001b[0;34m+\u001b[0m\u001b[0mdate\u001b[0m\u001b[0;34m+\u001b[0m\u001b[0;34m'.h5'\u001b[0m\u001b[0;34m)\u001b[0m\u001b[0;34m,\u001b[0m\u001b[0;34m'table'\u001b[0m\u001b[0;34m)\u001b[0m\u001b[0;34m\u001b[0m\u001b[0;34m\u001b[0m\u001b[0m\n\u001b[1;32m     12\u001b[0m     \u001b[0mprint\u001b[0m\u001b[0;34m(\u001b[0m\u001b[0;34m'....area for'\u001b[0m\u001b[0;34m,\u001b[0m \u001b[0mfile\u001b[0m\u001b[0;34m,\u001b[0m \u001b[0;34m'calculated and saved.'\u001b[0m\u001b[0;34m)\u001b[0m\u001b[0;34m\u001b[0m\u001b[0;34m\u001b[0m\u001b[0m\n",
      "\u001b[0;32m~/anaconda3/lib/python3.6/site-packages/tobac/analysis.py\u001b[0m in \u001b[0;36mcalculate_area\u001b[0;34m(features, mask, method_area)\u001b[0m\n\u001b[1;32m    292\u001b[0m             \u001b[0marea\u001b[0m\u001b[0;34m=\u001b[0m\u001b[0marea_weights\u001b[0m\u001b[0;34m(\u001b[0m\u001b[0mmask\u001b[0m\u001b[0;34m,\u001b[0m\u001b[0mnormalize\u001b[0m\u001b[0;34m=\u001b[0m\u001b[0;32mFalse\u001b[0m\u001b[0;34m)\u001b[0m\u001b[0;34m\u001b[0m\u001b[0;34m\u001b[0m\u001b[0m\n\u001b[1;32m    293\u001b[0m         \u001b[0;32melif\u001b[0m \u001b[0mmask\u001b[0m\u001b[0;34m.\u001b[0m\u001b[0mcoord\u001b[0m\u001b[0;34m(\u001b[0m\u001b[0;34m'latitude'\u001b[0m\u001b[0;34m)\u001b[0m\u001b[0;34m.\u001b[0m\u001b[0mndim\u001b[0m\u001b[0;34m==\u001b[0m\u001b[0;36m2\u001b[0m \u001b[0;32mand\u001b[0m \u001b[0mmask\u001b[0m\u001b[0;34m.\u001b[0m\u001b[0mcoord\u001b[0m\u001b[0;34m(\u001b[0m\u001b[0;34m'longitude'\u001b[0m\u001b[0;34m)\u001b[0m\u001b[0;34m.\u001b[0m\u001b[0mndim\u001b[0m\u001b[0;34m==\u001b[0m\u001b[0;36m2\u001b[0m\u001b[0;34m:\u001b[0m\u001b[0;34m\u001b[0m\u001b[0;34m\u001b[0m\u001b[0m\n\u001b[0;32m--> 294\u001b[0;31m             \u001b[0;32mraise\u001b[0m \u001b[0mValueError\u001b[0m\u001b[0;34m(\u001b[0m\u001b[0;34m'2D latitude/longitude coordinates not supported yet'\u001b[0m\u001b[0;34m)\u001b[0m\u001b[0;34m\u001b[0m\u001b[0;34m\u001b[0m\u001b[0m\n\u001b[0m\u001b[1;32m    295\u001b[0m             \u001b[0;31m# area=calculate_areas_2Dlatlon(mask.coord('latitude'),mask.coord('longitude'))\u001b[0m\u001b[0;34m\u001b[0m\u001b[0;34m\u001b[0m\u001b[0;34m\u001b[0m\u001b[0m\n\u001b[1;32m    296\u001b[0m         \u001b[0;32melse\u001b[0m\u001b[0;34m:\u001b[0m\u001b[0;34m\u001b[0m\u001b[0;34m\u001b[0m\u001b[0m\n",
      "\u001b[0;31mValueError\u001b[0m: 2D latitude/longitude coordinates not supported yet"
     ]
    }
   ],
   "source": [
    "for file in file_list[14::]:\n",
    "    # read in features \n",
    "    Features = pd.read_hdf(file, 'table')\n",
    "    date= file[len(file)-9 : len(file)- 3]\n",
    "\n",
    "    # read in data mask \n",
    "    f = savedir+ '/Mask_Segmentation_precip'+str(date)+ '.nc'\n",
    "    mask = iris.load_cube(f, 'segmentation_mask')  \n",
    "\n",
    "    Features_area= tobac.analysis.calculate_area(Features, mask)\n",
    "    Features_area.to_hdf(os.path.join(savedir,'Features_area'+date+'.h5'),'table')\n",
    "    print('....area for', file, 'calculated and saved.')    "
   ]
  },
  {
   "cell_type": "code",
   "execution_count": null,
   "metadata": {},
   "outputs": [],
   "source": []
  },
  {
   "cell_type": "code",
   "execution_count": null,
   "metadata": {},
   "outputs": [],
   "source": []
  }
 ],
 "metadata": {
  "kernelspec": {
   "display_name": "Python 3",
   "language": "python",
   "name": "python3"
  },
  "language_info": {
   "codemirror_mode": {
    "name": "ipython",
    "version": 3
   },
   "file_extension": ".py",
   "mimetype": "text/x-python",
   "name": "python",
   "nbconvert_exporter": "python",
   "pygments_lexer": "ipython3",
   "version": "3.6.7"
  }
 },
 "nbformat": 4,
 "nbformat_minor": 2
}
