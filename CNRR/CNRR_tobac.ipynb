{
 "cells": [
  {
   "cell_type": "markdown",
   "metadata": {},
   "source": [
    "# CNRR reanalysis data for the Tibetan Plateau region "
   ]
  },
  {
   "cell_type": "code",
   "execution_count": 2,
   "metadata": {},
   "outputs": [],
   "source": [
    "# Import a range of python libraries used in this notebook:\n",
    "import iris\n",
    "import numpy as np\n",
    "import pandas as pd\n",
    "import os,sys\n",
    "import matplotlib.pyplot as plt\n",
    "import iris.plot as iplt\n",
    "import iris.quickplot as qplt\n",
    "import urllib,zipfile\n",
    "import datetime\n",
    "from netCDF4 import Dataset\n",
    "%matplotlib inline"
   ]
  },
  {
   "cell_type": "markdown",
   "metadata": {},
   "source": [
    "##  Analysis possible for parameters:\n",
    "\n",
    "-  uwd, vwd\n",
    "-  water vapor mixing ratio \n",
    "\n",
    "for background conditions \n",
    "\n",
    "-  CNRR GSISAT hourly surface rain rates \n",
    "\n",
    "for tracking "
   ]
  },
  {
   "cell_type": "code",
   "execution_count": 16,
   "metadata": {},
   "outputs": [],
   "source": [
    "path='/media/juli/Data/third_pole/1997_mon05.nc4'\n",
    "ds = Dataset(path)"
   ]
  },
  {
   "cell_type": "code",
   "execution_count": 13,
   "metadata": {},
   "outputs": [],
   "source": [
    "precip = np.array(ds['prcp'])"
   ]
  },
  {
   "cell_type": "code",
   "execution_count": 14,
   "metadata": {},
   "outputs": [
    {
     "data": {
      "text/plain": [
       "(744, 360, 480)"
      ]
     },
     "execution_count": 14,
     "metadata": {},
     "output_type": "execute_result"
    }
   ],
   "source": [
    "np.shape(precip)"
   ]
  },
  {
   "cell_type": "markdown",
   "metadata": {},
   "source": [
    "# TODO before using in tobac \n",
    "\n",
    "- extract LAT and LON values from daily surface data \n",
    "- add to input dataframe (either in netCDF or later in iris cube)\n",
    "- extract domain \n",
    "- splitmon for all years \n",
    "- check whether calendar and time axis is correctly defined "
   ]
  }
 ],
 "metadata": {
  "kernelspec": {
   "display_name": "Python 3",
   "language": "python",
   "name": "python3"
  },
  "language_info": {
   "codemirror_mode": {
    "name": "ipython",
    "version": 3
   },
   "file_extension": ".py",
   "mimetype": "text/x-python",
   "name": "python",
   "nbconvert_exporter": "python",
   "pygments_lexer": "ipython3",
   "version": "3.6.7"
  }
 },
 "nbformat": 4,
 "nbformat_minor": 2
}
