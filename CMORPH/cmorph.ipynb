{
 "cells": [
  {
   "cell_type": "markdown",
   "metadata": {},
   "source": [
    "## Data download CMORPH"
   ]
  },
  {
   "cell_type": "code",
   "execution_count": 270,
   "metadata": {},
   "outputs": [],
   "source": [
    "import wget\n",
    "import urllib"
   ]
  },
  {
   "cell_type": "code",
   "execution_count": 274,
   "metadata": {},
   "outputs": [
    {
     "data": {
      "text/plain": [
       "('/media/juli/Elements/CMORPH_30min8km/CMORPH_V1.0_ADJ_8km-30min_201701.tar',\n",
       " <email.message.Message at 0x7fb6bd7df080>)"
      ]
     },
     "execution_count": 274,
     "metadata": {},
     "output_type": "execute_result"
    }
   ],
   "source": [
    "# test with one file\n",
    "urllib.request.urlretrieve('ftp://ftp.cpc.ncep.noaa.gov/precip/CMORPH_V1.0/CRT/8km-30min/2017/CMORPH_V1.0_ADJ_8km-30min_201701.tar', filename= '/media/juli/Elements/CMORPH_30min8km/CMORPH_V1.0_ADJ_8km-30min_201701.tar')"
   ]
  },
  {
   "cell_type": "code",
   "execution_count": 286,
   "metadata": {},
   "outputs": [
    {
     "name": "stdout",
     "output_type": "stream",
     "text": [
      "download year    2015\n",
      "downloading  ftp://ftp.cpc.ncep.noaa.gov/precip/CMORPH_V1.0/CRT/8km-30min/2015/CMORPH_V1.0_ADJ_8km-30min_201501.tar ...........................\n",
      "CMORPH_V1.0_ADJ_8km-30min_2017050506\n",
      "downloading  ftp://ftp.cpc.ncep.noaa.gov/precip/CMORPH_V1.0/CRT/8km-30min/2015/CMORPH_V1.0_ADJ_8km-30min_201502.tar ...........................\n",
      "CMORPH_V1.0_ADJ_8km-30min_2017050506\n",
      "downloading  ftp://ftp.cpc.ncep.noaa.gov/precip/CMORPH_V1.0/CRT/8km-30min/2015/CMORPH_V1.0_ADJ_8km-30min_201503.tar ...........................\n",
      "CMORPH_V1.0_ADJ_8km-30min_2017050506\n",
      "downloading  ftp://ftp.cpc.ncep.noaa.gov/precip/CMORPH_V1.0/CRT/8km-30min/2015/CMORPH_V1.0_ADJ_8km-30min_201504.tar ...........................\n",
      "CMORPH_V1.0_ADJ_8km-30min_2017050506\n",
      "downloading  ftp://ftp.cpc.ncep.noaa.gov/precip/CMORPH_V1.0/CRT/8km-30min/2015/CMORPH_V1.0_ADJ_8km-30min_201505.tar ...........................\n",
      "CMORPH_V1.0_ADJ_8km-30min_2017050506\n",
      "downloading  ftp://ftp.cpc.ncep.noaa.gov/precip/CMORPH_V1.0/CRT/8km-30min/2015/CMORPH_V1.0_ADJ_8km-30min_201506.tar ...........................\n",
      "CMORPH_V1.0_ADJ_8km-30min_2017050506\n",
      "downloading  ftp://ftp.cpc.ncep.noaa.gov/precip/CMORPH_V1.0/CRT/8km-30min/2015/CMORPH_V1.0_ADJ_8km-30min_201507.tar ...........................\n",
      "CMORPH_V1.0_ADJ_8km-30min_2017050506\n",
      "downloading  ftp://ftp.cpc.ncep.noaa.gov/precip/CMORPH_V1.0/CRT/8km-30min/2015/CMORPH_V1.0_ADJ_8km-30min_201508.tar ...........................\n",
      "CMORPH_V1.0_ADJ_8km-30min_2017050506\n",
      "downloading  ftp://ftp.cpc.ncep.noaa.gov/precip/CMORPH_V1.0/CRT/8km-30min/2015/CMORPH_V1.0_ADJ_8km-30min_201509.tar ...........................\n",
      "CMORPH_V1.0_ADJ_8km-30min_2017050506\n",
      "downloading  ftp://ftp.cpc.ncep.noaa.gov/precip/CMORPH_V1.0/CRT/8km-30min/2015/CMORPH_V1.0_ADJ_8km-30min_201510.tar ...........................\n",
      "CMORPH_V1.0_ADJ_8km-30min_2017050506\n",
      "downloading  ftp://ftp.cpc.ncep.noaa.gov/precip/CMORPH_V1.0/CRT/8km-30min/2015/CMORPH_V1.0_ADJ_8km-30min_201511.tar ...........................\n",
      "CMORPH_V1.0_ADJ_8km-30min_2017050506\n",
      "downloading  ftp://ftp.cpc.ncep.noaa.gov/precip/CMORPH_V1.0/CRT/8km-30min/2015/CMORPH_V1.0_ADJ_8km-30min_201512.tar ...........................\n",
      "CMORPH_V1.0_ADJ_8km-30min_2017050506\n",
      "download year    2016\n",
      "downloading  ftp://ftp.cpc.ncep.noaa.gov/precip/CMORPH_V1.0/CRT/8km-30min/2016/CMORPH_V1.0_ADJ_8km-30min_201601.tar ...........................\n",
      "CMORPH_V1.0_ADJ_8km-30min_2017050506\n",
      "downloading  ftp://ftp.cpc.ncep.noaa.gov/precip/CMORPH_V1.0/CRT/8km-30min/2016/CMORPH_V1.0_ADJ_8km-30min_201602.tar ...........................\n",
      "CMORPH_V1.0_ADJ_8km-30min_2017050506\n",
      "downloading  ftp://ftp.cpc.ncep.noaa.gov/precip/CMORPH_V1.0/CRT/8km-30min/2016/CMORPH_V1.0_ADJ_8km-30min_201603.tar ...........................\n",
      "CMORPH_V1.0_ADJ_8km-30min_2017050506\n",
      "downloading  ftp://ftp.cpc.ncep.noaa.gov/precip/CMORPH_V1.0/CRT/8km-30min/2016/CMORPH_V1.0_ADJ_8km-30min_201604.tar ...........................\n",
      "CMORPH_V1.0_ADJ_8km-30min_2017050506\n",
      "downloading  ftp://ftp.cpc.ncep.noaa.gov/precip/CMORPH_V1.0/CRT/8km-30min/2016/CMORPH_V1.0_ADJ_8km-30min_201605.tar ...........................\n",
      "CMORPH_V1.0_ADJ_8km-30min_2017050506\n",
      "downloading  ftp://ftp.cpc.ncep.noaa.gov/precip/CMORPH_V1.0/CRT/8km-30min/2016/CMORPH_V1.0_ADJ_8km-30min_201606.tar ...........................\n",
      "CMORPH_V1.0_ADJ_8km-30min_2017050506\n",
      "downloading  ftp://ftp.cpc.ncep.noaa.gov/precip/CMORPH_V1.0/CRT/8km-30min/2016/CMORPH_V1.0_ADJ_8km-30min_201607.tar ...........................\n",
      "CMORPH_V1.0_ADJ_8km-30min_2017050506\n",
      "downloading  ftp://ftp.cpc.ncep.noaa.gov/precip/CMORPH_V1.0/CRT/8km-30min/2016/CMORPH_V1.0_ADJ_8km-30min_201608.tar ...........................\n",
      "CMORPH_V1.0_ADJ_8km-30min_2017050506\n",
      "downloading  ftp://ftp.cpc.ncep.noaa.gov/precip/CMORPH_V1.0/CRT/8km-30min/2016/CMORPH_V1.0_ADJ_8km-30min_201609.tar ...........................\n",
      "CMORPH_V1.0_ADJ_8km-30min_2017050506\n",
      "downloading  ftp://ftp.cpc.ncep.noaa.gov/precip/CMORPH_V1.0/CRT/8km-30min/2016/CMORPH_V1.0_ADJ_8km-30min_201610.tar ...........................\n",
      "CMORPH_V1.0_ADJ_8km-30min_2017050506\n",
      "downloading  ftp://ftp.cpc.ncep.noaa.gov/precip/CMORPH_V1.0/CRT/8km-30min/2016/CMORPH_V1.0_ADJ_8km-30min_201611.tar ...........................\n",
      "CMORPH_V1.0_ADJ_8km-30min_2017050506\n",
      "downloading  ftp://ftp.cpc.ncep.noaa.gov/precip/CMORPH_V1.0/CRT/8km-30min/2016/CMORPH_V1.0_ADJ_8km-30min_201612.tar ...........................\n",
      "CMORPH_V1.0_ADJ_8km-30min_2017050506\n",
      "download year    2017\n",
      "downloading  ftp://ftp.cpc.ncep.noaa.gov/precip/CMORPH_V1.0/CRT/8km-30min/2017/CMORPH_V1.0_ADJ_8km-30min_201701.tar ...........................\n",
      "CMORPH_V1.0_ADJ_8km-30min_2017050506\n",
      "downloading  ftp://ftp.cpc.ncep.noaa.gov/precip/CMORPH_V1.0/CRT/8km-30min/2017/CMORPH_V1.0_ADJ_8km-30min_201702.tar ...........................\n",
      "CMORPH_V1.0_ADJ_8km-30min_2017050506\n",
      "downloading  ftp://ftp.cpc.ncep.noaa.gov/precip/CMORPH_V1.0/CRT/8km-30min/2017/CMORPH_V1.0_ADJ_8km-30min_201703.tar ...........................\n",
      "CMORPH_V1.0_ADJ_8km-30min_2017050506\n",
      "downloading  ftp://ftp.cpc.ncep.noaa.gov/precip/CMORPH_V1.0/CRT/8km-30min/2017/CMORPH_V1.0_ADJ_8km-30min_201704.tar ...........................\n",
      "CMORPH_V1.0_ADJ_8km-30min_2017050506\n",
      "downloading  ftp://ftp.cpc.ncep.noaa.gov/precip/CMORPH_V1.0/CRT/8km-30min/2017/CMORPH_V1.0_ADJ_8km-30min_201705.tar ...........................\n",
      "CMORPH_V1.0_ADJ_8km-30min_2017050506\n",
      "downloading  ftp://ftp.cpc.ncep.noaa.gov/precip/CMORPH_V1.0/CRT/8km-30min/2017/CMORPH_V1.0_ADJ_8km-30min_201706.tar ...........................\n",
      "CMORPH_V1.0_ADJ_8km-30min_2017050506\n",
      "downloading  ftp://ftp.cpc.ncep.noaa.gov/precip/CMORPH_V1.0/CRT/8km-30min/2017/CMORPH_V1.0_ADJ_8km-30min_201707.tar ...........................\n",
      "CMORPH_V1.0_ADJ_8km-30min_2017050506\n",
      "downloading  ftp://ftp.cpc.ncep.noaa.gov/precip/CMORPH_V1.0/CRT/8km-30min/2017/CMORPH_V1.0_ADJ_8km-30min_201708.tar ...........................\n",
      "CMORPH_V1.0_ADJ_8km-30min_2017050506\n",
      "downloading  ftp://ftp.cpc.ncep.noaa.gov/precip/CMORPH_V1.0/CRT/8km-30min/2017/CMORPH_V1.0_ADJ_8km-30min_201709.tar ...........................\n",
      "CMORPH_V1.0_ADJ_8km-30min_2017050506\n",
      "downloading  ftp://ftp.cpc.ncep.noaa.gov/precip/CMORPH_V1.0/CRT/8km-30min/2017/CMORPH_V1.0_ADJ_8km-30min_201710.tar ...........................\n",
      "CMORPH_V1.0_ADJ_8km-30min_2017050506\n",
      "downloading  ftp://ftp.cpc.ncep.noaa.gov/precip/CMORPH_V1.0/CRT/8km-30min/2017/CMORPH_V1.0_ADJ_8km-30min_201711.tar ...........................\n",
      "CMORPH_V1.0_ADJ_8km-30min_2017050506\n",
      "downloading  ftp://ftp.cpc.ncep.noaa.gov/precip/CMORPH_V1.0/CRT/8km-30min/2017/CMORPH_V1.0_ADJ_8km-30min_201712.tar ...........................\n",
      "CMORPH_V1.0_ADJ_8km-30min_2017050506\n"
     ]
    }
   ],
   "source": [
    "out = '/media/juli/Elements/CMORPH_30min8km/'\n",
    "months = ['01', '02', '03', '04', '05', '06', '07', '08', '09', '10', '11', '12']\n",
    "years= ['2015', '2016', '2017']\n",
    "\n",
    "# populate dictionary with all files which have to be downloaded \n",
    "for y in years:\n",
    "    print('download year   ', y)\n",
    "    url_dic= {} \n",
    "    url = 'ftp://ftp.cpc.ncep.noaa.gov/precip/CMORPH_V1.0/CRT/8km-30min/'+y+'/'\n",
    "    for m in months:\n",
    "        url_dic[m]= url+'CMORPH_V1.0_ADJ_8km-30min_'+y +  m +'.tar'\n",
    "        \n",
    "    # download and print filenames belonging to respective year\n",
    "    for l in url_dic:\n",
    "        print('downloading ', url_dic[l], '...........................')\n",
    "        urllib.request.urlretrieve(url_dic[l], filename= out + url_dic[l][66::] )\n",
    "        print(filename)\n",
    "    \n",
    "        "
   ]
  },
  {
   "cell_type": "code",
   "execution_count": null,
   "metadata": {},
   "outputs": [],
   "source": []
  },
  {
   "cell_type": "markdown",
   "metadata": {},
   "source": [
    "## Read in CMORPH data in binary format "
   ]
  },
  {
   "cell_type": "code",
   "execution_count": 210,
   "metadata": {},
   "outputs": [],
   "source": [
    "import numpy as np\n",
    "import array\n",
    "import pandas as pd\n",
    "import xarray as xr\n",
    "import matplotlib.pyplot as plt"
   ]
  },
  {
   "cell_type": "code",
   "execution_count": 225,
   "metadata": {},
   "outputs": [],
   "source": [
    "file=  '/media/juli/Elements/CMORPH_30min8km/201705/CMORPH_V1.0_ADJ_8km-30min_2017050506'"
   ]
  },
  {
   "cell_type": "code",
   "execution_count": 226,
   "metadata": {},
   "outputs": [],
   "source": [
    "Latitude =  27\n",
    "Longitude = 70\n",
    "gridspacing_lon = 0.072756669\n",
    "gridspacing_lat = 0.072771377\n",
    "lat_index = int(np.round(abs(-59.963614 - Latitude) / gridspacing_lat))\n",
    "lon_index = int(np.round(abs(0.036378335 + Longitude) / gridspacing_lon))\n",
    "lat2= 45\n",
    "lon2= 105\n",
    "lat_index2 = int(np.round(abs(-59.963614 - lat2) / gridspacing_lat))\n",
    "lon_index2 = int(np.round(abs(0.036378335 + lon2) / gridspacing_lon))"
   ]
  },
  {
   "cell_type": "code",
   "execution_count": 227,
   "metadata": {},
   "outputs": [],
   "source": [
    "# get files in directory\n",
    "file = '/media/juli/Elements/CMORPH_30min8km/201705/CMORPH_V1.0_ADJ_8km-30min_2017050506'\n",
    "file= str(file)\n",
    "\n",
    "# Extract filename and date attributes\n",
    "filename = str(file[44::])\n",
    "year=filename[26:30]\n",
    "month=filename[30:32]\n",
    "day=filename[32:34]\n",
    "hour= filename[34:36]\n"
   ]
  },
  {
   "cell_type": "code",
   "execution_count": 228,
   "metadata": {},
   "outputs": [],
   "source": [
    "with open(file, mode='rb') as f: # b is important -> binary\n",
    "    fileContent = f.read()"
   ]
  },
  {
   "cell_type": "code",
   "execution_count": 229,
   "metadata": {},
   "outputs": [],
   "source": [
    "data= open(file, 'r')"
   ]
  },
  {
   "cell_type": "code",
   "execution_count": 256,
   "metadata": {},
   "outputs": [],
   "source": [
    "f= open(file, mode='rb') # b = binary format "
   ]
  },
  {
   "cell_type": "code",
   "execution_count": 257,
   "metadata": {},
   "outputs": [],
   "source": [
    "# fread is a matlab function to read in binary formatted data to array \n",
    "\n",
    "# in python: \n",
    "import array\n",
    "a = array.array('f')  # L is the typecode for uint32\n",
    "a.fromfile(f, 4948*1649)\n",
    "a= np.array(a)"
   ]
  },
  {
   "cell_type": "code",
   "execution_count": 258,
   "metadata": {},
   "outputs": [],
   "source": [
    "#a[a < 0] = np.nan\n",
    "np.shape(a)\n",
    "a= np.reshape(a,(4948,1649))"
   ]
  },
  {
   "cell_type": "code",
   "execution_count": 259,
   "metadata": {},
   "outputs": [
    {
     "data": {
      "image/png": "[encoded data removed]",
      "text/plain": [
       "<Figure size 720x720 with 1 Axes>"
      ]
     },
     "metadata": {
      "needs_background": "light"
     },
     "output_type": "display_data"
    }
   ],
   "source": [
    "plt.figure(figsize= (10,10))\n",
    "plt.imshow(a, cmap= 'viridis')\n",
    "plt.show()\n"
   ]
  },
  {
   "cell_type": "code",
   "execution_count": 246,
   "metadata": {},
   "outputs": [],
   "source": [
    "# Return fileobject  \n",
    "f= open(file, mode='rb') # b = binary format \n",
    "\n",
    "# Each file contains 2 layers for each half hour there is one layer\n",
    "for i in np.arange(2):\n",
    "    # fread the openen rainfall binary data with dimensions 4948*1648\n",
    "    # use real*4 for floating points with 32 bytes\n",
    "    \n",
    "    a = array.array('f')  # L is the typecode for uint32\n",
    "    a.fromfile(f, 4948*1649)\n",
    "    data= np.array(a)\n",
    "\n",
    "    #data = np.fromfile(file, dtype= float,count =4948*1649,sep= (\"\"))\n",
    "    data= np.reshape(data, (4948,1649))\n",
    "\n",
    "    #Extract rainfal from lon, lat location as mm/hr\n",
    "    rainfall = Rain[lon_index:lon_index2, lat_index:lat_index2] * 0.2\n",
    "    \n",
    "    # Store information in new row\n",
    "    \n",
    "    # data to xarray \n",
    "    xarray = xr.DataArray(rainfall)\n",
    "\n",
    "    \n",
    "    #save data as netcdf file \n",
    "    output_path= '/media/juli/Elements/CMORPH_30min8km/cmorph_'+ str(year) + str(month) + str(day) + str(hour)+ '.nc4'\n",
    "    xarray.to_netcdf(output_path, mode = 'w', format='netCDF4') \n",
    "\n",
    "    \n",
    "f.close()\n",
    "    \n",
    "    \n"
   ]
  },
  {
   "cell_type": "code",
   "execution_count": 224,
   "metadata": {},
   "outputs": [],
   "source": [
    "# lon and lat info \n",
    "# two layers "
   ]
  },
  {
   "cell_type": "markdown",
   "metadata": {},
   "source": [
    "- what to choose for count parameter in fromfile function ? \n",
    "- how is the binary file structures? \n",
    "- how to get the two layers? "
   ]
  }
 ],
 "metadata": {
  "kernelspec": {
   "display_name": "Python 3",
   "language": "python",
   "name": "python3"
  },
  "language_info": {
   "codemirror_mode": {
    "name": "ipython",
    "version": 3
   },
   "file_extension": ".py",
   "mimetype": "text/x-python",
   "name": "python",
   "nbconvert_exporter": "python",
   "pygments_lexer": "ipython3",
   "version": "3.7.2"
  }
 },
 "nbformat": 4,
 "nbformat_minor": 2
}
