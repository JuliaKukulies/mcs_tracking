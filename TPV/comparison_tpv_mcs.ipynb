{
 "cells": [
  {
   "cell_type": "markdown",
   "metadata": {},
   "source": [
    "# Comparison TPV tracks and MCS observations "
   ]
  },
  {
   "cell_type": "code",
   "execution_count": 1,
   "metadata": {},
   "outputs": [],
   "source": [
    "import re\n",
    "import numpy as np\n",
    "import pandas as pd\n",
    "from tpv_analysis import get_tracks, check_overlap"
   ]
  },
  {
   "cell_type": "markdown",
   "metadata": {},
   "source": [
    "## Get TPV tracks "
   ]
  },
  {
   "cell_type": "code",
   "execution_count": 3,
   "metadata": {},
   "outputs": [],
   "source": [
    "filename='tpv_files_JuliaK/tpv_2010.real_time'\n",
    "tpv = get_tracks(filename, 2010)\n"
   ]
  },
  {
   "cell_type": "markdown",
   "metadata": {},
   "source": [
    "## Get MCS tracks "
   ]
  },
  {
   "cell_type": "code",
   "execution_count": 13,
   "metadata": {},
   "outputs": [],
   "source": [
    "# read in CTT tracks heavy rain core \n",
    "tbb = '/media/juli/Data/projects/data/satellite_data/ncep/ctt/Save/tcs/Tracks_2015_heavyraincore3mmoccurrence.h5'\n",
    "mcs= pd.read_hdf(tbb, 'table')\n",
    "mcs.timestr = pd.to_datetime(mcs.timestr) "
   ]
  },
  {
   "cell_type": "markdown",
   "metadata": {},
   "source": [
    "## Overlap check for 16 years of TCS and TPV  "
   ]
  },
  {
   "cell_type": "code",
   "execution_count": 21,
   "metadata": {},
   "outputs": [],
   "source": [
    "total_mcs= np.zeros((15,))\n",
    "total_tpv= np.zeros((15,))\n",
    "total_overlap= np.zeros((15,))\n",
    "\n",
    "for y in np.arange(2001,2016):\n",
    "    # tpv data \n",
    "    filename='tpv_files_JuliaK/tpv_' + str(y)+'.real_time'\n",
    "    tpv = get_tracks(filename, y)\n",
    "    \n",
    "    # mcs data \n",
    "    tbb = '/media/juli/Data/projects/data/satellite_data/ncep/ctt/Save/tcs/Tracks_'+ str(y)+ '_heavyraincore3mm.h5'\n",
    "    mcs= pd.read_hdf(tbb, 'table')\n",
    "    mcs.timestr = pd.to_datetime(mcs.timestr) \n",
    "    \n",
    "    # overlap check \n",
    "    i = y - 2001\n",
    "    mcs_count, no_mcs_count, no_tpv_count = check_overlap(tpv,mcs)\n",
    "    total_mcs[i] = np.sum(mcs_count)\n",
    "    total_tpv[i] = no_mcs_count\n",
    "    total_overlap[i] =  no_tpv_count    "
   ]
  },
  {
   "cell_type": "code",
   "execution_count": 39,
   "metadata": {},
   "outputs": [
    {
     "data": {
      "image/png": "[encoded data removed]",
      "text/plain": [
       "<Figure size 864x360 with 1 Axes>"
      ]
     },
     "metadata": {},
     "output_type": "display_data"
    }
   ],
   "source": [
    "import matplotlib.pyplot as plt\n",
    "import seaborn as sns \n",
    "sns.set()\n",
    "plt.figure(figsize= (12,5))\n",
    "years = np.arange(2001,2016)\n",
    "\n",
    "plt.bar(years, total_mcs, color = 'darkblue', label= 'MCS without TPV')\n",
    "plt.bar(years,  total_tpv, bottom = total_mcs,color = 'darkorange', label = 'TPV without MCS')\n",
    "plt.ylim(0,300)\n",
    "plt.xticks(years)\n",
    "plt.bar(years, total_overlap,bottom= total_mcs + total_tpv, color = 'deeppink', label = 'overlap')\n",
    "plt.legend()\n",
    "plt.show()"
   ]
  },
  {
   "cell_type": "code",
   "execution_count": null,
   "metadata": {},
   "outputs": [],
   "source": []
  },
  {
   "cell_type": "code",
   "execution_count": 117,
   "metadata": {},
   "outputs": [],
   "source": [
    "mcs_count, no_mcs_count, no_tpv_count = check_overlap(tpv,mcs)"
   ]
  },
  {
   "cell_type": "code",
   "execution_count": 121,
   "metadata": {},
   "outputs": [
    {
     "data": {
      "text/plain": [
       "663.0"
      ]
     },
     "execution_count": 121,
     "metadata": {},
     "output_type": "execute_result"
    }
   ],
   "source": [
    "no_tpv_count"
   ]
  },
  {
   "cell_type": "code",
   "execution_count": 118,
   "metadata": {},
   "outputs": [
    {
     "data": {
      "text/plain": [
       "array([ 0.,  0.,  2.,  0.,  4.,  5.,  3.,  4., 28., 65., 35.,  0.,  0.,\n",
       "        1.,  0.])"
      ]
     },
     "execution_count": 118,
     "metadata": {},
     "output_type": "execute_result"
    }
   ],
   "source": [
    "mcs_count"
   ]
  },
  {
   "cell_type": "markdown",
   "metadata": {},
   "source": [
    "- do the same per season \n",
    "- do it for complete data set \n",
    "- check what are the TPV that have multiple MCS associated with it "
   ]
  }
 ],
 "metadata": {
  "kernelspec": {
   "display_name": "Python 3",
   "language": "python",
   "name": "python3"
  },
  "language_info": {
   "codemirror_mode": {
    "name": "ipython",
    "version": 3
   },
   "file_extension": ".py",
   "mimetype": "text/x-python",
   "name": "python",
   "nbconvert_exporter": "python",
   "pygments_lexer": "ipython3",
   "version": "3.6.7"
  }
 },
 "nbformat": 4,
 "nbformat_minor": 2
}
