{
 "cells": [
  {
   "cell_type": "markdown",
   "metadata": {},
   "source": [
    "# read in CS output files as pandas data frames"
   ]
  },
  {
   "cell_type": "markdown",
   "metadata": {},
   "source": [
    "need to fix:\n",
    "- separated columns (space delimiter) \n",
    "- jump over when header comes again "
   ]
  },
  {
   "cell_type": "code",
   "execution_count": 79,
   "metadata": {},
   "outputs": [
    {
     "name": "stdout",
     "output_type": "stream",
     "text": [
      "                                                 begin...\n",
      "0                  <CTread yyyy mm dd lat lon time {1 5}>\n",
      "1                  CTread:  1995  1  1  28.00  89.00  0 0\n",
      "2                                     BEGIN SEARCH.......\n",
      "3        Opening TOC file ISCCP.CT.0.GLOBAL.19950101.1...\n",
      "4                                  Possible match  in GMS\n",
      "5        input file ISCCP.CT.0.GLOBAL.19940101.1994123...\n",
      "6                                    Searching for match \n",
      "7                                     reading CT database\n",
      "8        Satellite not available this month INS       ...\n",
      "9                                  Possible match  in GMS\n",
      "10       input file ISCCP.CT.0.GLOBAL.19950101.1995123...\n",
      "11                                   Searching for match \n",
      "12                                    reading CT database\n",
      "13       Satellite not available this month INS       ...\n",
      "14                          Number of Matches           4\n",
      "15       INFORMATION FOR MATCHING CS WITHIN FAMILY    ...\n",
      "16           TOTAL  CURR                              ...\n",
      "17      SAT   TIME  TIME  YEAR MONTH   DAY   GMT  SIZE...\n",
      "18       ---------------------------------------------...\n",
      "19      GMS   120    48  1995     1     1     0   542 ...\n",
      "20                     CT DATABASE FOR FAMILY        6964\n",
      "21                    FAM    FAM #PIXLS   LIFE        ...\n",
      "22      SAT    FAM    MAX    MIN  W/TMP  CYCLE ELAPSD ...\n",
      "23      POS    NUM   SIZE   TEMP  < 200  HOURS  HOURS ...\n",
      "24      GMS   6964    542   205.      0    120      0 ...\n",
      "25      GMS   6964    542   205.      0    120      3 ...\n",
      "26      GMS   6964    542   205.      0    120      6 ...\n",
      "27      GMS   6964    542   205.      0    120      9 ...\n",
      "28      GMS   6964    542   205.      0    120     12 ...\n",
      "29      GMS   6964    542   205.      0    120     15 ...\n",
      "...                                                   ...\n",
      "779236       TOTAL  CURR                              ...\n",
      "779237  SAT   TIME  TIME  YEAR MONTH   DAY   GMT  SIZE...\n",
      "779238   ---------------------------------------------...\n",
      "779239  GMS    12    12  1995     2    27     0   186 ...\n",
      "779240                 CT DATABASE FOR FAMILY        7196\n",
      "779241                FAM    FAM #PIXLS   LIFE        ...\n",
      "779242  SAT    FAM    MAX    MIN  W/TMP  CYCLE ELAPSD ...\n",
      "779243  POS    NUM   SIZE   TEMP  < 200  HOURS  HOURS ...\n",
      "779244  GMS   7196    186   223.      0     12      0 ...\n",
      "779245  GMS   7196    186   223.      0     12      3 ...\n",
      "779246  GMS   7196    186   223.      0     12      6 ...\n",
      "779247  GMS   7196    186   223.      0     12      9 ...\n",
      "779248  GMS   7196    186   223.      0     12     12 ...\n",
      "779249     ==============================================\n",
      "779250     ==============================================\n",
      "779251   INFORMATION FOR MATCHING CS WITHIN FAMILY    ...\n",
      "779252       TOTAL  CURR                              ...\n",
      "779253  SAT   TIME  TIME  YEAR MONTH   DAY   GMT  SIZE...\n",
      "779254   ---------------------------------------------...\n",
      "779255  GMS     9     9  1995     2    27     0   186 ...\n",
      "779256                 CT DATABASE FOR FAMILY        7234\n",
      "779257                FAM    FAM #PIXLS   LIFE        ...\n",
      "779258  SAT    FAM    MAX    MIN  W/TMP  CYCLE ELAPSD ...\n",
      "779259  POS    NUM   SIZE   TEMP  < 200  HOURS  HOURS ...\n",
      "779260  GMS   7234    186   225.      0      9      0 ...\n",
      "779261  GMS   7234    186   225.      0      9      3 ...\n",
      "779262  GMS   7234    186   225.      0      9      6 ...\n",
      "779263  GMS   7234    186   225.      0      9      9 ...\n",
      "779264     ==============================================\n",
      "779265     ==============================================\n",
      "\n",
      "[779266 rows x 1 columns]\n"
     ]
    }
   ],
   "source": [
    "import pandas as pd\n",
    "\n",
    "\n",
    "file= '/home/juli/Desktop/ThirdPole/ISCCP/CS_TP_1995_01.txt'\n",
    "data = pd.read_csv(file, skiprows= 0)\n",
    "\n",
    "print(data)\n",
    "#data.head()\n",
    "\n"
   ]
  }
 ],
 "metadata": {
  "kernelspec": {
   "display_name": "Python 3",
   "language": "python",
   "name": "python3"
  },
  "language_info": {
   "codemirror_mode": {
    "name": "ipython",
    "version": 3
   },
   "file_extension": ".py",
   "mimetype": "text/x-python",
   "name": "python",
   "nbconvert_exporter": "python",
   "pygments_lexer": "ipython3",
   "version": "3.7.2"
  }
 },
 "nbformat": 4,
 "nbformat_minor": 2
}
